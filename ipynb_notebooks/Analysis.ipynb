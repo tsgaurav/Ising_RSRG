{
 "cells": [
  {
   "cell_type": "code",
   "execution_count": 17,
   "id": "cd53d0f0",
   "metadata": {},
   "outputs": [],
   "source": [
    "%run ../aux_funcs.py\n",
    "%run ../RSRG.py\n",
    "%run ../RSRG_class.py\n",
    "#from iminuit import cost, Minuit"
   ]
  },
  {
   "cell_type": "code",
   "execution_count": 2,
   "id": "fa1843c6",
   "metadata": {},
   "outputs": [],
   "source": [
    "def linear_fit(x, m, b):\n",
    "    return m*x+b"
   ]
  },
  {
   "cell_type": "code",
   "execution_count": null,
   "id": "404c8121",
   "metadata": {},
   "outputs": [],
   "source": [
    "L = 40\n",
    "steps = 1400\n",
    "measure_step = 10\n",
    "\n",
    "a_vals = np.array([0.1])#np.arange(0.05, 0.2, 0.02)\n",
    "b_vals = np.array([0.105])#np.arange(0.1,0.3,0.03)\n",
    "\n",
    "J_ij_vals, h_vals, R0_array, mu_array = run_decimation(L, steps, measure_step, a_vals, b_vals, track_moments=True)"
   ]
  },
  {
   "cell_type": "code",
   "execution_count": null,
   "id": "acf82f27",
   "metadata": {},
   "outputs": [],
   "source": [
    "x = L*L - np.arange(len(R0_array))*measure_step\n",
    "y = 1/np.array(R0_array)\n",
    "R_length = len(y)\n",
    "\n",
    "plt.scatter(x, y, label='Width of exponential')#, yerr=np.sqrt(np.array(R0_array_err))/np.array(R0_array)**2)\n",
    "#plt.yscale('log')\n",
    "\n",
    "popt, pcov = curve_fit(power_law_scale, x[int(R_length/2):], y[int(R_length/2):])\n",
    "print(popt)\n",
    "print(popt[0]*2)\n",
    "\n",
    "plt.title(\"RG Flow of Field Distribution Scaling\")\n",
    "plt.xlabel(\"Remaining Spins (N)\")\n",
    "plt.ylabel(r\"$1/R_0(\\Gamma)$\")\n",
    "plt.plot(x, power_law_scale(x, *popt), color='red', label=r'Power Law fit ($\\psi=$'+str(round(popt[0]*2, 4))+')')\n",
    "\n",
    "plt.gca().invert_xaxis()\n",
    "plt.legend()\n",
    "plt.yscale('log')\n",
    "#plt.ylim(0, 1.5)"
   ]
  },
  {
   "cell_type": "code",
   "execution_count": null,
   "id": "95fc37a3",
   "metadata": {},
   "outputs": [],
   "source": [
    "x = np.log(L*L - np.arange(len(R0_array))*measure_step)\n",
    "y = np.log(mu_array)\n",
    "R_length = len(y)\n",
    "\n",
    "plt.scatter(x, y, label='Average moments')#, yerr=np.sqrt(np.array(R0_array_err))/np.array(R0_array)**2)\n",
    "#plt.yscale('log')\n",
    "\n",
    "popt, pcov = curve_fit(linear_fit, x[int(R_length/100):], y[int(R_length/100):])\n",
    "print(popt)\n",
    "\n",
    "plt.title(\"Scaling of Cluster moments\")\n",
    "plt.xlabel(\"Log Remaining Spins (N)\")\n",
    "plt.ylabel(r\"Log $(\\mu)$\")\n",
    "plt.plot(x, linear_fit(x, *popt), color='red', label=r'Linear Fit')\n",
    "\n",
    "plt.gca().invert_xaxis()\n",
    "plt.legend()\n",
    "\n",
    "#plt.ylim(0, 1.5)"
   ]
  },
  {
   "cell_type": "code",
   "execution_count": null,
   "id": "6ce208a9",
   "metadata": {},
   "outputs": [],
   "source": [
    "L = 60\n",
    "steps = int(0.99*L*L)\n",
    "a, b = 0.1, 0.105\n",
    "measure_step = 30\n",
    "\n",
    "ind_dict, adj_ind = triangle_lattice_dictionary(L)\n",
    "nn_ind = triangle_nn_indices(L)\n",
    "nnn_ind = triangle_nnn_indices(L)\n",
    "\n",
    "measure_list = np.floor(steps*(1/(1.1**np.arange(1,60))))\n",
    "measure_list = measure_list.astype(int)\n",
    "check_list = np.floor(L*L*(1- 1/(1.6**np.arange(10))))\n",
    "\n",
    "runs = 1"
   ]
  },
  {
   "cell_type": "code",
   "execution_count": null,
   "id": "8aa2d2fe",
   "metadata": {},
   "outputs": [],
   "source": []
  },
  {
   "cell_type": "code",
   "execution_count": null,
   "id": "9aa3f1c5",
   "metadata": {},
   "outputs": [],
   "source": [
    "a_vals = np.array([0.02, 0.04, 0.06, 0.08, 0.1, 0.12])\n",
    "b_vals = np.array([0.06])\n",
    "\n",
    "a_list = np.zeros(shape=(len(a_vals), 1+int(steps/measure_step)))\n",
    "b_list = np.zeros(shape=(len(b_vals), 1+int(steps/measure_step)))\n",
    "R0_array = np.zeros(shape=(len(a_vals), 1+int(steps/measure_step)))\n",
    "\n",
    "for run in range(runs):  \n",
    "    for a_ind, a in enumerate(a_vals):\n",
    "    #for b_ind, b in enumerate(b_vals):\n",
    "        J_ij_vals = fill_J_ij_matrix(L*L, nn_ind, nnn_ind, a, b)\n",
    "        h_vals = np.exp(-np.random.exponential(size=L*L))\n",
    "        test = system(L*L, adj_ind, J_ij_vals, h_vals)   \n",
    "\n",
    "        for i in range(steps):\n",
    "            test.decimate()\n",
    "            if i%measure_step==0:  #(L*L-i) in measure_list:#\n",
    "                ind = int(i/measure_step)#np.where(measure_list==(L*L-i))\n",
    "                R0_array[a_ind, ind] += extract_width(test.h_vals, test.Omega)\n",
    "                #R0_array[b_ind, ind] += m.values[0]\n",
    "                \n",
    "                a_sc = a/9\n",
    "                b_sc = b/9\n",
    "                #print(i)\n",
    "                J_remain = -np.log(sparse.find(test.J_ij_vals)[2])\n",
    "                x = np.linspace(0, (np.sqrt(a_sc**2 + 2*b_sc) - a_sc)/b_sc, len(J_remain))\n",
    "\n",
    "                n,bins = np.histogram(J_remain, density = 'True', bins=30)\n",
    "                width = bins[1]-bins[0]\n",
    "                popt, pcov = curve_fit(linDist, (bins[1:]-width/2), n)\n",
    "                a_list[a_ind, ind] += popt[0]\n",
    "                #b_list[b_ind, ind] += popt[1]\n",
    "                #plt.plot(x, np.array(linDist(x, *popt)))\n",
    "                \"\"\"\n",
    "                if i in check_list:\n",
    "                    h_remain = test.h_vals\n",
    "                    h_remain = h_remain[h_remain!=0]\n",
    "                    n,bins = np.histogram(-np.log(h_remain/test.Omega), density=True, bins = 60)\n",
    "                    width = bins[1]-bins[0]\n",
    "\n",
    "                    popt, pcov = curve_fit(exponential_dist_norm, (bins[1:]-width/2)[:20], n[:20])\n",
    "                    plt.scatter(bins[1:]-width/2, n, label=\"N=\"+str(L*L - i), s=10)\n",
    "                    plt.plot(bins[1:]-width/2, exponential_dist_norm(bins[1:]-width/2, *popt))\n",
    "                \"\"\"\n",
    "            if False:#i in check_list:\n",
    "                a_sc = a/9\n",
    "                b_sc = b/9\n",
    "                #print(i)\n",
    "                J_remain = -np.log(sparse.find(test.J_ij_vals)[2])\n",
    "                x = np.linspace(0, (np.sqrt(a_sc**2 + 2*b_sc) - a_sc)/b_sc, len(J_remain))\n",
    "\n",
    "                n,bins,patches = plt.hist(J_remain, density = 'True', bins=30)\n",
    "                width = bins[1]-bins[0]\n",
    "                popt, pcov = curve_fit(linDist, (bins[1:]-width/2), n)\n",
    "                a_list[a_ind, np.where(check_list==i)[0][0]] = popt[0]\n",
    "                plt.plot(x, np.array(linDist(x, *popt)))\n",
    "                \n",
    "\n",
    "#plt.xscale('log')\n",
    "\"\"\"\n",
    "plt.xlabel(r\"Log field coupling $\\beta$\")\n",
    "plt.ylabel(r\"Distribution $R(\\beta)$\")\n",
    "plt.title(\"Distribution of Field Couplings\")\n",
    "plt.yscale('log')\n",
    "plt.xlim(0.01, 4)\n",
    "plt.legend()\n",
    "plt.ylim(0.01, 1)\n",
    "\"\"\""
   ]
  },
  {
   "cell_type": "code",
   "execution_count": null,
   "id": "e7eb6edd",
   "metadata": {},
   "outputs": [],
   "source": [
    "x = L*L - np.arange(1+int(steps/measure_step))*measure_step\n",
    "for b_ind, b in enumerate(b_vals):\n",
    "    y = b_list[b_ind,:]*9/R0_array[b_ind,:]\n",
    "    plt.plot(x, y, marker='o', label=\"(\"+str(a)+\",\"+str(b)+\")\")\n",
    "plt.gca().invert_xaxis()\n",
    "plt.xscale('log')\n",
    "plt.ylim(-0.2, 0.5)\n",
    "\n",
    "plt.title(\"RG Flow of Bond Couplings\")\n",
    "plt.xlabel(\"Remaining Spins\")\n",
    "plt.ylabel(r\" Scaled slope parameter $P(0)/R_0$\")\n",
    "\n",
    "plt.legend()"
   ]
  },
  {
   "cell_type": "code",
   "execution_count": null,
   "id": "4e2a8741",
   "metadata": {},
   "outputs": [],
   "source": [
    "x = L*L - np.arange(1+int(steps/measure_step))*measure_step\n",
    "for a_ind, a in enumerate(a_vals):\n",
    "    y = a_list[a_ind,:]*9/R0_array[a_ind,:]\n",
    "    plt.plot(x, y, marker='o', label=\"(\"+str(a)+\",\"+str(b)+\")\")\n",
    "plt.gca().invert_xaxis()\n",
    "plt.xscale('log')\n",
    "plt.ylim(-0.2, 0.5)\n",
    "\n",
    "plt.title(\"RG Flow of Bond Couplings\")\n",
    "plt.xlabel(\"Remaining Spins\")\n",
    "plt.ylabel(r\" Scaled intercept parameter $P(0)/R_0$\")\n",
    "\n",
    "plt.legend()"
   ]
  },
  {
   "cell_type": "code",
   "execution_count": null,
   "id": "a3e91e4c",
   "metadata": {},
   "outputs": [],
   "source": [
    "x = L*L - np.arange(1+int(steps/measure_step))*measure_step\n",
    "\n",
    "R_length = len(y)\n",
    "\n",
    "start = 37\n",
    "end = 45\n",
    "\n",
    "plt.axvline(x = x[start])\n",
    "plt.axvline(x = x[end])\n",
    "\n",
    "for a_ind, a in enumerate(a_vals):\n",
    "    y = runs/R0_array[a_ind,:]\n",
    "    plt.scatter(x, y, label=\"(\"+str(a)+\",\"+str(b)+\")\")#, yerr=np.sqrt(np.array(R0_array_err))/np.array(R0_array)**2)\n",
    "\n",
    "\n",
    "#plt.yscale('log')\n",
    "\n",
    "popt, pcov = curve_fit(power_law_scale, x[start:end], y[start:end])\n",
    "print(popt)\n",
    "print(popt[0]*2)\n",
    "\n",
    "plt.title(\"RG Flow of Field Distribution Scaling\")\n",
    "plt.xlabel(\"Remaining Spins (N)\")\n",
    "plt.ylabel(r\"$1/R_0(\\Gamma)$\")\n",
    "plt.plot(x, power_law_scale(x, *popt), color='red', label=r'Power Law fit ($\\psi=$'+str(round(popt[0], 4))+')')\n",
    "\n",
    "plt.gca().invert_xaxis()\n",
    "plt.legend()\n",
    "plt.yscale('log')\n",
    "plt.xscale('log')\n",
    "\n",
    "#plt.xlim(1e4, 0.8*1e3)"
   ]
  },
  {
   "cell_type": "code",
   "execution_count": 18,
   "id": "4b666fc5",
   "metadata": {},
   "outputs": [],
   "source": [
    "L = 40\n",
    "steps = int(0.95*L*L)\n",
    "a, b = 0.1, 0.105\n",
    "measure_step = 1\n",
    "\n",
    "ind_dict, adj_ind = triangle_lattice_dictionary(L)\n",
    "nn_ind = triangle_nn_indices(L)\n",
    "nnn_ind = triangle_nnn_indices(L)\n",
    "\n",
    "measure_list = np.floor(steps*(1/(1.1**np.arange(1,60))))\n",
    "measure_list = measure_list.astype(int)\n",
    "check_list = np.floor(L*L*(1- 1/(1.6**np.arange(10))))\n",
    "\n",
    "runs = 1\n",
    "import time"
   ]
  },
  {
   "cell_type": "code",
   "execution_count": 19,
   "id": "84610b2b",
   "metadata": {},
   "outputs": [
    {
     "name": "stdout",
     "output_type": "stream",
     "text": [
      "30.315779209136963\n"
     ]
    }
   ],
   "source": [
    "a_vals = np.array([0.1])\n",
    "b_vals = np.array([0.105])\n",
    "\n",
    "a_list = np.zeros(shape=(len(a_vals), 1+int(steps/measure_step)))\n",
    "b_list = np.zeros(shape=(len(b_vals), 1+int(steps/measure_step)))\n",
    "R0_array = np.zeros(shape=(len(a_vals), 1+int(steps/measure_step)))\n",
    "\n",
    "t0 = time.time()\n",
    "for run in range(runs):  \n",
    "    for a_ind, a in enumerate(a_vals):\n",
    "    #for b_ind, b in enumerate(b_vals):\n",
    "        J_ij_vals = fill_J_ij_matrix(L*L, nn_ind, nnn_ind, a, b)\n",
    "        h_vals = np.exp(-np.random.exponential(size=L*L))\n",
    "        test = system(L*L, adj_ind, J_ij_vals, h_vals)   \n",
    "\n",
    "        for i in range(steps):\n",
    "            test.decimate()\n",
    "            if i%measure_step==0:  #(L*L-i) in measure_list:#\n",
    "                ind = int(i/measure_step)#np.where(measure_list==(L*L-i))\n",
    "                R0_array[a_ind, ind] += test.extract_width()\n",
    "                \n",
    "                \n",
    "print(time.time()-t0)"
   ]
  },
  {
   "cell_type": "code",
   "execution_count": 28,
   "id": "85994a13",
   "metadata": {},
   "outputs": [
    {
     "data": {
      "text/plain": [
       "76"
      ]
     },
     "execution_count": 28,
     "metadata": {},
     "output_type": "execute_result"
    }
   ],
   "source": [
    "len(test.R0_array)"
   ]
  },
  {
   "cell_type": "code",
   "execution_count": 29,
   "id": "3784815f",
   "metadata": {},
   "outputs": [
    {
     "data": {
      "image/png": "[encoded data removed]",
      "text/plain": [
       "<Figure size 640x480 with 1 Axes>"
      ]
     },
     "metadata": {},
     "output_type": "display_data"
    }
   ],
   "source": [
    "measure_step = 20\n",
    "x = L*L - np.arange(int(steps/measure_step))*measure_step\n",
    "\n",
    "#R_length = len(y)\n",
    "\n",
    "start = 40\n",
    "end = -1\n",
    "\n",
    "plt.axvline(x = x[start])\n",
    "plt.axvline(x = x[end])\n",
    "\n",
    "for a_ind, a in enumerate(a_vals):\n",
    "    y = runs/  np.array(test.R0_array)#R0_array[a_ind,:]\n",
    "    plt.scatter(x, y, label=\"(\"+str(a)+\",\"+str(b)+\")\")#, yerr=np.sqrt(np.array(R0_array_err))/np.array(R0_array)**2)\n",
    "\n",
    "\n",
    "#plt.yscale('log')\n",
    "\n",
    "popt, pcov = curve_fit(power_law_scale, x[start:end], y[start:end])\n",
    "\n",
    "\n",
    "plt.title(\"RG Flow of Field Distribution Scaling\")\n",
    "plt.xlabel(\"Remaining Spins (N)\")\n",
    "plt.ylabel(r\"$1/R_0(\\Gamma)$\")\n",
    "plt.plot(x, power_law_scale(x, *popt), color='red', label=r'Power Law fit ($\\psi=$'+str(round(popt[0], 4))+')')\n",
    "\n",
    "plt.gca().invert_xaxis()\n",
    "plt.legend()\n",
    "plt.yscale('log')\n",
    "plt.xscale('log')\n",
    "\n",
    "#plt.xlim(1e4, 0.8*1e3)"
   ]
  },
  {
   "cell_type": "code",
   "execution_count": null,
   "id": "98739af6",
   "metadata": {},
   "outputs": [],
   "source": [
    "def extract_width(hs, Om):\n",
    "    h_left = hs[hs!=0]\n",
    "    c = cost.UnbinnedNLL(-np.log(h_left/Om), exponential_dist_norm)\n",
    "    m = Minuit(c, a=0.8)\n",
    "    m.migrad()\n",
    "    return m.values[0]"
   ]
  }
 ],
 "metadata": {
  "kernelspec": {
   "display_name": "Python 3 (ipykernel)",
   "language": "python",
   "name": "python3"
  },
  "language_info": {
   "codemirror_mode": {
    "name": "ipython",
    "version": 3
   },
   "file_extension": ".py",
   "mimetype": "text/x-python",
   "name": "python",
   "nbconvert_exporter": "python",
   "pygments_lexer": "ipython3",
   "version": "3.8.10"
  }
 },
 "nbformat": 4,
 "nbformat_minor": 5
}
