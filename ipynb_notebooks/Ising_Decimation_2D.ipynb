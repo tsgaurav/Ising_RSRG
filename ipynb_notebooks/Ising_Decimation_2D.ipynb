{
 "cells": [
  {
   "cell_type": "code",
   "execution_count": 1,
   "id": "95298920",
   "metadata": {},
   "outputs": [],
   "source": [
    "import numpy as np\n",
    "import matplotlib.pyplot as plt\n",
    "from scipy.optimize import curve_fit\n",
    "from sympy import Matrix\n",
    "import time\n",
    "from scipy import sparse\n",
    "from copy import deepcopy\n",
    "\n",
    "from iminuit import cost, Minuit\n",
    "# faster than scipy.stats functions\n",
    "from numba_stats import truncnorm, truncexpon, norm, expon\n",
    "from scipy.stats import multivariate_normal as mvnorm"
   ]
  },
  {
   "cell_type": "code",
   "execution_count": 5,
   "id": "fc0d0792",
   "metadata": {},
   "outputs": [],
   "source": [
    "\"\"\"\n",
    "Idea is to index a 2D array using some 1D curve. Thus, there is an index mapping from each (x,y)->ind\n",
    "Further, each site also has an adjancency set. This is the set of indices that are coupled to the site by an FM interaction\n",
    "The model is defined using a 1xN field matrix and an NxN coupling matrix. The coupling matrix is sparse. N = LxW\n",
    "\"\"\"\n",
    "L= 3\n",
    "\n",
    "def index_map(x, y, L):\n",
    "    if x>L or y>L: return None\n",
    "    return x*L + y\n",
    "\n",
    "def square_lattice_dictionary(L):\n",
    "    \n",
    "    ind_dict = {}\n",
    "    adj_ind = {}\n",
    "    \n",
    "    for x in range(L):\n",
    "        for y in range(L):\n",
    "            ind_0 = index_map(x,y,L)\n",
    "\n",
    "            adjs = [index_map(x,(y+1)%L, L), index_map(x,(y-1)%L, L), index_map((x+1)%L,y, L), index_map((x-1)%L,y, L)]\n",
    "            \n",
    "            ind_dict[ind_0] = (x,y)\n",
    "            adj_ind[ind_0] = adjs\n",
    "    return ind_dict, adj_ind\n",
    "\n",
    "def triangle_lattice_dictionary(L):\n",
    "    ind_dict = {}\n",
    "    adj_ind = {}\n",
    "    \n",
    "    for x in range(L):\n",
    "        for y in range(L):\n",
    "            ind_0 = index_map(x,y,L)\n",
    "            \n",
    "            #nn indices\n",
    "            adjs = [index_map(x,(y+1)%L, L), index_map(x,(y-1)%L, L), index_map((x+1)%L,y, L), index_map((x-1)%L,y, L)]\n",
    "            adjs.append(index_map((x+1)%L,(y-(-1)**(x%2))%L, L))\n",
    "            adjs.append(index_map((x-1)%L,(y-(-1)**(x%2))%L, L))\n",
    "            \n",
    "            #nnn indices\n",
    "            adjs += [index_map(x,(y+2)%L, L), index_map(x,(y-2)%L, L), index_map((x+2)%L,y, L), index_map((x-2)%L,y, L)]\n",
    "            adjs += [index_map((x+2)%L,(y+1)%L, L), index_map((x+2)%L,(y-1)%L, L), index_map((x-2)%L,(y+1)%L, L), index_map((x-2)%L,(y-1)%L, L)]\n",
    "            adjs += [index_map((x+1)%L,(y+(-1)**(x%2))%L, L), index_map((x+1)%L,(y-2*(-1)**(x%2))%L, L)]\n",
    "            adjs += [index_map((x-1)%L,(y+(-1)**(x%2))%L, L), index_map((x-1)%L,(y-2*(-1)**(x%2))%L, L)] \n",
    "            \n",
    "            ind_dict[ind_0] = (x,y)\n",
    "            adj_ind[ind_0] = list(set(adjs))\n",
    "    return ind_dict, adj_ind\n",
    "\n",
    "def triangle_nn_indices(L):\n",
    "    adj_ind = {}\n",
    "    \n",
    "    for x in range(L):\n",
    "        for y in range(L):\n",
    "            ind_0 = index_map(x,y,L)\n",
    "            \n",
    "            #nn indices\n",
    "            adjs = [index_map(x,(y+1)%L, L), index_map(x,(y-1)%L, L), index_map((x+1)%L,y, L), index_map((x-1)%L,y, L)]\n",
    "            adjs.append(index_map((x+1)%L,(y-(-1)**(x%2))%L, L))\n",
    "            adjs.append(index_map((x-1)%L,(y-(-1)**(x%2))%L, L))\n",
    "\n",
    "            adj_ind[ind_0] = adjs\n",
    "    return adj_ind\n",
    "\n",
    "def triangle_nnn_indices(L):\n",
    "    adj_ind = {}\n",
    "    \n",
    "    for x in range(L):\n",
    "        for y in range(L):\n",
    "            ind_0 = index_map(x,y,L)\n",
    "            \n",
    "            #nnn indices\n",
    "            adjs = [index_map(x,(y+2)%L, L), index_map(x,(y-2)%L, L), index_map((x+2)%L,y, L), index_map((x-2)%L,y, L)]\n",
    "            adjs += [index_map((x+2)%L,(y+1)%L, L), index_map((x+2)%L,(y-1)%L, L), index_map((x-2)%L,(y+1)%L, L), index_map((x-2)%L,(y-1)%L, L)]\n",
    "            adjs += [index_map((x+1)%L,(y+(-1)**(x%2))%L, L), index_map((x+1)%L,(y-2*(-1)**(x%2))%L, L)]\n",
    "            adjs += [index_map((x-1)%L,(y+(-1)**(x%2))%L, L), index_map((x-1)%L,(y-2*(-1)**(x%2))%L, L)] \n",
    "            \n",
    "            adj_ind[ind_0] = adjs\n",
    "    return adj_ind\n",
    "\n",
    "ind_dict, adj_ind = triangle_lattice_dictionary(L)\n",
    "\n",
    "def linear_fit(x, m, b):\n",
    "    return m*x + b\n",
    "def power_law(x, a):\n",
    "    return x**(-a)\n",
    "\n",
    "def power_law_scale(x, a, scale):\n",
    "    return scale*x**(-a)\n",
    "\n",
    "def exponential_dist_norm(x, a):\n",
    "    return a*np.exp(-a*x)\n",
    "\n",
    "def exponential_dist(x, A, b):\n",
    "    return A*np.exp(-b*x)"
   ]
  },
  {
   "cell_type": "code",
   "execution_count": 27,
   "id": "21d6086d",
   "metadata": {},
   "outputs": [
    {
     "data": {
      "text/plain": [
       "[6, 4, 9, 1, 10, 2]"
      ]
     },
     "execution_count": 27,
     "metadata": {},
     "output_type": "execute_result"
    }
   ],
   "source": [
    "ind_dict, adj_ind = triangle_lattice_dictionary(5)\n",
    "\n",
    "nn_ind = triangle_nn_indices(4)\n",
    "nn_ind[5]"
   ]
  },
  {
   "cell_type": "code",
   "execution_count": 74,
   "id": "238a06dc",
   "metadata": {},
   "outputs": [
    {
     "data": {
      "text/plain": [
       "[<matplotlib.lines.Line2D at 0x7fdd6e1e5130>]"
      ]
     },
     "execution_count": 74,
     "metadata": {},
     "output_type": "execute_result"
    },
    {
     "data": {
      "image/png": "[encoded data removed]",
      "text/plain": [
       "<Figure size 640x480 with 1 Axes>"
      ]
     },
     "metadata": {},
     "output_type": "display_data"
    }
   ],
   "source": [
    "def random_nnDist(a,b,custDist,size=None, nControl=10**6):\n",
    "    #genearte a list of size random samples, obeying the distribution custDist\n",
    "    #suggests random samples between x0 and x1 and accepts the suggestion with probability custDist(x)\n",
    "    #custDist noes not need to be normalized. Add this condition to increase performance. \n",
    "    #Best performance for max_{x in [x0,x1]} custDist(x) = 1\n",
    "    samples=[]\n",
    "    nLoop=0\n",
    "    \n",
    "    low = 0\n",
    "    high = (np.sqrt(a**2 + 6*b) - a)/b\n",
    "    \n",
    "    while len(samples)<size and nLoop<nControl:\n",
    "        x=np.random.uniform(low=low,high=high)\n",
    "        prop=custDist(x, a, b)\n",
    "        assert prop>=0 and prop<=1\n",
    "        if np.random.uniform(low=0,high=1) <=prop:\n",
    "            samples += [x]\n",
    "        nLoop+=1\n",
    "    return samples\n",
    "\n",
    "def random_nnnDist(a,b,custDist,size=None, nControl=10**6):\n",
    "    samples=[]\n",
    "    nLoop=0\n",
    "    \n",
    "    low = (np.sqrt(a**2 + 6*b) - a)/b\n",
    "    high = (np.sqrt(a**2 + 2*b*(9+a*low+b*low**2/2))-a)/b\n",
    "    \n",
    "    while len(samples)<size and nLoop<nControl:\n",
    "        x=np.random.uniform(low=low,high=high)\n",
    "        prop=custDist(x, a, b)\n",
    "        assert prop>=0 and prop<=1\n",
    "        if np.random.uniform(low=0,high=1) <=prop:\n",
    "            samples += [x]\n",
    "        nLoop+=1\n",
    "    return samples\n",
    "\n",
    "\n",
    "#call\n",
    "a=0.1\n",
    "b=0.105\n",
    "\n",
    "def linDist(x, a, b):\n",
    "    return (a + b*x)\n",
    "\n",
    "def linDist_nn(x, a, b):\n",
    "    return (a + b*x)/3.0\n",
    "\n",
    "def linDist_nnn(x, a, b):\n",
    "    return (a + b*x)/9.0\n",
    "\n",
    "w = (np.sqrt(a**2 + 6*b) - a)/b\n",
    "samples=random_nnDist(a,b,custDist=linDist_nn,size=100000)\n",
    "#print(samples)\n",
    "\n",
    "n, bins = np.histogram(np.array(samples), density=True, bins = 20)\n",
    "plt.stairs(3*n, bins)\n",
    "\n",
    "x = np.linspace(0, w, 1000)\n",
    "plt.plot(x, 3*np.array(linDist_nn(x, a, b)))\n",
    "\n",
    "#samples=random_nnnDist(w,a,b,custDist=linDist,size=100000)\n",
    "#plt.hist(np.array(samples), density=True, bins = 20)\n",
    "\n",
    "#x = np.linspace(0, (np.sqrt(a**2 + 2*b) - a)/b, 1000)\n",
    "#plt.plot(x, np.array(linDist(x, a, b)))\n"
   ]
  },
  {
   "cell_type": "code",
   "execution_count": 83,
   "id": "ea06d3df",
   "metadata": {},
   "outputs": [
    {
     "data": {
      "text/plain": [
       "(1.0000000000000002, 1.1102230246251569e-14)"
      ]
     },
     "execution_count": 83,
     "metadata": {},
     "output_type": "execute_result"
    }
   ],
   "source": [
    "from scipy import integrate\n",
    "\n",
    "integrate.quad(lambda x:linDist_nn(x, a, b), 0, w)"
   ]
  },
  {
   "cell_type": "code",
   "execution_count": 7,
   "id": "e1ed2751",
   "metadata": {},
   "outputs": [],
   "source": [
    "def update_adjacency_J_ij(adj_ind, i, j):\n",
    "    #Updates adjaceny set of i with that of j\n",
    "    #Also deletes index from the adjacency list of other indices\n",
    "    temp_adj = adj_ind\n",
    "    adj_i = adj_ind[i]\n",
    "    adj_j = adj_ind[j]\n",
    "     \n",
    "    adj_i_new = list(set(adj_i+adj_j))\n",
    "    adj_i_new = list(set(adj_i_new)-set([i, j]))\n",
    "    temp_adj[i] = adj_i_new\n",
    "    temp_adj[j] = []\n",
    "    \n",
    "    for k in adj_i_new:\n",
    "        temp_adj[k] = list(set(adj_ind[k]+[i])-set([j]))\n",
    "        \n",
    "    return temp_adj\n",
    "\n",
    "def update_adjacency_h(adj_ind, i):\n",
    "    #Updates adjacency set of every element in adj(i) with adj(i)\n",
    "    #Also deletes index i from adj(k) for all k in adj(i)\n",
    "    temp_adj = adj_ind\n",
    "    adj_i = adj_ind[i]\n",
    "    \n",
    "    for k in adj_ind[i]:\n",
    "        temp_adj[k] = list(set(adj_ind[k]+adj_i)-set([i]))\n",
    "        \n",
    "    temp_adj[i] = []\n",
    "    return temp_adj\n",
    "    "
   ]
  },
  {
   "cell_type": "code",
   "execution_count": 8,
   "id": "9e618e47",
   "metadata": {},
   "outputs": [],
   "source": [
    "class system:\n",
    "    \n",
    "    def __init__(self, size, adj_ind, J_sys, h_sys):\n",
    "        \n",
    "        self.size = size\n",
    "        self.adj_ind = adj_ind\n",
    "        self.J_ij_vals = J_sys\n",
    "        self.h_vals = h_sys\n",
    "        self.cluster_tracker = np.ones(size)\n",
    "        self.cluster_ind = np.arange(size)\n",
    "        \n",
    "        self.Gamma_array = []\n",
    "        self.Omega_0 = max(self.h_vals.max(), self.J_ij_vals.max())\n",
    "        self.Omega = self.Omega_0\n",
    "        return None\n",
    "    \n",
    "    def decimate(self):\n",
    "        Omega = max(self.h_vals.max(), self.J_ij_vals.max())\n",
    "        self.Omega = Omega\n",
    "        self.Gamma_array.append(np.log(self.Omega_0/Omega))\n",
    "        if Omega == self.J_ij_vals.max(): self.J_decimation(Omega)\n",
    "        elif Omega == self.h_vals.max(): self.h_decimation(Omega)\n",
    "        \n",
    "        return None\n",
    "    \n",
    "    def J_decimation(self, Omega):\n",
    "        r_ind, c_ind, J_ij = sparse.find(self.J_ij_vals) \n",
    "        J_ind = np.where(J_ij == Omega)[0][0]\n",
    "        i, j = r_ind[J_ind], c_ind[J_ind]\n",
    "\n",
    "        self.h_vals[i] = self.h_vals[i]*self.h_vals[j]/Omega    \n",
    "        self.h_vals[j] = 0\n",
    "\n",
    "        self.adj_ind = update_adjacency_J_ij(self.adj_ind, i, j)\n",
    "\n",
    "        self.J_ij_vals[i,self.adj_ind[i]] = self.J_ij_vals[i, self.adj_ind[i]].maximum(self.J_ij_vals[j, self.adj_ind[i]])\n",
    "        self.J_ij_vals[self.adj_ind[i], i] = self.J_ij_vals[i,self.adj_ind[i]]\n",
    "\n",
    "        eye = chunk_deleter([j], self.size)\n",
    "        self.J_ij_vals = eye @ self.J_ij_vals @ eye\n",
    "        \n",
    "        \n",
    "        self.cluster_tracker[i] += self.cluster_tracker[j]\n",
    "        self.cluster_tracker[j] = 0\n",
    "        \n",
    "        self.cluster_ind[j] = self.cluster_ind[i]\n",
    "        return None\n",
    "    \n",
    "    def h_decimation(self, Omega):\n",
    "        i = np.where(self.h_vals == self.h_vals.max())[0][0]\n",
    "        adj_i = self.adj_ind[i]\n",
    "        J_ij_new = self.J_ij_vals.tocsr()[adj_i, i] @self.J_ij_vals.tocsc()[i, adj_i]/Omega\n",
    "        \n",
    "        #Sparsify the matrix, introduce cutoff\n",
    "        J_ij_new.data[J_ij_new.data<self.Omega_0/2]=0\n",
    "\n",
    "        self.J_ij_vals[adj_i, :][:, adj_i] = J_ij_new.maximum(self.J_ij_vals[adj_i,:][:, adj_i])\n",
    "\n",
    "        self.h_vals[i] = 0\n",
    "\n",
    "        eye = chunk_deleter([i], self.size)\n",
    "        \n",
    "        #J_ij_vals[i,:] = 0\n",
    "        #J_ij_vals[:,i] = 0\n",
    "        self.J_ij_vals = eye @ self.J_ij_vals @ eye\n",
    "\n",
    "        self.adj_ind = update_adjacency_h(self.adj_ind, i)\n",
    "        return None\n",
    "        "
   ]
  },
  {
   "cell_type": "code",
   "execution_count": 43,
   "id": "9791521a",
   "metadata": {},
   "outputs": [
    {
     "name": "stderr",
     "output_type": "stream",
     "text": [
      "/home/jebediah/.local/lib/python3.8/site-packages/scipy/sparse/_index.py:137: SparseEfficiencyWarning: Changing the sparsity structure of a csr_matrix is expensive. lil_matrix is more efficient.\n",
      "  self._set_arrayXarray_sparse(i, j, x)\n"
     ]
    },
    {
     "name": "stdout",
     "output_type": "stream",
     "text": [
      "43.73896551132202\n"
     ]
    }
   ],
   "source": [
    "#Main\n",
    "\n",
    "L = 40\n",
    "steps = 1500\n",
    "runs = 1\n",
    "measure_step = 20\n",
    "\n",
    "nn_ind = triangle_nn_indices(L)\n",
    "nnn_ind = triangle_nnn_indices(L)\n",
    "\n",
    "a,b =  0.3, 0.305\n",
    "\n",
    "J_ij_vals = fill_J_ij_matrix(L*L, nn_ind, nnn_ind, a, b)\n",
    "h_vals = np.exp(-np.random.exponential(size=L*L))\n",
    "\n",
    "#J_ij_vals = J_temp\n",
    "#h_vals = h_temp\n",
    "J1, h1 = deepcopy(J_ij_vals), deepcopy(h_vals)\n",
    "\n",
    "R0_array_copy = []\n",
    "ind_dict, adj_ind = triangle_lattice_dictionary(L)\n",
    "test = system(L*L, adj_ind, J1, h1)\n",
    "t0 = time.time()\n",
    "moment_array = []\n",
    "for step in range(steps):\n",
    "    \n",
    "    test.decimate()\n",
    "    if step%measure_step == 0:\n",
    "        R0_array_copy.append(extract_width(test.h_vals, test.Omega))\n",
    "        moment_array.append(test.cluster_tracker[test.cluster_tracker!=0].mean())\n",
    "\n",
    "print(time.time()-t0)"
   ]
  },
  {
   "cell_type": "code",
   "execution_count": 81,
   "id": "76634ffc",
   "metadata": {},
   "outputs": [
    {
     "data": {
      "text/plain": [
       "0.999934184543264"
      ]
     },
     "execution_count": 81,
     "metadata": {},
     "output_type": "execute_result"
    }
   ],
   "source": [
    "J_ij_vals = fill_J_ij_matrix(L*L, nn_ind, nnn_ind, a, b).tocoo()\n",
    "h_vals = np.exp(-np.random.exponential(size=L*L))\n"
   ]
  },
  {
   "cell_type": "code",
   "execution_count": 82,
   "id": "d8dfb605",
   "metadata": {},
   "outputs": [
    {
     "name": "stdout",
     "output_type": "stream",
     "text": [
      "Step: 0/1500\n"
     ]
    },
    {
     "name": "stderr",
     "output_type": "stream",
     "text": [
      "/home/jebediah/.local/lib/python3.8/site-packages/scipy/sparse/_index.py:137: SparseEfficiencyWarning: Changing the sparsity structure of a csc_matrix is expensive. lil_matrix is more efficient.\n",
      "  self._set_arrayXarray_sparse(i, j, x)\n",
      "/home/jebediah/.local/lib/python3.8/site-packages/scipy/sparse/_index.py:137: SparseEfficiencyWarning: Changing the sparsity structure of a csr_matrix is expensive. lil_matrix is more efficient.\n",
      "  self._set_arrayXarray_sparse(i, j, x)\n"
     ]
    },
    {
     "name": "stdout",
     "output_type": "stream",
     "text": [
      "Step: 1000/1500\n",
      "23.282835006713867\n"
     ]
    }
   ],
   "source": [
    "#Legacy code\n",
    "R0_array_sum = np.zeros(int(np.ceil(steps/measure_step)))\n",
    "\n",
    "cluster_tracker = np.ones(L*L)\n",
    "\n",
    "a_vals = np.array([0.1])#np.arange(0.05, 0.2, 0.02)\n",
    "b_vals = np.array([0.105])#np.arange(0.1,0.3,0.03)\n",
    "\n",
    "\n",
    "for run in range(runs):\n",
    "    Gamma_array = np.zeros(shape=(len(a_vals), len(b_vals), steps))\n",
    "    R0_array = []\n",
    "    mu_array = []\n",
    "    color_list = []\n",
    "    color_list_m = []\n",
    "    #R0_array_err = []\n",
    "\n",
    "    t_total_Jij = 0\n",
    "    t_total_h = 0\n",
    "\n",
    "    for l, a in enumerate(a_vals):\n",
    "        for m, b in enumerate(b_vals):\n",
    "\n",
    "            ind_dict, adj_ind = triangle_lattice_dictionary(L)\n",
    "\n",
    "            #J_ij_vals = fill_J_ij_matrix(L*L, nn_ind, nnn_ind, a, b)\n",
    "            #h_vals = np.exp(-np.random.exponential(size=L*L))\n",
    "            \n",
    "            #J_temp = J_ij_vals\n",
    "            #h_temp = h_vals\n",
    "            \n",
    "            Omega_0 = max(h_vals.max(), J_ij_vals.max())\n",
    "            t0 = time.time()\n",
    "            for step in range(steps):\n",
    "                \n",
    "                if step%1000 == 0: print (\"Step: \"+str(step)+\"/\"+str(steps))\n",
    "                Omega = max(h_vals.max(), J_ij_vals.max())\n",
    "                \n",
    "                Gamma_array[l,m,step] = (np.log(Omega_0/Omega))\n",
    "                #J_ij_vals = resparse(J_ij_vals, L*L, Omega*(1-steps/(L*L)))\n",
    "\n",
    "                if Omega == J_ij_vals.max():\n",
    "                    \"\"\"\n",
    "                    Strongest term is an Ising coupling -> Renormalizes to a field given by h_i * h_j/J_ij\n",
    "                    Delete one of the elements (say h_i), shortening h_vals\n",
    "                    Update adjacency of j to include both adj(i) and adj(j)\n",
    "                    Set new Jnew_jk = max (J_jk, J_ik)\n",
    "                    Delete the corresponding row and column in J_ij (J_i* and J*i) and set the adjacency of i to []\n",
    "                    \"\"\"\n",
    "                    r_ind, c_ind, J_ij = sparse.find(J_ij_vals) \n",
    "                    J_ind = np.where(J_ij == Omega)[0][0]\n",
    "                    i, j = r_ind[J_ind], c_ind[J_ind]\n",
    "\n",
    "                    h_vals[i] = h_vals[i]*h_vals[j]/Omega    #Might need to include a factor of 2 here since we are symmetrizing later\n",
    "                    h_vals[j] = 0\n",
    "\n",
    "                    adj_ind = update_adjacency_J_ij(adj_ind, i, j)\n",
    "                    \n",
    "                    J_csr = J_ij_vals.tocsr()\n",
    "                    J_csc = J_ij_vals.tocsc()\n",
    "                    \n",
    "                    J_csc[i,adj_ind[i]] = J_csc[i, adj_ind[i]].maximum(J_csc[j, adj_ind[i]])\n",
    "                    J_csr[adj_ind[i], i] = J_csc[i,adj_ind[i]]\n",
    "\n",
    "                    eye = chunk_deleter([j], L*L)\n",
    "                    J_ij_vals = eye @ J_ij_vals @ eye\n",
    "                    t_total_Jij += time.time()-t0\n",
    "                    cluster_tracker[i] += cluster_tracker[j]\n",
    "                    cluster_tracker[j] = 0\n",
    "                    color_list.append('blue')\n",
    "                elif Omega == h_vals.max():\n",
    "                    \"\"\"\n",
    "                    \"\"\"\n",
    "                    #t0 = time.time()\n",
    "                    i = np.where(h_vals == h_vals.max())[0][0]\n",
    "                    adj_i = adj_ind[i]\n",
    "                    \n",
    "                    J_csr = J_ij_vals.tocsr()\n",
    "                    J_csc = J_ij_vals.tocsc()\n",
    "                    \n",
    "                    J_ij_new = J_csr[adj_i, i] @J_csc[i, adj_i]/Omega\n",
    "\n",
    "                    J_ij_vals[adj_i, :][:, adj_i] = J_ij_new.maximum(J_ij_vals[adj_i,:][:, adj_i])\n",
    "\n",
    "                    h_vals[i] = 0\n",
    "\n",
    "                    eye = chunk_deleter([i], L*L)\n",
    "                    J_ij_vals = eye @ J_ij_vals @ eye\n",
    "\n",
    "                    adj_ind = update_adjacency_h(adj_ind, i)\n",
    "                    t_total_h += time.time()-t0\n",
    "                    color_list.append('red')\n",
    "                if step%measure_step == 0:\n",
    "                    h_remain = h_vals[h_vals!=0]\n",
    "                    cluster_moments = cluster_tracker[cluster_tracker!=0]\n",
    "                    cost_func = cost.UnbinnedNLL(-np.log(h_remain/Omega), exponential_dist_norm)\n",
    "                    fit_obj = Minuit(cost_func, a=0.8)\n",
    "                    fit_obj.limits[\"a\"] = (0, 4)\n",
    "                    fit_obj.migrad()\n",
    "                    color_list_m.append(color_list[-1])\n",
    "                    R0_array.append(fit_obj.values[0])\n",
    "                    mu_array.append(cluster_moments.mean())\n",
    "                    \n",
    "                    #R0_array_err.append(pcov[0][0])\n",
    "    #R0_array_sum += np.array(R0_array)\n",
    "    \n",
    "print(time.time()-t0)\n"
   ]
  },
  {
   "cell_type": "code",
   "execution_count": null,
   "id": "27b387da",
   "metadata": {},
   "outputs": [],
   "source": [
    "steps = 700\n",
    "check_list = np.array([0, 300, 600])\n",
    "\n",
    "for i in range(steps):\n",
    "    test.decimate()\n",
    "    if i in check_list:\n",
    "        h_remain = test.h_vals\n",
    "        h_remain = h_remain[h_remain!=0]\n",
    "        n,bins = np.histogram(-np.log(h_remain/test.Omega), density=True, bins = 50)\n",
    "        width = bins[1]-bins[0]\n",
    "        plt.scatter(bins[1:]-width/2, n)\n",
    "\n",
    "#plt.xscale('log')\n",
    "plt.yscale('log')"
   ]
  },
  {
   "cell_type": "code",
   "execution_count": 8,
   "id": "1771d831",
   "metadata": {},
   "outputs": [],
   "source": [
    "from scipy import sparse\n",
    "L = 4\n",
    "ind_dict, adj_ind = square_lattice_dictionary(L)\n",
    "a, b = (0.1, 0.1)"
   ]
  },
  {
   "cell_type": "code",
   "execution_count": 80,
   "id": "bcca9b16",
   "metadata": {},
   "outputs": [],
   "source": [
    "def fill_J_ij_matrix(size, nn_ind, nnn_ind, a, b, include_nnn=True):\n",
    "    J_ij_vals = sparse.lil_matrix((size, size))\n",
    "    bond_sum = 0\n",
    "    #hit_mat = np.zeros(shape=(size, size))\n",
    "    for ind in range(size):\n",
    "        \n",
    "        #Filling nn bonds\n",
    "        adj_ind_array = np.array(nn_ind[ind])\n",
    "        upper_ind = adj_ind_array[adj_ind_array>ind]\n",
    "        bond_sum+=len(upper_ind)\n",
    "        #print(ind, upper_ind)\n",
    "        #hit_mat[ind, upper_ind] = 1\n",
    "        #Include jacobian to transform pdf\n",
    "        J_ij_vals[ind, upper_ind] = sparse.lil_matrix(np.exp(-np.array(random_nnDist(a, b, custDist=linDist, size=len(upper_ind)))))\n",
    "        \n",
    "        if include_nnn:\n",
    "            #Filling nnn bonds\n",
    "            adj_ind_array = np.array(nnn_ind[ind])\n",
    "            upper_ind = adj_ind_array[adj_ind_array>ind]\n",
    "\n",
    "            J_ij_vals[ind, upper_ind] = sparse.lil_matrix(np.exp(-np.array(random_nnnDist(a, b, custDist=linDist_nnn, size=len(upper_ind)))))\n",
    "    #plt.imshow(hit_mat + hit_mat.T)\n",
    "    print(bond_sum)\n",
    "    return J_ij_vals + J_ij_vals.T\n",
    "\n",
    "def chunk_deleter(ind_array, size):\n",
    "    eye_diag = np.ones(size)\n",
    "    eye_diag[ind_array] = 0\n",
    "    return sparse.diags(eye_diag)\n",
    "\n",
    "def resparse(spr_mat, size, tol):\n",
    "    i_ind, j_ind, vals = sparse.find(spr_mat)\n",
    "    mask = vals>tol\n",
    "    i_new, j_new, val_new = i_ind[mask], j_ind[mask], vals[mask]\n",
    "    \n",
    "    return sparse.csr_matrix((val_new, (i_new, j_new)), shape=(size, size))"
   ]
  },
  {
   "cell_type": "code",
   "execution_count": 30,
   "id": "5c29d9dd",
   "metadata": {},
   "outputs": [],
   "source": [
    "def fill_J_ij_matrix_uniform(size, nn_ind, J_max, include_nnn=False):\n",
    "    J_ij_vals = sparse.lil_matrix((size, size))\n",
    "    for ind in range(size):\n",
    "        \n",
    "        #Filling nn bonds\n",
    "        adj_ind_array = np.array(nn_ind[ind])\n",
    "        upper_ind = adj_ind_array[adj_ind_array>ind]\n",
    "        \n",
    "        \n",
    "        J_ij_vals[ind, upper_ind] = sparse.lil_matrix(np.random.uniform(0, log_J_max, size=len(upper_ind)))\n",
    "        \n",
    "        if include_nnn:\n",
    "            #Filling nnn bonds\n",
    "            w = (np.sqrt((a/3)**2 + 2*(b/3)) - a/3)/(b/3)\n",
    "            adj_ind_array = np.array(nnn_ind[ind])\n",
    "            upper_ind = adj_ind_array[adj_ind_array>ind]\n",
    "\n",
    "            J_ij_vals[ind, upper_ind] = sparse.lil_matrix(np.exp(-np.array(random_nnnDist(w, a/6.0, b/6.0, custDist=linDist, size=len(upper_ind)))))\n",
    "\n",
    "    return J_ij_vals + J_ij_vals.T"
   ]
  },
  {
   "cell_type": "code",
   "execution_count": 84,
   "id": "56d8635f",
   "metadata": {},
   "outputs": [
    {
     "name": "stdout",
     "output_type": "stream",
     "text": [
      "30000\n"
     ]
    },
    {
     "data": {
      "text/plain": [
       "[<matplotlib.lines.Line2D at 0x7fdd6f028c40>]"
      ]
     },
     "execution_count": 84,
     "metadata": {},
     "output_type": "execute_result"
    },
    {
     "data": {
      "image/png": "[encoded data removed]",
      "text/plain": [
       "<Figure size 640x480 with 1 Axes>"
      ]
     },
     "metadata": {},
     "output_type": "display_data"
    }
   ],
   "source": [
    "L=100\n",
    "nn_ind = triangle_nn_indices(L)\n",
    "nnn_ind = triangle_nnn_indices(L)\n",
    "a,b=  0.1, 0.105\n",
    "\n",
    "J_ij_vals = fill_J_ij_matrix(L*L, nn_ind, nnn_ind, a, b, include_nnn=False)\n",
    "\n",
    "\n",
    "sparse.find(J_vals)[2]\n",
    "\n",
    "J_remain = sparse.find(J_ij_vals)[2]\n",
    "\n",
    "n, bins = np.histogram(-np.log(J_remain))\n",
    "plt.figure()\n",
    "width = bins[1]-bins[0]\n",
    "plt.plot(bins[1:]-width/2, n/(2*L*L), marker='o')\n",
    "\n",
    "plt.stairs(n/(2*L*L), bins)\n",
    "#plt.ylim(0, 0.6)\n",
    "\n",
    "samples=random_nnDist(a,b,custDist=linDist_nn,size=30000)\n",
    "#print(samples)\n",
    "\n",
    "n,bins = np.histogram(np.array(samples))\n",
    "plt.stairs(n/(L*L), bins)\n",
    "plt.plot(x, 3*np.array(linDist_nn(x, a, b)))"
   ]
  },
  {
   "cell_type": "code",
   "execution_count": 53,
   "id": "92136bba",
   "metadata": {},
   "outputs": [
    {
     "data": {
      "text/plain": [
       "5.0"
      ]
     },
     "execution_count": 53,
     "metadata": {},
     "output_type": "execute_result"
    }
   ],
   "source": []
  },
  {
   "cell_type": "code",
   "execution_count": 23,
   "id": "a5549c62",
   "metadata": {},
   "outputs": [
    {
     "data": {
      "text/plain": [
       "(0.0, 0.6)"
      ]
     },
     "execution_count": 23,
     "metadata": {},
     "output_type": "execute_result"
    },
    {
     "data": {
      "image/png": "[encoded data removed]",
      "text/plain": [
       "<Figure size 640x480 with 1 Axes>"
      ]
     },
     "metadata": {},
     "output_type": "display_data"
    }
   ],
   "source": [
    "L, J_max = 100, 1\n",
    "nn_ind = triangle_nn_indices(L)\n",
    "nnn_ind = triangle_nnn_indices(L)\n",
    "a,b=  0.1, 0.105\n",
    "#nnn_ind = triangle_nnn_indices(L)\n",
    "#t = time.time()\n",
    "#J_ij_vals = fill_J_ij_matrix_uniform(L*L, nn_ind, J_max)\n",
    "J_ij_vals = fill_J_ij_matrix(L*L, nn_ind, nnn_ind, a, b, include_nnn=False)\n",
    "\n",
    "J_remain = sparse.find(J_ij_vals)[2]\n",
    "\n",
    "n, bins = np.histogram(-np.log(J_remain))\n",
    "\n",
    "plt.plot(bins[1:], n/(2*L*L), marker='o')\n",
    "plt.ylim(0, 0.6)"
   ]
  },
  {
   "cell_type": "code",
   "execution_count": null,
   "id": "e14e77e4",
   "metadata": {},
   "outputs": [],
   "source": [
    "\n",
    "\n",
    "#fill_J_ij_matrix(L, adj_ind, a, b)\n",
    "L, a, b = 100, 0.1, 0.1\n",
    "nn_ind = triangle_nn_indices(L)\n",
    "nnn_ind = triangle_nnn_indices(L)\n",
    "t = time.time()\n",
    "J_ij_vals = fill_J_ij_matrix(L*L, nn_ind, nnn_ind, a, b, include_nnn=True)\n",
    "print(-t+time.time())"
   ]
  },
  {
   "cell_type": "code",
   "execution_count": null,
   "id": "ea861b59",
   "metadata": {},
   "outputs": [],
   "source": [
    "a_sc = a/9\n",
    "b_sc = b/9\n",
    "J_remain = -np.log(sparse.find(J_ij_vals)[2])\n",
    "x = np.linspace(0, (np.sqrt(a_sc**2 + 2*b_sc) - a_sc)/b_sc, len(J_remain))\n",
    "\n",
    "n,bins,patches = plt.hist(J_remain, density = 'True', bins=30)\n",
    "width = bins[1]-bins[0]\n",
    "popt, pcov = curve_fit(linDist, (bins[1:]-width/2), n)\n",
    "\n",
    "plt.plot(x, np.array(linDist(x, *popt)))\n",
    "print(popt)"
   ]
  },
  {
   "cell_type": "code",
   "execution_count": 38,
   "id": "b31ace5b",
   "metadata": {},
   "outputs": [],
   "source": [
    "def extract_width(hs, Om):\n",
    "    h_left = hs[hs!=0]\n",
    "    c = cost.UnbinnedNLL(-np.log(h_left/Om), exponential_dist_norm)\n",
    "    m = Minuit(c, a=0.8)\n",
    "    m.migrad()\n",
    "    return m.values[0]"
   ]
  },
  {
   "cell_type": "code",
   "execution_count": null,
   "id": "eb11e74f",
   "metadata": {},
   "outputs": [],
   "source": [
    "n_array = (- np.arange(steps)+(L*L))/(L*L)\n",
    "plt.figure(figsize=(9, 6))\n",
    "for l, a in enumerate(a_vals):\n",
    "    for m, b in enumerate(b_vals):\n",
    "        plt.scatter(Gamma_array[l,m,:],  n_array, s=10, label=\"(\"+str(a)+', '+str(b)+\")\")\n",
    "plt.plot(Gamma_array[0,0,:], (Gamma_array[0,0,:]+1)**(-1.368))\n",
    "\n",
    "\n",
    "\n",
    "plt.legend()\n",
    "#plt.xlim(0, 10)"
   ]
  },
  {
   "cell_type": "code",
   "execution_count": 47,
   "id": "25258aa8",
   "metadata": {},
   "outputs": [
    {
     "name": "stdout",
     "output_type": "stream",
     "text": [
      "408.4865462779999\n"
     ]
    }
   ],
   "source": [
    "#Main\n",
    "\n",
    "L = 60\n",
    "steps = 3500\n",
    "runs = 1\n",
    "measure_step =50\n",
    "\n",
    "nn_ind = triangle_nn_indices(L)\n",
    "nnn_ind = triangle_nnn_indices(L)\n",
    "\n",
    "a,b =  0.3, 0.315\n",
    "\n",
    "J_ij_vals = fill_J_ij_matrix(L*L, nn_ind, nnn_ind, a, b, include_nnn=False)\n",
    "h_vals = np.exp(-np.random.exponential(size=L*L))\n",
    "\n",
    "#J_ij_vals = J_temp\n",
    "#h_vals = h_temp\n",
    "J1, h1 = deepcopy(J_ij_vals), deepcopy(h_vals)\n",
    "\n",
    "R0_array_copy = []\n",
    "ind_dict, adj_ind = triangle_lattice_dictionary(L)\n",
    "test = system(L*L, adj_ind, J1, h1)\n",
    "t0 = time.time()\n",
    "moment_array = []\n",
    "for step in range(steps):\n",
    "    \n",
    "    test.decimate()\n",
    "    if step%measure_step == 0:\n",
    "        R0_array_copy.append(extract_width(test.h_vals, test.Omega))\n",
    "        moment_array.append(test.cluster_tracker[test.cluster_tracker!=0].mean())\n",
    "\n",
    "print(time.time()-t0)"
   ]
  },
  {
   "cell_type": "code",
   "execution_count": 50,
   "id": "1c61eb47",
   "metadata": {},
   "outputs": [
    {
     "data": {
      "image/png": "[encoded data removed]",
      "text/plain": [
       "<Figure size 640x480 with 1 Axes>"
      ]
     },
     "metadata": {},
     "output_type": "display_data"
    }
   ],
   "source": [
    "\n",
    "x = L*L - np.arange(len(R0_array_copy))*measure_step\n",
    "y = runs/np.array(R0_array_copy)\n",
    "#R_length = len(y)\n",
    "\n",
    "start = -20#70\n",
    "end = -1\n",
    "\n",
    "plt.axvline(x = x[start])\n",
    "plt.axvline(x = x[end])\n",
    "plt.scatter(x, y, label='Width of exponential')#, c=color_list_m)#, yerr=np.sqrt(np.array(R0_array_err))/np.array(R0_array)**2)\n",
    "#plt.yscale('log')\n",
    "\n",
    "popt, pcov = curve_fit(power_law_scale, x[start:end], y[start:end])\n",
    "\n",
    "#y_copy = runs/np.array(R0_array_copy)\n",
    "#plt.scatter(x, y_copy)\n",
    "\n",
    "#plt.text(x=L*L, y=1.5, s=(\"a=\"+str(a_vals[0])+'\\n' +\"b=\"+str(b_vals[0])+\"\\n\"+\"N=\"+str(L*L)))\n",
    "\n",
    "plt.title(\"RG Flow of Field Distribution Scaling\")\n",
    "plt.xlabel(\"Remaining Spins (N)\")\n",
    "plt.ylabel(r\"$1/R_0(\\Gamma)$\")\n",
    "plt.plot(x, power_law_scale(x, *popt), color='red', label=r'Power Law fit ($\\psi=$'+str(round(popt[0], 4))+')')\n",
    "\n",
    "plt.gca().invert_xaxis()\n",
    "plt.legend()\n",
    "plt.yscale('log')\n",
    "plt.xscale('log')\n",
    "\n",
    "#plt.xlim(1e4, 0.8*1e3)\n",
    "#plt.ylim(1, 2)"
   ]
  },
  {
   "cell_type": "code",
   "execution_count": null,
   "id": "b46c9985",
   "metadata": {},
   "outputs": [],
   "source": [
    "x_array = np.arange(L)\n",
    "ZZ_corr = np.zeros(shape=(L))\n",
    "\n",
    "x_0, y_0 = (0,1)\n",
    "\n",
    "\n",
    "for x in range(L):\n",
    "    if test.cluster_ind[index_map(x_0, y_0, L)] == test.cluster_ind[index_map(x, y_0,L)]: ZZ_corr[x] = 1"
   ]
  },
  {
   "cell_type": "code",
   "execution_count": null,
   "id": "fe99f52e",
   "metadata": {},
   "outputs": [],
   "source": [
    "plt.scatter(x_array, ZZ_corr)"
   ]
  },
  {
   "cell_type": "code",
   "execution_count": null,
   "id": "60887d61",
   "metadata": {},
   "outputs": [],
   "source": [
    "y = np.array(moment_array)\n",
    "\n",
    "plt.scatter(x, y)\n",
    "\n",
    "start = -10\n",
    "end = -1\n",
    "\n",
    "plt.axvline(x = x[start])\n",
    "plt.axvline(x = x[end])\n",
    "popt, pcov = curve_fit(power_law_scale, x[start:end], y[start:end])\n",
    "\n",
    "plt.plot(x, power_law_scale(x, *popt), color='red', label=r'Power Law fit ($\\psi=$'+str(round(popt[0], 4))+')')\n",
    "plt.legend()\n",
    "plt.yscale('log')\n",
    "plt.xscale('log')\n",
    "plt.gca().invert_xaxis()"
   ]
  },
  {
   "cell_type": "code",
   "execution_count": null,
   "id": "6045c8fd",
   "metadata": {},
   "outputs": [],
   "source": [
    "check_list = np.floor(L*L*(1- 1/(2.5**np.arange(len(x)))))\n",
    "print"
   ]
  },
  {
   "cell_type": "code",
   "execution_count": null,
   "id": "6119d836",
   "metadata": {},
   "outputs": [],
   "source": [
    "log_x = np.log(x)\n",
    "log_mu = np.log(np.array(mu_array))\n",
    "\n",
    "plt.scatter(np.exp(log_x), np.exp(log_mu))\n",
    "plt.gca().invert_xaxis()\n",
    "\n",
    "popt, pcov = curve_fit(linear_fit,log_x , log_mu)\n",
    "\n",
    "plt.plot(np.exp(log_x), np.exp(linear_fit(log_x, *popt)))\n",
    "#plt.xscale('log')\n",
    "#plt.yscale('log')\n",
    "print(popt)"
   ]
  },
  {
   "cell_type": "code",
   "execution_count": null,
   "id": "854ce640",
   "metadata": {},
   "outputs": [],
   "source": [
    "popt, pcov = curve_fit(power_law_scale, x[-150:], 1/np.array(R0_array)[-150:])\n",
    "print(popt)\n",
    "print(popt[0]*2)"
   ]
  },
  {
   "cell_type": "code",
   "execution_count": null,
   "id": "227cc438",
   "metadata": {},
   "outputs": [],
   "source": [
    "print(t_total_Jij)\n",
    "print(t_total_h)"
   ]
  },
  {
   "cell_type": "code",
   "execution_count": null,
   "id": "1104f4cc",
   "metadata": {},
   "outputs": [],
   "source": [
    "popt, pcov = curve_fit(power_law, Gamma_array[0,0,:]+1, n_array)\n",
    "popt"
   ]
  },
  {
   "cell_type": "code",
   "execution_count": null,
   "id": "7dc9ed96",
   "metadata": {},
   "outputs": [],
   "source": [
    "h_vals_remain = h_vals[h_vals!=0]\n",
    "plt.figure(figsize=(8,5))\n",
    "n,bins, pacthes = plt.hist(-np.log(h_vals_remain), density=True, bins = 30)\n",
    "\n",
    "width = bins[1]-bins[0]\n",
    "\n",
    "plt.figure(figsize=(8,5))\n",
    "x_data = bins[1:]-width/2\n",
    "popt, pcov = curve_fit(exponential_dist,x_data, n)\n",
    "\n",
    "plt.plot(x_data, exponential_dist(x_data, *popt), label='Fit to exponential distribution')\n",
    "plt.scatter(x_data, n)\n",
    "plt.title(\"Distribution of Field Couplings after Decimation\")\n",
    "plt.yscale('log')\n",
    "plt.legend()\n",
    "print(popt)"
   ]
  },
  {
   "cell_type": "code",
   "execution_count": null,
   "id": "a8c828fb",
   "metadata": {},
   "outputs": [],
   "source": [
    "h_vals_ini = np.exp(-np.random.exponential(size=L*L))\n",
    "n,bins, pacthes = plt.hist(-np.log(h_vals_ini), density=True, bins = 30)\n",
    "\n",
    "width = bins[1]-bins[0]\n",
    "\n",
    "\n",
    "x_data = bins[1:]-width/2\n",
    "popt, pcov = curve_fit(exponential_dist,x_data, n)\n",
    "\n",
    "plt.plot(x_data, exponential_dist(x_data, *popt), label='Fit to exponential distribution')\n",
    "plt.title(\"Initial Distributions of Field Couplings\")\n",
    "plt.legend()"
   ]
  },
  {
   "cell_type": "code",
   "execution_count": null,
   "id": "e17c869c",
   "metadata": {},
   "outputs": [],
   "source": [
    "def triangle_lattice_boundary_dictionary(L):\n",
    "    ind_dict = {}\n",
    "    adj_ind = {}\n",
    "    bdry_dict = np.zeros(L*L,dtype=bool)\n",
    "    \n",
    "    for x in range(L):\n",
    "        for y in range(L):\n",
    "            ind_0 = index_map(x,y,L)\n",
    "            \n",
    "            #nn indices\n",
    "            adjs = [index_map(x,(y-1)%L, L), index_map(x,(y+1)%L, L)]\n",
    "            \n",
    "            adjs += [index_map(x,(y+2)%L, L), index_map(x,(y-2)%L, L)]\n",
    "            \n",
    "            if x-1>=0:\n",
    "                adjs.append(index_map((x-1)%L,y, L))\n",
    "                adjs.append(index_map((x-1)%L,(y-(-1)**(x%2))%L, L))\n",
    "                \n",
    "                adjs += [index_map((x-1)%L,(y+(-1)**(x%2))%L, L), index_map((x-1)%L,(y-2*(-1)**(x%2))%L, L)]\n",
    "            if x+1<L:\n",
    "                adjs.append(index_map((x+1)%L,y, L))\n",
    "                adjs.append(index_map((x+1)%L,(y-(-1)**(x%2))%L, L))\n",
    "                \n",
    "                adjs += [index_map((x+1)%L,(y+(-1)**(x%2))%L, L), index_map((x+1)%L,(y-2*(-1)**(x%2))%L, L)]\n",
    "            \n",
    "            if x-2>=0:\n",
    "                adjs += [index_map((x-2)%L,y, L), index_map((x-2)%L,(y+1)%L, L), index_map((x-2)%L,(y-1)%L, L)]\n",
    "            if x+2<L:\n",
    "                adjs += [index_map((x+2)%L,y, L), index_map((x+2)%L,(y+1)%L, L), index_map((x+2)%L,(y-1)%L, L)]\n",
    "            \n",
    "            if x==0: bdry_dict[ind_0] = True\n",
    "            elif x==(L-1): bdry_dict[ind_0] = True      \n",
    "                \n",
    "            ind_dict[ind_0] = (x,y)\n",
    "            adj_ind[ind_0] = adjs\n",
    "    return ind_dict, adj_ind, bdry_dict"
   ]
  },
  {
   "cell_type": "code",
   "execution_count": null,
   "id": "1e840481",
   "metadata": {},
   "outputs": [],
   "source": [
    "class boundary_system:\n",
    "    \n",
    "    def __init__(self, size, adj_ind, bdry_dict, J_ij_vals, h_vals):\n",
    "        \n",
    "        self.size = size\n",
    "        self.adj_ind = adj_ind\n",
    "        self.J_ij_vals = J_ij_vals\n",
    "        self.h_vals = h_vals\n",
    "        self.bdry_dict = bdry_dict\n",
    "        \n",
    "        self.Gamma_array = []\n",
    "        self.Omega_0 = max(h_vals.max(), J_ij_vals.max())\n",
    "        self.Omega = self.Omega_0\n",
    "        return None\n",
    "    \n",
    "    def decimate(self):\n",
    "        Omega = max(self.h_vals.max(), self.J_ij_vals.max())\n",
    "        self.Omega = Omega\n",
    "        self.Gamma_array.append(np.log(self.Omega_0/Omega))\n",
    "        if Omega == self.J_ij_vals.max(): self.J_decimation(Omega)\n",
    "        elif Omega == self.h_vals.max(): self.h_decimation(Omega)\n",
    "        \n",
    "        return None\n",
    "    def J_decimation(self, Omega):\n",
    "        r_ind, c_ind, J_ij = sparse.find(self.J_ij_vals) \n",
    "        J_ind = np.where(J_ij == Omega)[0][0]\n",
    "        i, j = r_ind[J_ind], c_ind[J_ind]\n",
    "\n",
    "        self.h_vals[i] = self.h_vals[i]*self.h_vals[j]/Omega    \n",
    "        self.h_vals[j] = 0\n",
    "        self.bdry_dict[i] = self.bdry_dict[i] or self.bdry_dict[j]\n",
    "        self.bdry_dict[j] = False\n",
    "        \n",
    "        update_adjacency_J_ij(self.adj_ind, i, j)\n",
    "\n",
    "        self.J_ij_vals[i,self.adj_ind[i]] = self.J_ij_vals[i, self.adj_ind[i]].maximum(self.J_ij_vals[j, self.adj_ind[i]])\n",
    "        self.J_ij_vals[self.adj_ind[i], i] = self.J_ij_vals[i,self.adj_ind[i]]\n",
    "\n",
    "        eye = chunk_deleter([j], self.size)\n",
    "        self.J_ij_vals = eye @ self.J_ij_vals @ eye\n",
    "        return None\n",
    "    \n",
    "    def h_decimation(self, Omega):\n",
    "        i = np.where(self.h_vals == self.h_vals.max())[0][0]\n",
    "        adj_i = self.adj_ind[i]\n",
    "        J_ij_new = self.J_ij_vals[adj_i, i] @self.J_ij_vals[i, adj_i]/Omega\n",
    "\n",
    "        self.J_ij_vals[adj_i, :][:, adj_i] = J_ij_new.maximum(self.J_ij_vals[adj_i,:][:, adj_i])\n",
    "\n",
    "        self.h_vals[i] = 0\n",
    "\n",
    "        eye = chunk_deleter([i], self.size)\n",
    "        self.J_ij_vals = eye @ self.J_ij_vals @ eye\n",
    "\n",
    "        update_adjacency_h(self.adj_ind, i)\n",
    "        return None"
   ]
  },
  {
   "cell_type": "code",
   "execution_count": null,
   "id": "b751fa11",
   "metadata": {},
   "outputs": [],
   "source": [
    "L = 50\n",
    "steps = 2400#int(0.95*L*L)\n",
    "a, b = 0.1, 0.105\n",
    "measure_step = 20\n",
    "\n",
    "ind_dict, adj_ind, bdry_dict = triangle_lattice_boundary_dictionary(L)\n",
    "nn_ind = triangle_nn_indices(L)\n",
    "nnn_ind = triangle_nnn_indices(L)\n",
    "\n",
    "check_list = np.floor(L*L*(1- 1/(2.5**np.arange(10))))\n",
    "\n",
    "runs = 1"
   ]
  },
  {
   "cell_type": "code",
   "execution_count": null,
   "id": "a0f8cb6c",
   "metadata": {},
   "outputs": [],
   "source": [
    "for run in range(runs):  \n",
    "    J_ij_vals = fill_J_ij_matrix(L*L, nn_ind, nnn_ind, a, b)\n",
    "    h_vals = np.exp(-np.random.exponential(size=L*L))\n",
    "    test = boundary_system(L*L, adj_ind, bdry_dict, J_ij_vals, h_vals)\n",
    "\n",
    "    \n",
    "    R0_array_bulk = np.zeros(int(steps/measure_step)+1)\n",
    "    R0_array_bdry = np.zeros(int(steps/measure_step)+1)\n",
    "\n",
    "    for i in range(steps):\n",
    "        test.decimate()\n",
    "        if i%measure_step==0:\n",
    "            h_remain_bulk = test.h_vals[~bdry_dict]\n",
    "            h_remain_bulk = h_remain_bulk[h_remain_bulk!=0]\n",
    "            cost_func = cost.UnbinnedNLL(-np.log(h_remain_bulk/test.Omega), exponential_dist_norm)\n",
    "            fit_obj = Minuit(cost_func, a=0.8)\n",
    "            #fit_obj.limits[\"a\"] = (0, 4)\n",
    "            fit_obj.migrad()\n",
    "            #color_list_m.append(color_list[-1])\n",
    "            R0_array_bulk[int(i/measure_step)] += fit_obj.values[0]\n",
    "            \n",
    "            h_remain_bdry = test.h_vals[bdry_dict]\n",
    "            h_remain_bdry = h_remain_bdry[h_remain_bdry!=0]\n",
    "            cost_func = cost.UnbinnedNLL(-np.log(h_remain_bdry/test.Omega), exponential_dist_norm)\n",
    "            fit_obj = Minuit(cost_func, a=0.8)\n",
    "            #fit_obj.limits[\"a\"] = (0, 4)\n",
    "            fit_obj.migrad()\n",
    "            #color_list_m.append(color_list[-1])\n",
    "            R0_array_bdry[int(i/measure_step)] += fit_obj.values[0]"
   ]
  },
  {
   "cell_type": "code",
   "execution_count": null,
   "id": "361a6c50",
   "metadata": {},
   "outputs": [],
   "source": [
    "x = L*L - np.arange(len(R0_array_bulk))*measure_step\n",
    "y_bulk = runs/R0_array_bulk\n",
    "y_bdry = runs/R0_array_bdry\n",
    "R_length = len(y_bulk)\n",
    "\n",
    "start = 50\n",
    "end = -10\n",
    "\n",
    "plt.axvline(x = x[start])\n",
    "plt.axvline(x = x[end])\n",
    "plt.scatter(x, y_bulk, label='Width of exponential')#, yerr=np.sqrt(np.array(R0_array_err))/np.array(R0_array)**2)\n",
    "\n",
    "plt.scatter(x, y_bdry)\n",
    "#plt.yscale('log')\n",
    "\n",
    "popt, pcov = curve_fit(power_law_scale, x[start:end], y_bulk[start:end])\n",
    "\n",
    "plt.title(\"RG Flow of Field Distribution Scaling\")\n",
    "plt.xlabel(\"Remaining Spins (N)\")\n",
    "plt.ylabel(r\"$1/R_0(\\Gamma)$\")\n",
    "plt.plot(x, power_law_scale(x, *popt), color='red', label=r'Bulk power Law fit ($\\psi=$'+str(round(popt[0], 4))+')')\n",
    "\n",
    "start = 50\n",
    "end = -10\n",
    "popt, pcov = curve_fit(power_law_scale, x[start:end], y_bdry[start:end])\n",
    "plt.plot(x, power_law_scale(x, *popt), c='green',label=r'Bdry power Law fit ($\\psi=$'+str(round(popt[0], 4))+')')\n",
    "\n",
    "plt.gca().invert_xaxis()\n",
    "plt.legend()\n",
    "plt.yscale('log')\n",
    "plt.xscale('log')"
   ]
  },
  {
   "cell_type": "code",
   "execution_count": null,
   "id": "e76b0deb",
   "metadata": {},
   "outputs": [],
   "source": [
    "L = 5\n",
    "steps = 24\n",
    "runs = 1\n",
    "measure_step = 10\n",
    "a,b =  0.1, 0.105\n",
    "\n",
    "nn_ind = triangle_nn_indices(L)\n",
    "nnn_ind = triangle_nnn_indices(L)\n",
    "\n",
    "J_prime = fill_J_ij_matrix(L*L, nn_ind, nnn_ind, a, b)\n",
    "h_prime = np.exp(-np.random.exponential(size=L*L))\n",
    "\n",
    "ind_dict, adj_ind = triangle_lattice_dictionary(L)\n",
    "\n",
    "h_prime"
   ]
  },
  {
   "cell_type": "code",
   "execution_count": null,
   "id": "118d8d27",
   "metadata": {},
   "outputs": [],
   "source": [
    "from copy import deepcopy\n",
    "R0_array_1 = []\n",
    "\n",
    "J1, h1 = deepcopy(J_prime), deepcopy(h_prime)\n",
    "test = system(L*L, adj_ind, J1, h1)\n",
    "for step in range(steps):\n",
    "    \n",
    "    test.decimate()\n",
    "    if step%measure_step == 0:\n",
    "        R0_array_1.append(extract_width(test.h_vals, test.Omega))\n",
    "deepcopy(h_prime), deepcopy(J_ij_vals)"
   ]
  },
  {
   "cell_type": "code",
   "execution_count": null,
   "id": "59eced64",
   "metadata": {},
   "outputs": [],
   "source": [
    "L = 4\n",
    "ind_dict, adj_ind = triangle_lattice_dictionary(L)\n",
    "\n",
    "cluster_ind = [i for i in range(L*L)]"
   ]
  },
  {
   "cell_type": "code",
   "execution_count": null,
   "id": "633e7989",
   "metadata": {},
   "outputs": [],
   "source": [
    "cluster_list"
   ]
  },
  {
   "cell_type": "code",
   "execution_count": null,
   "id": "fa90e319",
   "metadata": {},
   "outputs": [],
   "source": [
    "cluster_dict[1] = cluster_dict[0]"
   ]
  },
  {
   "cell_type": "code",
   "execution_count": null,
   "id": "3e353d1e",
   "metadata": {},
   "outputs": [],
   "source": [
    "cluster_dict"
   ]
  },
  {
   "cell_type": "code",
   "execution_count": null,
   "id": "fc619f6f",
   "metadata": {},
   "outputs": [],
   "source": []
  }
 ],
 "metadata": {
  "kernelspec": {
   "display_name": "Python 3 (ipykernel)",
   "language": "python",
   "name": "python3"
  },
  "language_info": {
   "codemirror_mode": {
    "name": "ipython",
    "version": 3
   },
   "file_extension": ".py",
   "mimetype": "text/x-python",
   "name": "python",
   "nbconvert_exporter": "python",
   "pygments_lexer": "ipython3",
   "version": "3.8.10"
  }
 },
 "nbformat": 4,
 "nbformat_minor": 5
}
