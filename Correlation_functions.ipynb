{
 "cells": [
  {
   "cell_type": "code",
   "execution_count": 1,
   "id": "c06a5d62",
   "metadata": {},
   "outputs": [],
   "source": [
    "import numpy as np\n",
    "import pickle\n",
    "import matplotlib.pyplot as plt\n",
    "import os, csv\n",
    "import pandas as pd\n",
    "import scipy.optimize as sp\n",
    "import time\n",
    "\n",
    "from sklearn.preprocessing import PolynomialFeatures\n",
    "from sklearn.linear_model import LinearRegression\n",
    "\n",
    "%run /home/jebediah/Ising_RSRG/aux_funcs.py\n",
    "%run /home/jebediah/Ising_RSRG/RSRG_bdry_class.py\n",
    "%run /home/jebediah/Ising_RSRG/bdry_aux_funcs.py"
   ]
  },
  {
   "cell_type": "code",
   "execution_count": 19,
   "id": "dfa09555",
   "metadata": {},
   "outputs": [
    {
     "data": {
      "text/html": [
       "<div>\n",
       "<style scoped>\n",
       "    .dataframe tbody tr th:only-of-type {\n",
       "        vertical-align: middle;\n",
       "    }\n",
       "\n",
       "    .dataframe tbody tr th {\n",
       "        vertical-align: top;\n",
       "    }\n",
       "\n",
       "    .dataframe thead th {\n",
       "        text-align: right;\n",
       "    }\n",
       "</style>\n",
       "<table border=\"1\" class=\"dataframe\">\n",
       "  <thead>\n",
       "    <tr style=\"text-align: right;\">\n",
       "      <th></th>\n",
       "      <th>L</th>\n",
       "      <th>steps</th>\n",
       "      <th>w_blk</th>\n",
       "      <th>w_bdry</th>\n",
       "      <th>w_mixed</th>\n",
       "      <th>n_runs</th>\n",
       "      <th>ts</th>\n",
       "    </tr>\n",
       "  </thead>\n",
       "  <tbody>\n",
       "    <tr>\n",
       "      <th>9</th>\n",
       "      <td>50</td>\n",
       "      <td>2480</td>\n",
       "      <td>2.65</td>\n",
       "      <td>0.1</td>\n",
       "      <td>2.6</td>\n",
       "      <td>560</td>\n",
       "      <td>1681176862</td>\n",
       "    </tr>\n",
       "  </tbody>\n",
       "</table>\n",
       "</div>"
      ],
      "text/plain": [
       "    L  steps  w_blk  w_bdry  w_mixed  n_runs          ts\n",
       "9  50   2480   2.65     0.1      2.6     560  1681176862"
      ]
     },
     "execution_count": 19,
     "metadata": {},
     "output_type": "execute_result"
    }
   ],
   "source": [
    "log_file = pd.read_csv(\"bdry_log_file.csv\")[9:10]\n",
    "ts_list = log_file['ts'].tolist()\n",
    "log_file"
   ]
  },
  {
   "cell_type": "code",
   "execution_count": 20,
   "id": "b131b8a0",
   "metadata": {},
   "outputs": [],
   "source": [
    "def generate_corr_matrix(reverse_dict, L):\n",
    "    vect = np.zeros(shape=(L*L, L*L), dtype=bool)\n",
    "    for key in reverse_dict:\n",
    "        if reverse_dict[key] is None: continue\n",
    "        vect[key,reverse_dict[key]] = True\n",
    "    return np.einsum('ab,ac->bc', vect, vect)\n",
    "\n",
    "def generate_corr_matrix_alt(clust_dict, L):\n",
    "    corr_mat_alt = np.zeros(shape=(L*L, L*L), dtype=bool)\n",
    "    for i in range(L*L):\n",
    "        for j in range(i, L*L):\n",
    "            corr_mat_alt[i,j] = (clust_dict[i]==clust_dict[j])\n",
    "    corr_mat_alt = corr_mat_alt.T + corr_mat_alt \n",
    "    return corr_mat_alt\n",
    "\n",
    "def generate_corr_matrix_alt2(clust_dict, reverse_dict, L):\n",
    "    #Fastest\n",
    "    corr_mat = np.zeros(shape=(L*L, L*L), dtype=bool)\n",
    "    for i in range(L*L):\n",
    "        corr_mat[i, reverse_dict[clust_dict[i]]] = True\n",
    "    return corr_mat\n",
    "\n",
    "def power_law(x, scale, power):\n",
    "    return 1/(1+x*scale)**power"
   ]
  },
  {
   "cell_type": "code",
   "execution_count": 21,
   "id": "5c7cf5b8",
   "metadata": {},
   "outputs": [],
   "source": [
    "L = 50\n",
    "\n",
    "\n",
    "fixed_length_slice = log_file[lambda df: (df['L'] == L)]\n",
    "ts_list = fixed_length_slice['ts'].tolist()\n",
    "w_vals = fixed_length_slice['w_blk'].tolist()\n",
    "n_runs_list = fixed_length_slice['n_runs'].tolist()\n",
    "\n",
    "mean_corr_mat_list = []\n",
    "\n",
    "for index, ts in enumerate(ts_list):\n",
    "\n",
    "    with open(\"IsingB_2D_clusters_\"+str(ts)+\".pkl\", \"rb\") as fp:   \n",
    "        clust_list_final = pickle.load(fp)\n",
    "\n",
    "\n",
    "    clust_dict_list, reverse_dict_list = [], []\n",
    "\n",
    "    for core_pair in clust_list_final:\n",
    "        clust_list_temp = core_pair[0]\n",
    "        reverse_list_temp = core_pair[1]\n",
    "        clust_dict_list+=clust_list_temp\n",
    "        reverse_dict_list+=reverse_list_temp\n",
    "\n",
    "    mean_corr_mat = np.zeros(shape=(L*L,L*L))\n",
    "    for instance in range(len(reverse_dict_list)):\n",
    "        mean_corr_mat += generate_corr_matrix_alt2(clust_dict_list[instance], reverse_dict_list[instance], L)\n",
    "    mean_corr_mat = mean_corr_mat/n_runs_list[index]\n",
    "\n",
    "    mean_corr_mat_list.append(mean_corr_mat)\n",
    "    \n",
    "    \"\"\"\n",
    "    with open(\"IsingB_2D_cmat_\"+str(ts)+\".pkl\", \"rb\") as fp:   \n",
    "        c_mat = pickle.load(fp)\n",
    "    print(np.allclose(mean_corr_mat, c_mat))\n",
    "    \"\"\""
   ]
  },
  {
   "cell_type": "code",
   "execution_count": 22,
   "id": "f37d9f8c",
   "metadata": {},
   "outputs": [
    {
     "name": "stdout",
     "output_type": "stream",
     "text": [
      "11.695247148067022 0.560886933977967\n"
     ]
    },
    {
     "data": {
      "image/png": "[encoded data removed]",
      "text/plain": [
       "<Figure size 640x480 with 1 Axes>"
      ]
     },
     "metadata": {},
     "output_type": "display_data"
    }
   ],
   "source": [
    "for index, w in enumerate(w_vals):\n",
    "    if not index%2==0: continue\n",
    "    mean_corr_mat = mean_corr_mat_list[index]\n",
    "    y_vals = np.arange(L)\n",
    "    corr_function = np.zeros(shape=(L))\n",
    "\n",
    "    for y in range(L):\n",
    "        for x in range(L):\n",
    "            corr_function[y] += mean_corr_mat[index_map(0,x,L), index_map(y,x,L)]\n",
    "\n",
    "    plt.plot(y_vals, corr_function/L, label=str(w))\n",
    "\n",
    "    popt, pcov = curve_fit(power_law, y_vals,corr_function/L)\n",
    "\n",
    "    plt.plot(y_vals, power_law(y_vals, *popt))\n",
    "\n",
    "plt.legend()\n",
    "plt.xlim(0, 20)\n",
    "print(*popt)"
   ]
  },
  {
   "cell_type": "code",
   "execution_count": 11,
   "id": "1ed6364e",
   "metadata": {},
   "outputs": [
    {
     "name": "stdout",
     "output_type": "stream",
     "text": [
      "0.08069372177124023\n"
     ]
    }
   ],
   "source": [
    "ts = 1681168497\n",
    "\n",
    "with open(\"IsingB_2D_clusters_\"+str(ts)+\".pkl\", \"rb\") as fp:   \n",
    "        clust_list_final = pickle.load(fp)\n",
    "\n",
    "\n",
    "clust_dict_list, reverse_dict_list = [], []\n",
    "\n",
    "for core_pair in clust_list_final:\n",
    "    clust_list_temp = core_pair[0]\n",
    "    reverse_list_temp = core_pair[1]\n",
    "    clust_dict_list+=clust_list_temp\n",
    "    reverse_dict_list+=reverse_list_temp\n",
    "\n",
    "t0 = time.time()\n",
    "corr_mat_alt2 = generate_corr_matrix_alt2(clust_dict_list[0], reverse_dict_list[0], 50)\n",
    "print(time.time()-t0)"
   ]
  },
  {
   "cell_type": "code",
   "execution_count": null,
   "id": "b3a6bd07",
   "metadata": {},
   "outputs": [],
   "source": []
  }
 ],
 "metadata": {
  "kernelspec": {
   "display_name": "Python 3 (ipykernel)",
   "language": "python",
   "name": "python3"
  },
  "language_info": {
   "codemirror_mode": {
    "name": "ipython",
    "version": 3
   },
   "file_extension": ".py",
   "mimetype": "text/x-python",
   "name": "python",
   "nbconvert_exporter": "python",
   "pygments_lexer": "ipython3",
   "version": "3.8.10"
  }
 },
 "nbformat": 4,
 "nbformat_minor": 5
}
