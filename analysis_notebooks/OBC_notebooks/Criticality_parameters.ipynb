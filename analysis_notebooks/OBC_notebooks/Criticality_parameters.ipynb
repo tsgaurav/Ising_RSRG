{
 "cells": [
  {
   "cell_type": "code",
   "execution_count": 3,
   "metadata": {},
   "outputs": [],
   "source": [
    "import numpy as np\n",
    "import pickle\n",
    "import matplotlib.pyplot as plt\n",
    "import os, csv, json\n",
    "import pandas as pd\n",
    "import scipy.optimize as sp\n",
    "import itertools\n",
    "\n",
    "from sklearn.preprocessing import PolynomialFeatures\n",
    "from sklearn.linear_model import LinearRegression\n",
    "\n",
    "from matplotlib import cm\n",
    "from matplotlib.colors import ListedColormap, LinearSegmentedColormap\n",
    "import matplotlib as mpl\n",
    "\n",
    "%run /home/guaravtenkila/Disorder_sims/Ising_RSRG/aux_funcs.py\n",
    "%run /home/guaravtenkila/Disorder_sims/Ising_RSRG/RSRG_class.py\n",
    "%run /home/guaravtenkila/Disorder_sims/Ising_RSRG/aux_funcs.py"
   ]
  },
  {
   "cell_type": "code",
   "execution_count": 45,
   "metadata": {},
   "outputs": [
    {
     "data": {
      "text/html": [
       "<div>\n",
       "<style scoped>\n",
       "    .dataframe tbody tr th:only-of-type {\n",
       "        vertical-align: middle;\n",
       "    }\n",
       "\n",
       "    .dataframe tbody tr th {\n",
       "        vertical-align: top;\n",
       "    }\n",
       "\n",
       "    .dataframe thead th {\n",
       "        text-align: right;\n",
       "    }\n",
       "</style>\n",
       "<table border=\"1\" class=\"dataframe\">\n",
       "  <thead>\n",
       "    <tr style=\"text-align: right;\">\n",
       "      <th></th>\n",
       "      <th>L</th>\n",
       "      <th>steps</th>\n",
       "      <th>w_blk</th>\n",
       "      <th>w_bdry</th>\n",
       "      <th>w_mixed</th>\n",
       "      <th>n_runs</th>\n",
       "      <th>runtime</th>\n",
       "      <th>ts</th>\n",
       "    </tr>\n",
       "  </thead>\n",
       "  <tbody>\n",
       "    <tr>\n",
       "      <th>0</th>\n",
       "      <td>(10, 10)</td>\n",
       "      <td>99</td>\n",
       "      <td>6.6</td>\n",
       "      <td>2.5</td>\n",
       "      <td>6.6</td>\n",
       "      <td>960</td>\n",
       "      <td>5.591538</td>\n",
       "      <td>979978431025.066.0</td>\n",
       "    </tr>\n",
       "  </tbody>\n",
       "</table>\n",
       "</div>"
      ],
      "text/plain": [
       "          L  steps  w_blk  w_bdry  w_mixed  n_runs   runtime  \\\n",
       "0  (10, 10)     99    6.6     2.5      6.6     960  5.591538   \n",
       "\n",
       "                   ts  \n",
       "0  979978431025.066.0  "
      ]
     },
     "execution_count": 45,
     "metadata": {},
     "output_type": "execute_result"
    }
   ],
   "source": [
    "#run_dir = \"mag_ratio_bdry_pass2/\"\n",
    "run_dir = \"/home/guaravtenkila/Disorder_sims/Ising_RSRG/log_bdry_output/bdry_mag_test/\"\n",
    "\n",
    "\n",
    "log_file = pd.read_csv(run_dir+\"bdry_log_file.csv\")\n",
    "ts_list = log_file['ts'].tolist()\n",
    "#log_file['L'].tolist()\n",
    "selected_files = log_file\n",
    "selected_files\n",
    "\n",
    "ts_list = selected_files['ts'].tolist()\n",
    "n_runs_list = selected_files['n_runs'].tolist()\n",
    "L_list = selected_files['L'].tolist()\n",
    "\n",
    "selected_files"
   ]
  },
  {
   "cell_type": "code",
   "execution_count": 6,
   "metadata": {},
   "outputs": [],
   "source": [
    "def output_reader_bdry(measure_list, fname):\n",
    "    hblk_dist_dict = [{} for _ in range(len(measure_list))]\n",
    "    hbdry_dist_dict = [{} for _ in range(len(measure_list))]\n",
    "    J_blk_blk_dict = [{} for _ in range(len(measure_list))]\n",
    "    J_bdry_bdry_dict = [{} for _ in range(len(measure_list))]\n",
    "    J_blk_bdry_dict = [{} for _ in range(len(measure_list))]\n",
    "\n",
    "    #In2029_hbd_m19\n",
    "\n",
    "    with open(fname, 'r') as reader:\n",
    "        next(reader)\n",
    "        for line in reader:\n",
    "            if line[6]=='_': inst_end = 6\n",
    "            elif line[7]=='_': inst_end = 7\n",
    "            else: print(\"Read error\")\n",
    "            inst_num = int(line[2:inst_end])\n",
    "            coupling_type = line[inst_end+1:inst_end+4]\n",
    "            measure_ind = int(line[inst_end+6:inst_end+8])\n",
    "            couplings = np.array(json.loads(line[inst_end+8:]))\n",
    "            \n",
    "            if coupling_type=='hbl':\n",
    "                hblk_dist_dict[measure_ind][inst_num] = couplings\n",
    "            elif coupling_type=='hbd':\n",
    "                hbdry_dist_dict[measure_ind][inst_num] = couplings\n",
    "            elif coupling_type== 'Jll':\n",
    "                J_blk_blk_dict[measure_ind][inst_num] = couplings\n",
    "            elif coupling_type== 'Jrr':\n",
    "                J_bdry_bdry_dict[measure_ind][inst_num] = couplings\n",
    "            elif coupling_type== 'Jlr':\n",
    "                J_blk_bdry_dict[measure_ind][inst_num] = couplings\n",
    "    return hblk_dist_dict, hbdry_dist_dict, J_blk_blk_dict, J_bdry_bdry_dict, J_blk_bdry_dict"
   ]
  },
  {
   "cell_type": "code",
   "execution_count": 51,
   "metadata": {},
   "outputs": [],
   "source": [
    "def linear_fit(x, a ,b):\n",
    "    return x*a + b\n",
    "\n",
    "\n",
    "L = 80\n",
    "#fixed_length_slice = log_file[log_file['L']==L]\n",
    "fixed_length_slice = log_file[lambda df: (df['L'] == '('+str(L)+', 50)')]\n",
    "ts_list = np.array(fixed_length_slice['ts'].tolist())\n",
    "n_bins_h, n_bins_J = 40, 40\n",
    "free_spins_comp = []\n",
    "intercept_list_comp = []\n",
    "slope_list_comp = []\n",
    "marker_list = []\n",
    "\n",
    "for index,ts in enumerate(ts_list):\n",
    "\n",
    "    with open(run_dir+\"LIsingB_2D_input_\"+str(ts)+\".pkl\", \"rb\") as fp:   \n",
    "        input_dict = pickle.load(fp)\n",
    "    \n",
    "    measure_list = input_dict['measure_list']\n",
    "    fname = run_dir+\"LIsingB_2D_output_\"+ts+\".txt\"\n",
    "    \n",
    "    hblk_dist_dict, hbdry_dist_dict, \\\n",
    "    J_blk_blk_dict, J_bdry_bdry_dict, J_blk_bdry_dict = output_reader_bdry(measure_list, fname)\n",
    "    \n",
    "    hblk_dist_list, hbdry_dist_list = [], []\n",
    "    J_blk_blk_list, J_blk_bdry_list, J_bdry_bdry_list = [], [], []\n",
    "    for i in range(len(measure_list)-1):\n",
    "        hblk_dist_list.append(np.concatenate(tuple(hblk_dist_dict[i].values())))\n",
    "        hbdry_dist_list.append(np.concatenate(tuple(hbdry_dist_dict[i].values())))\n",
    "        J_blk_blk_list.append(np.concatenate(tuple(J_blk_blk_dict[i].values())))\n",
    "        J_blk_bdry_list.append(np.concatenate(tuple(J_blk_bdry_dict[i].values())))\n",
    "        J_bdry_bdry_list.append(np.concatenate(tuple(J_bdry_bdry_dict[i].values())))\n",
    "    \n",
    "    #h_dist_list, J_dist_list = output_reader(measure_list, run_dir+\"LIsing_2D_output_\"+str(ts)+\".txt\")\n",
    "    \n",
    "    Lx, Ly = input_dict['L']\n",
    "    spins_left = Lx*Ly - measure_list\n",
    "    \n",
    "    intercept_list = []\n",
    "    slope_list = []\n",
    "    free_spins = []\n",
    "    \n",
    "    for i,step in enumerate(spins_left[:-1]): \n",
    "\n",
    "        n,bins = np.histogram(hblk_dist_list[i], bins = n_bins_h, density=True, range=(0,12))\n",
    "        width = bins[1]-bins[0]\n",
    "        x = (bins[1:]-width/2)\n",
    "        y = n\n",
    "        popt, pcov = curve_fit(exponential_dist_norm, x[1:10], y[1:10])\n",
    "        R0_width = 1/popt[0]\n",
    "\n",
    "        n,bins = np.histogram(J_blk_blk_list[i], bins = n_bins_J)\n",
    "        width = bins[1]-bins[0]\n",
    "        x = (bins[1:]-width/2)/R0_width\n",
    "        y = n/step/width/input_dict['n_runs']\n",
    "        \n",
    "        popt, pcov = curve_fit(linear_fit, x[1:], y[1:])\n",
    "        slope_list.append(popt[0])\n",
    "        intercept_list.append(popt[1])\n",
    "        free_spins.append(step)\n",
    "        \n",
    "    free_spins_comp.append(free_spins)\n",
    "    slope_list_comp.append(slope_list)\n",
    "    intercept_list_comp.append(intercept_list)\n"
   ]
  },
  {
   "cell_type": "code",
   "execution_count": 54,
   "metadata": {},
   "outputs": [
    {
     "data": {
      "text/plain": [
       "Text(0, 0.5, 'Slope parameter')"
      ]
     },
     "execution_count": 54,
     "metadata": {},
     "output_type": "execute_result"
    },
    {
     "data": {
      "image/png": "[encoded data removed]",
      "text/plain": [
       "<Figure size 576x720 with 2 Axes>"
      ]
     },
     "metadata": {
      "needs_background": "light"
     },
     "output_type": "display_data"
    }
   ],
   "source": [
    "fig, axs = plt.subplots(2, 1, figsize=(8, 10), sharex=True)\n",
    "w_vals = fixed_length_slice['w_blk'].tolist()\n",
    "#plt.figure(figsize=(8, 6))\n",
    "\n",
    "for index,ts in enumerate(ts_list):\n",
    "    #if marker_list[index] != 'x': continue\n",
    "    axs[0].scatter(free_spins_comp[index], intercept_list_comp[index], label=str(w_vals[index]))\n",
    "    axs[1].scatter(free_spins_comp[index], slope_list_comp[index])\n",
    "    #plt.scatter(free_spins_comp[index], slope_list_comp[index], label=\"Width=\"+str(round(w_vals[index],2)))\n",
    "plt.gca().invert_xaxis()\n",
    "plt.xscale('log')\n",
    "#plt.yscale('log')\n",
    "plt.title(\"Slope of Scaled Bond Distribution\")\n",
    "plt.xlabel(\"Remaining Spins\")\n",
    "plt.ylabel(\"Slope parameter\")\n",
    "#plt.scatter(L*L, 0.1, marker='^')\n",
    "#axs[0].legend()"
   ]
  },
  {
   "cell_type": "code",
   "execution_count": 56,
   "metadata": {},
   "outputs": [
    {
     "data": {
      "text/plain": [
       "Text(0, 0.5, 'Intercept parameter')"
      ]
     },
     "execution_count": 56,
     "metadata": {},
     "output_type": "execute_result"
    },
    {
     "data": {
      "image/png": "[encoded data removed]",
      "text/plain": [
       "<Figure size 576x432 with 1 Axes>"
      ]
     },
     "metadata": {
      "needs_background": "light"
     },
     "output_type": "display_data"
    }
   ],
   "source": [
    "plt.figure(figsize=(8, 6))\n",
    "w_vals = fixed_length_slice['w_bdry'].tolist()\n",
    "\n",
    "for index,ts in enumerate(ts_list):\n",
    "    #if marker_list[index] != 'x': continue\n",
    "    if index%2==0: continue\n",
    "    plt.scatter(free_spins_comp[index], intercept_list_comp[index], label=str(w_vals[index]))\n",
    "    #axs[1].scatter(free_spins_comp[index], slope_list_comp[index])\n",
    "    #plt.scatter(free_spins_comp[index], slope_list_comp[index], label=\"Width=\"+str(round(w_vals[index],2)))\n",
    "plt.gca().invert_xaxis()\n",
    "plt.xscale('log')\n",
    "plt.legend()\n",
    "#plt.yscale('log')\n",
    "plt.title(\"Intercept of Scaled Bond Distribution per remaining spin\")\n",
    "plt.xlabel(\"Remaining Spins\")\n",
    "plt.ylabel(\"Intercept parameter\")"
   ]
  },
  {
   "cell_type": "code",
   "execution_count": 22,
   "metadata": {},
   "outputs": [
    {
     "name": "stdout",
     "output_type": "stream",
     "text": [
      "[  2.34052677 -12.31525326]\n"
     ]
    },
    {
     "data": {
      "image/png": "[encoded data removed]",
      "text/plain": [
       "<Figure size 432x288 with 1 Axes>"
      ]
     },
     "metadata": {
      "needs_background": "light"
     },
     "output_type": "display_data"
    }
   ],
   "source": [
    "x = np.log(np.array([40, 60, 80, 100])**2)\n",
    "y = np.log(np.array([160.07, 785.75, 3338.23, 11929.61]))\n",
    "\n",
    "plt.scatter(x, y)\n",
    "def lin_fit(x, m, c):\n",
    "    return m*x + c\n",
    "\n",
    "popt, pcov = curve_fit(lin_fit, x, y)\n",
    "\n",
    "plt.plot(x, lin_fit(x, *popt))\n",
    "print(popt)"
   ]
  },
  {
   "cell_type": "code",
   "execution_count": 46,
   "metadata": {},
   "outputs": [],
   "source": [
    "Lx_list = [10]\n",
    "Ly_list = [10]\n",
    "c_dict = {30: 'orange', 20:'red', 40:'blue', 80:'green', 32:'magenta', 48:'purple'}\n",
    "\n",
    "w_vals_comp = []\n",
    "log_gap_comp = []\n",
    "\n",
    "for Lx in Lx_list:\n",
    "    for Ly in Ly_list:\n",
    "        log_file = pd.read_csv(run_dir+\"bdry_log_file.csv\")\n",
    "        #Lx, Ly = Lx, L\n",
    "        rect_side = \"(%d, %d)\"%(Lx, Ly)\n",
    "        fixed_length_slice = log_file[lambda df: (df['L']==rect_side)]\n",
    "        ts_list = fixed_length_slice['ts'].tolist()\n",
    "        n_runs_list = fixed_length_slice['n_runs'].tolist()\n",
    "        w_vals = fixed_length_slice['w_bdry'].tolist()\n",
    "        average_log_gap = []\n",
    "        \n",
    "        for index, ts in enumerate(ts_list):\n",
    "            \"\"\"\n",
    "            with open(run_dir+\"LIsingB_2D_input_\"+ts+\".pkl\", \"rb\") as fp:   \n",
    "                input_dict = pickle.load(fp)\n",
    "\n",
    "            fname = run_dir+\"LIsingB_2D_output_\"+ts+\".txt\"\n",
    "    \n",
    "            hblk_dist_dict, hbdry_dist_dict, \\\n",
    "            J_blk_blk_dict, J_bdry_bdry_dict, J_blk_bdry_dict = output_reader_bdry(measure_list, fname)\n",
    "\n",
    "            for i in range(1, len(measure_list)):\n",
    "                if hblk_dist_dict[-i]=={} and hbdry_dist_dict[-i]=={}: continue\n",
    "                else:\n",
    "                    if not hblk_dist_dict[-i]=={}:\n",
    "                        log_gap_list_blk = np.concatenate(tuple(hblk_dist_dict[-i].values()))\n",
    "                    if not hbdry_dist_dict[-i]=={}:\n",
    "                        log_gap_list_bdry = np.concatenate(tuple(hbdry_dist_dict[-i].values()))\n",
    "                    break\n",
    "            log_gap_list = np.concatenate((log_gap_list_blk, log_gap_list_bdry))\n",
    "            \"\"\"\n",
    "            with open(run_dir+\"LIsingB_2D_clusters_\"+str(ts)+\".pkl\", \"rb\") as fp:   \n",
    "                clust_list_final = pickle.load(fp)\n",
    "\n",
    "            #print(input_dict)\n",
    "            final_bdry_clust_list = []\n",
    "\n",
    "\n",
    "            for core_pair in clust_list_final:\n",
    "                final_bdry_clust_temp = core_pair[-1]\n",
    "                final_bdry_clust_list+=final_bdry_clust_temp\n",
    "            \n",
    "            \n",
    "            #average_log_gap.append(log_gap_list.mean())\n",
    "        #w_vals_comp.append(w_vals)\n",
    "        #log_gap_comp.append(average_log_gap)"
   ]
  },
  {
   "cell_type": "code",
   "execution_count": 48,
   "metadata": {},
   "outputs": [
    {
     "data": {
      "text/plain": [
       "6"
      ]
     },
     "execution_count": 48,
     "metadata": {},
     "output_type": "execute_result"
    }
   ],
   "source": [
    "sum([1, 2, 3])"
   ]
  },
  {
   "cell_type": "code",
   "execution_count": 40,
   "metadata": {},
   "outputs": [
    {
     "data": {
      "image/png": "[encoded data removed]",
      "text/plain": [
       "<Figure size 432x288 with 1 Axes>"
      ]
     },
     "metadata": {
      "needs_background": "light"
     },
     "output_type": "display_data"
    }
   ],
   "source": [
    "size_list = []\n",
    "gap_list = []\n",
    "\n",
    "for i, Lx in enumerate(Lx_list):\n",
    "    for j, Ly in enumerate(Ly_list):\n",
    "        ind = len(Ly_list)*i+j\n",
    "        \n",
    "        try:\n",
    "            index = np.where(np.array(w_vals_comp[ind])==2.4)[0][0]\n",
    "        except:\n",
    "            continue\n",
    "        size_list.append(np.sqrt(Lx*Ly))\n",
    "        gap_list.append(log_gap_comp[ind][index])\n",
    "        plt.scatter(w_vals_comp[ind], log_gap_comp[ind])"
   ]
  },
  {
   "cell_type": "code",
   "execution_count": 41,
   "metadata": {},
   "outputs": [
    {
     "data": {
      "text/plain": [
       "[1.5, 1.65, 1.8, 1.95, 2.1, 2.25, 2.4, 2.55, 2.7, 2.85]"
      ]
     },
     "execution_count": 41,
     "metadata": {},
     "output_type": "execute_result"
    }
   ],
   "source": [
    "w_vals_comp[ind]"
   ]
  },
  {
   "cell_type": "code",
   "execution_count": 44,
   "metadata": {},
   "outputs": [
    {
     "data": {
      "text/plain": [
       "[<matplotlib.lines.Line2D at 0x7f2295b457f0>]"
      ]
     },
     "execution_count": 44,
     "metadata": {},
     "output_type": "execute_result"
    },
    {
     "data": {
      "image/png": "[encoded data removed]",
      "text/plain": [
       "<Figure size 432x288 with 1 Axes>"
      ]
     },
     "metadata": {
      "needs_background": "light"
     },
     "output_type": "display_data"
    }
   ],
   "source": [
    "plt.scatter(size_list, gap_list)\n",
    "plt.yscale('log')\n",
    "plt.xscale('log')\n",
    "\n",
    "plt.plot(np.arange(20, 60), 0.8*np.array(np.arange(20, 60))**(0.42))"
   ]
  },
  {
   "cell_type": "code",
   "execution_count": null,
   "metadata": {},
   "outputs": [],
   "source": []
  }
 ],
 "metadata": {
  "kernelspec": {
   "display_name": "Python 3",
   "language": "python",
   "name": "python3"
  },
  "language_info": {
   "codemirror_mode": {
    "name": "ipython",
    "version": 3
   },
   "file_extension": ".py",
   "mimetype": "text/x-python",
   "name": "python",
   "nbconvert_exporter": "python",
   "pygments_lexer": "ipython3",
   "version": "3.8.10"
  }
 },
 "nbformat": 4,
 "nbformat_minor": 4
}
