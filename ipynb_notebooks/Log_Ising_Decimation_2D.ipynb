{
 "cells": [
  {
   "cell_type": "code",
   "execution_count": 523,
   "metadata": {},
   "outputs": [],
   "source": [
    "import numpy as np\n",
    "import matplotlib.pyplot as plt\n",
    "from scipy.optimize import curve_fit\n",
    "from sympy import Matrix\n",
    "import time\n",
    "from scipy import sparse\n",
    "\n",
    "from sympy import Symbol, Interval\n",
    "from sympy.stats import ContinuousRV, sample\n"
   ]
  },
  {
   "cell_type": "code",
   "execution_count": 5,
   "metadata": {},
   "outputs": [],
   "source": [
    "\"\"\"\n",
    "Idea is to index a 2D array using some 1D curve. Thus, there is an index mapping from each (x,y)->ind\n",
    "Further, each site also has an adjancency set. This is the set of indices that are coupled to the site by an FM interaction\n",
    "The model is defined using a 1xN field matrix and an NxN coupling matrix. The coupling matrix is sparse. N = LxW\n",
    "\"\"\"\n",
    "L= 3\n",
    "\n",
    "def index_map(x, y, L):\n",
    "    if x>L or y>L: return None\n",
    "    return x*L + y\n",
    "\n",
    "def square_lattice_dictionary(L):\n",
    "    \n",
    "    ind_dict = {}\n",
    "    adj_ind = {}\n",
    "    \n",
    "    for x in range(L):\n",
    "        for y in range(L):\n",
    "            ind_0 = index_map(x,y,L)\n",
    "\n",
    "            adjs = [index_map(x,(y+1)%L, L), index_map(x,(y-1)%L, L), index_map((x+1)%L,y, L), index_map((x-1)%L,y, L)]\n",
    "            \n",
    "            ind_dict[ind_0] = (x,y)\n",
    "            adj_ind[ind_0] = adjs\n",
    "    return ind_dict, adj_ind\n",
    "\n",
    "def triangle_lattice_dictionary(L):\n",
    "    ind_dict = {}\n",
    "    adj_ind = {}\n",
    "    \n",
    "    for x in range(L):\n",
    "        for y in range(L):\n",
    "            ind_0 = index_map(x,y,L)\n",
    "            \n",
    "            #nn indices\n",
    "            adjs = [index_map(x,(y+1)%L, L), index_map(x,(y-1)%L, L), index_map((x+1)%L,y, L), index_map((x-1)%L,y, L)]\n",
    "            adjs.append(index_map((x+1)%L,(y-(-1)**(x%2))%L, L))\n",
    "            adjs.append(index_map((x-1)%L,(y-(-1)**(x%2))%L, L))\n",
    "            \n",
    "            #nnn indices\n",
    "            adjs += [index_map(x,(y+2)%L, L), index_map(x,(y-2)%L, L), index_map((x+2)%L,y, L), index_map((x-2)%L,y, L)]\n",
    "            adjs += [index_map((x+2)%L,(y+1)%L, L), index_map((x+2)%L,(y-1)%L, L), index_map((x-2)%L,(y+1)%L, L), index_map((x-2)%L,(y-1)%L, L)]\n",
    "            adjs += [index_map((x+1)%L,(y+(-1)**(x%2))%L, L), index_map((x+1)%L,(y-2*(-1)**(x%2))%L, L)]\n",
    "            adjs += [index_map((x-1)%L,(y+(-1)**(x%2))%L, L), index_map((x-1)%L,(y-2*(-1)**(x%2))%L, L)] \n",
    "            \n",
    "            ind_dict[ind_0] = (x,y)\n",
    "            adj_ind[ind_0] = adjs\n",
    "    return ind_dict, adj_ind\n",
    "\n",
    "def triangle_nn_indices(L):\n",
    "    adj_ind = {}\n",
    "    \n",
    "    for x in range(L):\n",
    "        for y in range(L):\n",
    "            ind_0 = index_map(x,y,L)\n",
    "            \n",
    "            #nn indices\n",
    "            adjs = [index_map(x,(y+1)%L, L), index_map(x,(y-1)%L, L), index_map((x+1)%L,y, L), index_map((x-1)%L,y, L)]\n",
    "            adjs.append(index_map((x+1)%L,(y-(-1)**(x%2))%L, L))\n",
    "            adjs.append(index_map((x-1)%L,(y-(-1)**(x%2))%L, L))\n",
    "\n",
    "            adj_ind[ind_0] = adjs\n",
    "    return adj_ind\n",
    "\n",
    "def triangle_nnn_indices(L):\n",
    "    adj_ind = {}\n",
    "    \n",
    "    for x in range(L):\n",
    "        for y in range(L):\n",
    "            ind_0 = index_map(x,y,L)\n",
    "            \n",
    "            #nnn indices\n",
    "            adjs = [index_map(x,(y+2)%L, L), index_map(x,(y-2)%L, L), index_map((x+2)%L,y, L), index_map((x-2)%L,y, L)]\n",
    "            adjs += [index_map((x+2)%L,(y+1)%L, L), index_map((x+2)%L,(y-1)%L, L), index_map((x-2)%L,(y+1)%L, L), index_map((x-2)%L,(y-1)%L, L)]\n",
    "            adjs += [index_map((x+1)%L,(y+(-1)**(x%2))%L, L), index_map((x+1)%L,(y-2*(-1)**(x%2))%L, L)]\n",
    "            adjs += [index_map((x-1)%L,(y+(-1)**(x%2))%L, L), index_map((x-1)%L,(y-2*(-1)**(x%2))%L, L)] \n",
    "            \n",
    "            adj_ind[ind_0] = adjs\n",
    "    return adj_ind\n",
    "\n",
    "ind_dict, adj_ind = triangle_lattice_dictionary(L)\n",
    "\n",
    "def linear_fit(x, m, b):\n",
    "    return m*x + b\n",
    "def power_law(x, a):\n",
    "    return x**(-a)\n",
    "\n",
    "def power_law_scale(x, a, scale):\n",
    "    return scale*x**(-a)\n",
    "\n",
    "def exponential_dist_norm(x, a):\n",
    "    return a*np.exp(-a*x)\n",
    "\n",
    "def exponential_dist(x, A, b):\n",
    "    return A*np.exp(-b*x)"
   ]
  },
  {
   "cell_type": "code",
   "execution_count": 3,
   "metadata": {},
   "outputs": [
    {
     "data": {
      "text/plain": [
       "[<matplotlib.lines.Line2D at 0x7f204fc4f790>]"
      ]
     },
     "execution_count": 3,
     "metadata": {},
     "output_type": "execute_result"
    },
    {
     "data": {
      "image/png": "[encoded data removed]",
      "text/plain": [
       "<Figure size 432x288 with 1 Axes>"
      ]
     },
     "metadata": {
      "needs_background": "light"
     },
     "output_type": "display_data"
    }
   ],
   "source": [
    "def random_nnDist(a,b,custDist,size=None, nControl=10**6):\n",
    "    #genearte a list of size random samples, obeying the distribution custDist\n",
    "    #suggests random samples between x0 and x1 and accepts the suggestion with probability custDist(x)\n",
    "    #custDist noes not need to be normalized. Add this condition to increase performance. \n",
    "    #Best performance for max_{x in [x0,x1]} custDist(x) = 1\n",
    "    samples=[]\n",
    "    nLoop=0\n",
    "    \n",
    "    low = 0\n",
    "    high = (np.sqrt(a**2 + 6*b) - a)/b\n",
    "    \n",
    "    while len(samples)<size and nLoop<nControl:\n",
    "        x=np.random.uniform(low=low,high=high)\n",
    "        prop=custDist(x, a, b)\n",
    "        assert prop>=0 and prop<=1\n",
    "        if np.random.uniform(low=0,high=1) <=prop:\n",
    "            samples += [x]\n",
    "        nLoop+=1\n",
    "    return samples\n",
    "\n",
    "def random_nnnDist(w,a,b,custDist,size=None, nControl=10**6):\n",
    "    samples=[]\n",
    "    nLoop=0\n",
    "    \n",
    "    low = w\n",
    "    high = (np.sqrt(a**2 + 2*b*(1+a*w+b*w**2/2))-a)/b\n",
    "    \n",
    "    while len(samples)<size and nLoop<nControl:\n",
    "        x=np.random.uniform(low=low,high=high)\n",
    "        prop=custDist(x, a, b)\n",
    "        assert prop>=0 and prop<=1\n",
    "        if np.random.uniform(low=0,high=1) <=prop:\n",
    "            samples += [x]\n",
    "        nLoop+=1\n",
    "    return samples\n",
    "\n",
    "\n",
    "#call\n",
    "a=0.1\n",
    "b=0.1\n",
    "def linDist(x, a, b):\n",
    "    return a + b*x\n",
    "samples=random_nnDist(a,b,custDist=linDist,size=100000)\n",
    "#print(samples)\n",
    "\n",
    "def linDist_nn(x, a, b):\n",
    "    return (a + b*x)/3.0\n",
    "\n",
    "plt.hist(np.array(samples), density=True, bins = 20)\n",
    "\n",
    "x = np.linspace(0, (np.sqrt(a**2 + 2*b) - a)/b, 1000)\n",
    "\n",
    "plt.plot(x, np.array(linDist(x, a, b)))"
   ]
  },
  {
   "cell_type": "code",
   "execution_count": 23,
   "metadata": {},
   "outputs": [],
   "source": [
    "def fill_zeta_ij_matrix(size, nn_ind, nnn_ind, a, b, include_nnn=True):\n",
    "    zeta_ij_vals = sparse.lil_matrix((size, size))\n",
    "    for ind in range(size):\n",
    "        \n",
    "        #Filling nn bonds\n",
    "        adj_ind_array = np.array(nn_ind[ind])\n",
    "        upper_ind = adj_ind_array[adj_ind_array>ind]\n",
    "        \n",
    "        zeta_ij_vals[ind, upper_ind] = sparse.lil_matrix(np.array(random_nnDist(a, b, custDist=linDist_nn, size=len(upper_ind))))\n",
    "        \n",
    "    return zeta_ij_vals + zeta_ij_vals.T\n",
    "\n",
    "def chunk_deleter(ind_array, size):\n",
    "    eye_diag = np.ones(size)\n",
    "    eye_diag[ind_array] = 0\n",
    "    return sparse.diags(eye_diag)\n",
    "\n",
    "def resparse(spr_mat, size, tol):\n",
    "    i_ind, j_ind, vals = sparse.find(spr_mat)\n",
    "    mask = vals>tol\n",
    "    i_new, j_new, val_new = i_ind[mask], j_ind[mask], vals[mask]\n",
    "    \n",
    "    return sparse.csr_matrix((val_new, (i_new, j_new)), shape=(size, size))\n",
    "\n",
    "\n",
    "def random_lin_dist_width(a, b, w, n_samples):\n",
    "    x = Symbol('x')\n",
    "    X = ContinuousRV(x, (a+b*x)/(a*w + b*w**2/2), Interval(0, w))\n",
    "    return sample(X, size=(n_samples))\n",
    "\n",
    "\n",
    "def fill_zeta_ij_matrix_width(size, nn_ind, a, b, w):\n",
    "    zeta_ij_vals = sparse.lil_matrix((size, size))\n",
    "    for ind in range(size):\n",
    "        #Filling nn bonds\n",
    "        adj_ind_array = np.array(nn_ind[ind])\n",
    "        upper_ind = adj_ind_array[adj_ind_array>ind]\n",
    "\n",
    "        zeta_ij_vals[ind, upper_ind] = sparse.lil_matrix(np.array(random_lin_dist_width(a, b, w, len(upper_ind))))\n",
    "\n",
    "\n",
    "    return zeta_ij_vals + zeta_ij_vals.T\n"
   ]
  },
  {
   "cell_type": "code",
   "execution_count": 553,
   "metadata": {},
   "outputs": [],
   "source": [
    "def update_adjacency_zeta_ij(adj_ind, i, j):\n",
    "    #Updates adjaceny set of i with that of j\n",
    "    #Also deletes index from the adjacency list of other indices\n",
    "    adj_i = adj_ind[i]\n",
    "    adj_j = adj_ind[j]\n",
    "    \n",
    "    adj_i_new = list(set(adj_i+adj_j))\n",
    "    adj_i_new = list(set(adj_i_new)-set([i, j]))\n",
    "    adj_ind[i] = adj_i_new\n",
    "    adj_ind[j] = []\n",
    "    \n",
    "    for k in adj_i_new:\n",
    "        adj_ind[k] = list(set(adj_ind[k]+[i])-set([j])-set([k]))\n",
    "        \n",
    "    return adj_ind\n",
    "\n",
    "def update_adjacency_beta(adj_ind, i):\n",
    "    #Updates adjacency set of every element in adj(i) with adj(i)\n",
    "    #Also deletes index i from adj(k) for all k in adj(i)\n",
    "    adj_i = adj_ind[i]\n",
    "    \n",
    "    for k in adj_ind[i]:\n",
    "        adj_ind[k] = list(set(adj_ind[k]+adj_i)-set([i])-set([k]))\n",
    "        \n",
    "    adj_ind[i] = []\n",
    "    return adj_ind\n",
    "    \n",
    "def update_cluster(cluster_dict, reverse_dict,site1, site2):\n",
    "    #Takes in a dictionary containing the site->cluster mapping, cluster->set of sites mapping, and the two sites being decimated\n",
    "    #Returns updated dictionaries, containing the new cluster data\n",
    "    clust1 = cluster_dict[site1]   #cluster of site 1\n",
    "    clust2 = cluster_dict[site2]   #cluster of site 2\n",
    "\n",
    "    #Add spins in clust2 to clust1\n",
    "    for dec_site in reverse_dict[clust2]:\n",
    "        cluster_dict[dec_site] = clust1\n",
    "\n",
    "    reverse_dict[clust1] += reverse_dict[clust2]\n",
    "    reverse_dict[clust2] = None\n",
    "\n",
    "    return cluster_dict, reverse_dict\n",
    "\n",
    "\n",
    "def zero_row_col(sparse_matrix, row, col):\n",
    "    # Set the specified row to zero\n",
    "    sparse_matrix.data[sparse_matrix.indptr[row]:sparse_matrix.indptr[row +1]] = 0\n",
    "\n",
    "    # Set the specified column to zero\n",
    "    bool_arr = sparse_matrix.indices == col\n",
    "    sparse_matrix.data[bool_arr] = 0\n",
    "    return sparse_matrix"
   ]
  },
  {
   "cell_type": "code",
   "execution_count": 619,
   "metadata": {},
   "outputs": [],
   "source": [
    "class log_system:\n",
    "    \n",
    "    def __init__(self, size, adj_ind, zeta_ij_vals, beta_vals, track_moments = False):\n",
    "        \n",
    "        self.size = size\n",
    "        self.adj_ind = adj_ind\n",
    "        self.zeta_ij_vals = zeta_ij_vals\n",
    "        self.beta_vals = beta_vals\n",
    "        \n",
    "        self.Gamma_array = []\n",
    "        self.Gamma_0 = 0\n",
    "        self.Gamma = 0\n",
    "        \n",
    "        self.clust_dict = {i:i for i in range(size)}\n",
    "        self.reverse_dict = {i:[i] for i in range(size)}\n",
    "        \n",
    "        self.track_moments = track_moments\n",
    "        self.moment_list = [1.0]\n",
    "\n",
    "\n",
    "        return None\n",
    "    \n",
    "    def decimate(self):\n",
    "        beta_min, zeta_min = self.beta_vals[self.beta_vals>0].min(), self.zeta_ij_vals.data.min()\n",
    "        Gamma = min(beta_min, zeta_min)\n",
    "        \n",
    "        if Gamma == zeta_min: self.zeta_decimation(Gamma)\n",
    "        elif Gamma == beta_min: self.beta_decimation(Gamma)\n",
    "        \n",
    "        self.zeta_ij_vals.data += (self.Gamma_0 - Gamma) \n",
    "        self.beta_vals[self.beta_vals.nonzero()] += (self.Gamma_0 - Gamma) \n",
    "        \n",
    "        self.Gamma = Gamma\n",
    "        self.Gamma_array.append(Gamma)\n",
    "        \n",
    "        if self.track_moments: self.moment_list.append(self.get_moment())\n",
    "\n",
    "        return None\n",
    "    \n",
    "    def zeta_decimation(self, Gamma):\n",
    "\n",
    "        r_ind, c_ind, zeta_ij = sparse.find(self.zeta_ij_vals) \n",
    "        zeta_ind = np.where(zeta_ij == Gamma)[0][0]\n",
    "        i, j = r_ind[zeta_ind], c_ind[zeta_ind]\n",
    "\n",
    "        self.clust_dict, self.reverse_dict = update_cluster(self.clust_dict, self.reverse_dict, i, j)\n",
    "\n",
    "        self.beta_vals[i] +=  self.beta_vals[j]    \n",
    "        self.beta_vals[j] = 0\n",
    "\n",
    "        self.adj_ind = update_adjacency_zeta_ij(self.adj_ind, i, j)\n",
    "\n",
    "        self.zeta_ij_vals[i,self.adj_ind[i]] += self.zeta_ij_vals[j, self.adj_ind[i]]\n",
    "        self.zeta_ij_vals[i,self.adj_ind[i]] /= 2\n",
    "        \n",
    "        \n",
    "        self.zeta_ij_vals[self.adj_ind[i], i] = self.zeta_ij_vals[i,self.adj_ind[i]]\n",
    "\n",
    "        #eye = chunk_deleter([j], self.size)\n",
    "        #self.zeta_ij_vals = eye.dot(self.zeta_ij_vals).dot(eye)\n",
    "        \n",
    "        # Set the specified row to zero\n",
    "        self.zeta_ij_vals.data[self.zeta_ij_vals.indptr[j]:self.zeta_ij_vals.indptr[j +1]] = 0\n",
    "\n",
    "        # Set the specified column to zero\n",
    "        bool_arr = self.zeta_ij_vals.indices == j\n",
    "        self.zeta_ij_vals.data[bool_arr] = 0\n",
    "        \n",
    "        self.zeta_ij_vals.eliminate_zeros()\n",
    "        \n",
    "        return None\n",
    "    \n",
    "    def beta_decimation(self, Gamma):\n",
    "        i = np.where(self.beta_vals == Gamma)[0][0]\n",
    "        adj_i = self.adj_ind[i]\n",
    "        \n",
    "        \"\"\"\n",
    "        zeta_subblock = self.zeta_ij_vals[np.ix_(adj_i, adj_i)].toarray()\n",
    "        old_couplings = sparse.find(self.zeta_ij_vals[adj_i,i])[2]\n",
    "        new_couplings = np.add.outer(old_couplings, old_couplings)\n",
    "        np.fill_diagonal(new_couplings, 0)\n",
    "        zeta_subblock[np.where(zeta_subblock==0)]=1000\n",
    "        new_couplings = np.minimum(zeta_subblock, new_couplings)\n",
    "        self.zeta_ij_vals[np.ix_(adj_i, adj_i)] = new_couplings\n",
    "        \n",
    "        \n",
    "        \"\"\"\n",
    "        ### GPTest\n",
    "        \n",
    "        zeta_subblock = self.zeta_ij_vals[adj_i, :][:, adj_i].toarray()\n",
    "\n",
    "        old_couplings = self.zeta_ij_vals[adj_i, i].data\n",
    "\n",
    "        new_couplings = np.add.outer(old_couplings, old_couplings)\n",
    "        np.fill_diagonal(new_couplings, 0)\n",
    "\n",
    "        zeta_subblock[np.where(zeta_subblock == 0)] = 1000\n",
    "        \n",
    "        np.minimum(zeta_subblock, new_couplings, out=zeta_subblock)\n",
    "\n",
    "        self.zeta_ij_vals[np.ix_(adj_i, adj_i)] = sparse.csr_matrix(zeta_subblock)\n",
    "        \n",
    "        \n",
    "        #eye = chunk_deleter([i], self.size)\n",
    "        #self.zeta_ij_vals = eye.dot(self.zeta_ij_vals).dot(eye)\n",
    "        \n",
    "        # Set the specified row to zero\n",
    "        self.zeta_ij_vals.data[self.zeta_ij_vals.indptr[i]:self.zeta_ij_vals.indptr[i +1]] = 0\n",
    "\n",
    "        # Set the specified column to zero\n",
    "        bool_arr = self.zeta_ij_vals.indices == i\n",
    "        self.zeta_ij_vals.data[bool_arr] = 0\n",
    "        \n",
    "        self.zeta_ij_vals.eliminate_zeros()\n",
    "        \n",
    "        self.adj_ind = update_adjacency_beta(self.adj_ind, i)\n",
    "        \n",
    "        return None\n",
    "        \n",
    "        \n",
    "    def get_moment(self):\n",
    "        rd = self.reverse_dict\n",
    "        clust_size_list = np.array([len(clust) for clust in rd.values() if clust is not None])\n",
    "        return clust_size_list.mean()"
   ]
  },
  {
   "cell_type": "code",
   "execution_count": 622,
   "metadata": {},
   "outputs": [],
   "source": [
    "def extract_width(hs, Om):\n",
    "    h_left = hs[hs!=0]\n",
    "    c = cost.UnbinnedNLL(-np.log(h_left/Om), exponential_dist_norm)\n",
    "    m = Minuit(c, a=0.8)\n",
    "    m.migrad()\n",
    "    return m.values[0]\n",
    "\n",
    "\n",
    "#Generate list of equidistant points on log scaled axes for given system size and decimation steps\n",
    "def gen_check_list(size, steps, divs):\n",
    "    i_vals = np.arange(divs)\n",
    "    C = np.log(size/(size-steps))/(divs-1)\n",
    "    return np.floor(size*np.exp(-i_vals * C)).astype(int)\n",
    "\n",
    "L = 50\n",
    "steps = L*L - 20\n",
    "#a, b = 0.1, 0.1\n",
    "measure_step = 30\n",
    "\n",
    "ind_dict, adj_ind = triangle_lattice_dictionary(L)\n",
    "nn_ind = triangle_nn_indices(L)\n",
    "#nnn_ind = triangle_nnn_indices(L)\n",
    "\n",
    "measure_list = np.floor(steps*(1/(1.1**np.arange(1,60))))\n",
    "measure_list = measure_list.astype(int)\n",
    "check_list = np.floor(L*L*(1- 1/(3**np.arange(4))))  #Indices at which the distribution of couplings is measured\n",
    "\n",
    "runs = 10\n",
    "\n",
    "\n",
    "check_list = gen_check_list(L*L, steps, 10)\n",
    "measure_list = gen_check_list(L*L, steps, 50)\n",
    "\n",
    "zeta_dist_list = [np.array([]) for i in range(10)]\n",
    "beta_dist_list = [np.array([]) for i in range(10)]\n",
    "\n",
    "a_vals = np.array([0.3])\n",
    "b_vals = np.array([0.3])\n",
    "\n",
    "n_bins_h = 40"
   ]
  },
  {
   "cell_type": "code",
   "execution_count": null,
   "metadata": {},
   "outputs": [],
   "source": [
    "a_vals = np.array([0.105])\n",
    "b_vals = np.array([0.105])\n",
    "w = 4\n",
    "\n",
    "\n",
    "t0 = time.time()\n",
    "for run in range(runs): \n",
    "    check_list_acc = 0\n",
    "    #if True:\n",
    "    for a_ind, a in enumerate(a_vals):\n",
    "        for b_ind, b in enumerate(b_vals):\n",
    "            nn_ind = triangle_nn_indices(L)\n",
    "            zeta_ij_vals = fill_zeta_ij_matrix_width(L*L, nn_ind, a, b, w)\n",
    "            beta_vals = np.random.exponential(size=L*L)\n",
    "            test = log_system(L*L, nn_ind, zeta_ij_vals, beta_vals, track_moments=True)   \n",
    "\n",
    "            for i in range(steps+1):\n",
    "                if i in check_list:\n",
    "                    beta_remain = test.beta_vals\n",
    "                    beta_remain = beta_remain[beta_remain!=0]\n",
    "                    beta_dist_list[check_list_acc] = np.concatenate((beta_dist_list[check_list_acc],beta_remain))\n",
    "                    \n",
    "                    zeta_remain = test.zeta_ij_vals.data[test.zeta_ij_vals.data<10]\n",
    "                    zeta_dist_list[check_list_acc] = np.concatenate((zeta_dist_list[check_list_acc], zeta_remain))\n",
    "                    \n",
    "                    check_list_acc+=1\n",
    "                test.decimate()\n",
    "\n",
    "print(time.time()-t0)\n",
    "#L = 40, with GPT opt, n_runs = 10, t_avg = 42.17\n",
    "#L = 40, with first pass calc, n_runs = 10, t_avg = 41.94\n",
    "#L = 40, with zero_row_col for beta_dec, n_runs = 10, t_avg = 33.2  (Error when used for zeta_dec)(Might have a bug)\n",
    "#L = 40, with zero_row_col, n_runs = 10, t_avg =  37.1   (Error fixed)"
   ]
  },
  {
   "cell_type": "code",
   "execution_count": 575,
   "metadata": {},
   "outputs": [
    {
     "name": "stderr",
     "output_type": "stream",
     "text": [
      "/home/guaravtenkila/.local/lib/python3.8/site-packages/numpy/lib/histograms.py:883: RuntimeWarning: invalid value encountered in divide\n",
      "  return n/db/n.sum(), bin_edges\n"
     ]
    },
    {
     "data": {
      "text/plain": [
       "<matplotlib.legend.Legend at 0x7f2044338280>"
      ]
     },
     "execution_count": 575,
     "metadata": {},
     "output_type": "execute_result"
    },
    {
     "data": {
      "image/png": "[encoded data removed]",
      "text/plain": [
       "<Figure size 864x576 with 1 Axes>"
      ]
     },
     "metadata": {
      "needs_background": "light"
     },
     "output_type": "display_data"
    }
   ],
   "source": [
    "n_bins_h = 30\n",
    "plt.figure(figsize=(12, 8))\n",
    "width_list = []\n",
    "N_list = []\n",
    "for ind,i in enumerate(check_list[:]):\n",
    "    n,bins = np.histogram(beta_dist_list[ind], density=True, bins = n_bins_h)\n",
    "    if np.any(np.isnan(n)): continue\n",
    "    width = bins[1]-bins[0]\n",
    "    x = (bins[1:]-width/2)\n",
    "    y = n\n",
    "    popt, pcov = curve_fit(exponential_dist_norm, x[1:15], y[1:15])\n",
    "    if ind%2==0: \n",
    "        plt.scatter(x, y, label=\"N=\"+str(i), marker='o')\n",
    "        plt.plot(x, exponential_dist_norm(x, *popt))\n",
    "        #print(popt)\n",
    "    width_list.append(1/popt[0])\n",
    "    N_list.append(i)\n",
    "    \n",
    "    #plt.scatter((bins[1:]-width/2), n, label=\"N=\"+str(i))\n",
    "#plt.xscale('log')\n",
    "\n",
    "plt.xlabel(r\"Log field coupling $\\beta$\")\n",
    "plt.ylabel(r\"Distribution $R(\\beta)$\")\n",
    "plt.title(\"Distribution of Field Couplings\")\n",
    "plt.yscale('log')\n",
    "#plt.xlim(0.01, 4)\n",
    "plt.legend()\n",
    "#plt.ylim(0.01, 1)\n",
    "\n",
    "#J_max, h_max = 1.0, 0.5\n",
    "#L = 60\n",
    "#a, b = 0.3, 0.315\n",
    "\n",
    "#plt.xlim(0,6)\n",
    "#plt.ylim(1e-2, 1)"
   ]
  },
  {
   "cell_type": "code",
   "execution_count": 543,
   "metadata": {},
   "outputs": [
    {
     "data": {
      "text/plain": [
       "<matplotlib.legend.Legend at 0x7f20275aa5e0>"
      ]
     },
     "execution_count": 543,
     "metadata": {},
     "output_type": "execute_result"
    },
    {
     "data": {
      "image/png": "[encoded data removed]",
      "text/plain": [
       "<Figure size 864x576 with 1 Axes>"
      ]
     },
     "metadata": {
      "needs_background": "light"
     },
     "output_type": "display_data"
    }
   ],
   "source": [
    "n_bins_h = 30\n",
    "plt.figure(figsize=(12, 8))\n",
    "\n",
    "for ind,i in enumerate(check_list[:]):\n",
    "    n,bins = np.histogram(zeta_dist_list[ind], density=True, bins = n_bins_h, range=(0,10))\n",
    "    if np.any(np.isnan(n)): continue\n",
    "    width = bins[1]-bins[0]\n",
    "    x = (bins[1:]-width/2)\n",
    "    y = n\n",
    "    if ind%2==0: \n",
    "        plt.scatter(x*width_list[ind], y, label=\"N=\"+str(i), marker='o')\n",
    "        #print(popt)\n",
    "    \n",
    "    #plt.scatter((bins[1:]-width/2), n, label=\"N=\"+str(i))\n",
    "#plt.xscale('log')\n",
    "\n",
    "plt.xlabel(r\"Log bond coupling $\\beta$\")\n",
    "plt.ylabel(r\"Distribution $P(\\beta)$\")\n",
    "plt.title(\"Distribution of Bond Couplings\")\n",
    "#plt.yscale('log')\n",
    "#plt.xlim(0.01, 4)\n",
    "plt.legend()\n",
    "#plt.ylim(0.01, 1)\n",
    "\n",
    "#J_max, h_max = 1.0, 0.5\n",
    "#L = 60\n",
    "#a, b = 0.3, 0.315\n",
    "\n",
    "#plt.xlim(0,6)\n",
    "#plt.ylim(1e-2, 1)"
   ]
  },
  {
   "cell_type": "code",
   "execution_count": 578,
   "metadata": {},
   "outputs": [
    {
     "name": "stdout",
     "output_type": "stream",
     "text": [
      "0.13939427861947246 1.8417277520413433\n"
     ]
    },
    {
     "data": {
      "image/png": "[encoded data removed]",
      "text/plain": [
       "<Figure size 432x288 with 1 Axes>"
      ]
     },
     "metadata": {
      "needs_background": "light"
     },
     "output_type": "display_data"
    }
   ],
   "source": [
    "plt.scatter(N_list, width_list)\n",
    "\n",
    "popt, pcov = curve_fit(power_law_scale, N_list[-2:], width_list[-2:])\n",
    "plt.plot(N_list, power_law_scale(N_list, *popt))\n",
    "\n",
    "plt.gca().invert_xaxis()\n",
    "plt.xscale('log')\n",
    "plt.yscale('log')\n",
    "print(*popt)"
   ]
  },
  {
   "cell_type": "code",
   "execution_count": 516,
   "metadata": {},
   "outputs": [
    {
     "data": {
      "image/png": "[encoded data removed]",
      "text/plain": [
       "<Figure size 432x288 with 1 Axes>"
      ]
     },
     "metadata": {
      "needs_background": "light"
     },
     "output_type": "display_data"
    }
   ],
   "source": [
    "x = L*L - np.arange(steps+2)\n",
    "y = test.moment_list\n",
    "\n",
    "plt.plot(x, y)\n",
    "plt.xscale('log')\n",
    "plt.yscale('log')\n",
    "plt.gca().invert_xaxis()"
   ]
  },
  {
   "cell_type": "code",
   "execution_count": 283,
   "metadata": {},
   "outputs": [
    {
     "data": {
      "text/plain": [
       "{0: [1, 2, 3, 6, 5, 8],\n",
       " 1: [2, 0, 4, 7, 3, 6],\n",
       " 2: [0, 1, 5, 8, 4, 7],\n",
       " 3: [4, 5, 6, 0, 7, 1],\n",
       " 4: [5, 3, 7, 1, 8, 2],\n",
       " 5: [3, 4, 8, 2, 6, 0],\n",
       " 6: [7, 8, 0, 3, 2, 5],\n",
       " 7: [8, 6, 1, 4, 0, 3],\n",
       " 8: [6, 7, 2, 5, 1, 4]}"
      ]
     },
     "execution_count": 283,
     "metadata": {},
     "output_type": "execute_result"
    }
   ],
   "source": [
    "L = 3\n",
    "a,b,w = 0.1, 0.105, 6\n",
    "\n",
    "\n",
    "nn_ind = triangle_nn_indices(L)\n",
    "zeta_ij_vals = fill_zeta_ij_matrix_width(L*L, nn_ind, a, b, w)\n",
    "beta_vals = np.random.exponential(size=L*L)\n",
    "test = log_system(L*L, nn_ind, zeta_ij_vals, beta_vals) \n",
    "\n",
    "test.adj_ind"
   ]
  },
  {
   "cell_type": "code",
   "execution_count": 344,
   "metadata": {},
   "outputs": [
    {
     "name": "stdout",
     "output_type": "stream",
     "text": [
      "0.1962420588025167\n",
      "1.5634708284290164\n",
      "0.1962420588025167\n",
      "1 [2, 0, 4, 7, 3, 6]\n",
      "[4.88703723 5.01186201 2.04499532 5.2383206  5.83909268 4.0809385 ]\n"
     ]
    },
    {
     "name": "stderr",
     "output_type": "stream",
     "text": [
      "/home/guaravtenkila/.local/lib/python3.8/site-packages/scipy/sparse/_index.py:146: SparseEfficiencyWarning: Changing the sparsity structure of a csr_matrix is expensive. lil_matrix is more efficient.\n",
      "  self._set_arrayXarray(i, j, x)\n"
     ]
    }
   ],
   "source": [
    "adj_ind = test.adj_ind\n",
    "\n",
    "Omega_beta = np.min(beta_vals)\n",
    "print(Omega_beta)\n",
    "Omega_zeta = np.min(sparse.find(zeta_ij_vals)[2])\n",
    "print(Omega_zeta)\n",
    "Omega = min(Omega_beta, Omega_zeta)\n",
    "print(Omega)\n",
    "\n",
    "i = np.where(beta_vals==Omega)[0][0]\n",
    "print(i, adj_ind[i])\n",
    "ks = adj_ind[i]\n",
    "\n",
    "zeta_subblock = zeta_ij_vals[np.ix_(ks, ks)].toarray()\n",
    "old_couplings = sparse.find(zeta_ij_vals[ks,i])[2]\n",
    "print(old_couplings)\n",
    "new_couplings = np.add.outer(old_couplings, old_couplings)\n",
    "np.fill_diagonal(new_couplings, 0)\n",
    "zeta_subblock[np.where(zeta_subblock==0)]=1000\n",
    "new_couplings = np.minimum(zeta_subblock, new_couplings)\n",
    "zeta_ij_vals[np.ix_(ks, ks)] = new_couplings\n",
    "\n",
    "#Add -log(Omega1/Omega2) = Gamma1 - Gamma2"
   ]
  },
  {
   "cell_type": "code",
   "execution_count": 579,
   "metadata": {},
   "outputs": [
    {
     "data": {
      "text/latex": [
       "$\\displaystyle \\left[\\begin{matrix}0 & 4.70022478965828 & 4.29000521974048 & 5.05895561712198 & 0 & 3.35260021259586 & 3.93776893232448 & 0 & 2.3662924191673\\\\4.70022478965828 & 0 & 4.58675116663068 & 3.16614691794531 & 4.45287926692838 & 0 & 4.91593165512089 & 5.9890374152817 & 0\\\\4.29000521974048 & 4.58675116663068 & 0 & 0 & 2.32501152982745 & 5.18910690844145 & 0 & 5.16133790492727 & 0.275979784884971\\\\5.05895561712198 & 3.16614691794531 & 0 & 0 & 5.19244032607105 & 3.40262851518033 & 3.88796086641886 & 1.09601651909605 & 0\\\\0 & 4.45287926692838 & 2.32501152982745 & 5.19244032607105 & 0 & 0.670077391022908 & 0 & 1.7397546964303 & 3.85741930834384\\\\3.35260021259586 & 0 & 5.18910690844145 & 3.40262851518033 & 0.670077391022908 & 0 & 4.49506237915924 & 0 & 4.67421498722136\\\\3.93776893232448 & 4.91593165512089 & 0 & 3.88796086641886 & 0 & 4.49506237915924 & 0 & 5.15090962231911 & 3.13262562495455\\\\0 & 5.9890374152817 & 5.16133790492727 & 1.09601651909605 & 1.7397546964303 & 0 & 5.15090962231911 & 0 & 2.55664001743874\\\\2.3662924191673 & 0 & 0.275979784884971 & 0 & 3.85741930834384 & 4.67421498722136 & 3.13262562495455 & 2.55664001743874 & 0\\end{matrix}\\right]$"
      ],
      "text/plain": [
       "Matrix([\n",
       "[               0, 4.70022478965828,  4.29000521974048, 5.05895561712198,                 0,  3.35260021259586, 3.93776893232448,                0,   2.3662924191673],\n",
       "[4.70022478965828,                0,  4.58675116663068, 3.16614691794531,  4.45287926692838,                 0, 4.91593165512089,  5.9890374152817,                 0],\n",
       "[4.29000521974048, 4.58675116663068,                 0,                0,  2.32501152982745,  5.18910690844145,                0, 5.16133790492727, 0.275979784884971],\n",
       "[5.05895561712198, 3.16614691794531,                 0,                0,  5.19244032607105,  3.40262851518033, 3.88796086641886, 1.09601651909605,                 0],\n",
       "[               0, 4.45287926692838,  2.32501152982745, 5.19244032607105,                 0, 0.670077391022908,                0,  1.7397546964303,  3.85741930834384],\n",
       "[3.35260021259586,                0,  5.18910690844145, 3.40262851518033, 0.670077391022908,                 0, 4.49506237915924,                0,  4.67421498722136],\n",
       "[3.93776893232448, 4.91593165512089,                 0, 3.88796086641886,                 0,  4.49506237915924,                0, 5.15090962231911,  3.13262562495455],\n",
       "[               0,  5.9890374152817,  5.16133790492727, 1.09601651909605,   1.7397546964303,                 0, 5.15090962231911,                0,  2.55664001743874],\n",
       "[ 2.3662924191673,                0, 0.275979784884971,                0,  3.85741930834384,  4.67421498722136, 3.13262562495455, 2.55664001743874,                 0]])"
      ]
     },
     "execution_count": 579,
     "metadata": {},
     "output_type": "execute_result"
    }
   ],
   "source": [
    "L = 3\n",
    "a,b,w = 0.1, 0.105, 6\n",
    "\n",
    "\n",
    "nn_ind = triangle_nn_indices(L)\n",
    "zeta_ij_vals = fill_zeta_ij_matrix_width(L*L, nn_ind, a, b, w)\n",
    "\n",
    "\n",
    "\n",
    "Matrix(zeta_ij_vals.toarray())"
   ]
  },
  {
   "cell_type": "code",
   "execution_count": 580,
   "metadata": {},
   "outputs": [
    {
     "data": {
      "text/latex": [
       "$\\displaystyle \\left[\\begin{matrix}0 & 0 & 0 & 0 & 0 & 0 & 0 & 0 & 0\\\\0 & 0 & 4.58675116663068 & 3.16614691794531 & 4.45287926692838 & 0 & 4.91593165512089 & 5.9890374152817 & 0\\\\0 & 4.58675116663068 & 0 & 0 & 2.32501152982745 & 5.18910690844145 & 0 & 5.16133790492727 & 0.275979784884971\\\\0 & 3.16614691794531 & 0 & 0 & 5.19244032607105 & 3.40262851518033 & 3.88796086641886 & 1.09601651909605 & 0\\\\0 & 4.45287926692838 & 2.32501152982745 & 5.19244032607105 & 0 & 0.670077391022908 & 0 & 1.7397546964303 & 3.85741930834384\\\\0 & 0 & 5.18910690844145 & 3.40262851518033 & 0.670077391022908 & 0 & 4.49506237915924 & 0 & 4.67421498722136\\\\0 & 4.91593165512089 & 0 & 3.88796086641886 & 0 & 4.49506237915924 & 0 & 5.15090962231911 & 3.13262562495455\\\\0 & 5.9890374152817 & 5.16133790492727 & 1.09601651909605 & 1.7397546964303 & 0 & 5.15090962231911 & 0 & 2.55664001743874\\\\0 & 0 & 0.275979784884971 & 0 & 3.85741930834384 & 4.67421498722136 & 3.13262562495455 & 2.55664001743874 & 0\\end{matrix}\\right]$"
      ],
      "text/plain": [
       "Matrix([\n",
       "[0,                0,                 0,                0,                 0,                 0,                0,                0,                 0],\n",
       "[0,                0,  4.58675116663068, 3.16614691794531,  4.45287926692838,                 0, 4.91593165512089,  5.9890374152817,                 0],\n",
       "[0, 4.58675116663068,                 0,                0,  2.32501152982745,  5.18910690844145,                0, 5.16133790492727, 0.275979784884971],\n",
       "[0, 3.16614691794531,                 0,                0,  5.19244032607105,  3.40262851518033, 3.88796086641886, 1.09601651909605,                 0],\n",
       "[0, 4.45287926692838,  2.32501152982745, 5.19244032607105,                 0, 0.670077391022908,                0,  1.7397546964303,  3.85741930834384],\n",
       "[0,                0,  5.18910690844145, 3.40262851518033, 0.670077391022908,                 0, 4.49506237915924,                0,  4.67421498722136],\n",
       "[0, 4.91593165512089,                 0, 3.88796086641886,                 0,  4.49506237915924,                0, 5.15090962231911,  3.13262562495455],\n",
       "[0,  5.9890374152817,  5.16133790492727, 1.09601651909605,   1.7397546964303,                 0, 5.15090962231911,                0,  2.55664001743874],\n",
       "[0,                0, 0.275979784884971,                0,  3.85741930834384,  4.67421498722136, 3.13262562495455, 2.55664001743874,                 0]])"
      ]
     },
     "execution_count": 580,
     "metadata": {},
     "output_type": "execute_result"
    }
   ],
   "source": [
    "i = 0\n",
    "\n",
    "zeta_ij_vals.data[zeta_ij_vals.indptr[i]:zeta_ij_vals.indptr[i +1]] = 0\n",
    "\n",
    "# Set the specified column to zero\n",
    "bool_arr = zeta_ij_vals.indices == i\n",
    "zeta_ij_vals.data[bool_arr] = 0\n",
    "\n",
    "Matrix(zeta_ij_vals.toarray())"
   ]
  },
  {
   "cell_type": "code",
   "execution_count": 205,
   "metadata": {},
   "outputs": [
    {
     "data": {
      "image/png": "[encoded data removed]",
      "text/plain": [
       "<Figure size 864x576 with 1 Axes>"
      ]
     },
     "metadata": {
      "needs_background": "light"
     },
     "output_type": "display_data"
    }
   ],
   "source": [
    "import matplotlib as mpl\n",
    "import matplotlib.cm as cm\n",
    "plt.figure(figsize=(12, 8))\n",
    "clust_dict = test.clust_dict\n",
    "reverse_dict = test.reverse_dict\n",
    "\n",
    "norm = mpl.colors.Normalize(vmin=0, vmax=4*L)\n",
    "cmap = 'viridis'#cm.hsv\n",
    "m = cm.ScalarMappable(norm=norm, cmap=cmap)\n",
    "\n",
    "for x in range(L):\n",
    "    for y in range(L):\n",
    "        \n",
    "        site_ind = index_map(x, y, L)\n",
    "        \"\"\"\n",
    "        if clust_dict[site_ind] == site_ind: c='blue'\n",
    "        else: \n",
    "            c = m.cmap(len(reverse_dict[clust_dict[site_ind]]))\n",
    "        \"\"\"\n",
    "        c = m.cmap(len(reverse_dict[clust_dict[site_ind]]))\n",
    "        plt.scatter(y+(0.25*(-1)**(x%2)), x, color=c, s= 20)\n",
    "        \n",
    "\n",
    "plt.gca().invert_yaxis()"
   ]
  },
  {
   "cell_type": "code",
   "execution_count": null,
   "metadata": {},
   "outputs": [],
   "source": [
    "h_vals_remain = h_vals[h_vals!=0]\n",
    "plt.figure(figsize=(8,5))\n",
    "n,bins, pacthes = plt.hist(-np.log(h_vals_remain), density=True, bins = 30)\n",
    "\n",
    "width = bins[1]-bins[0]\n",
    "\n",
    "plt.figure(figsize=(8,5))\n",
    "x_data = bins[1:]-width/2\n",
    "popt, pcov = curve_fit(exponential_dist,x_data, n)\n",
    "\n",
    "plt.plot(x_data, exponential_dist(x_data, *popt), label='Fit to exponential distribution')\n",
    "plt.scatter(x_data, n)\n",
    "plt.title(\"Distribution of Field Couplings after Decimation\")\n",
    "plt.yscale('log')\n",
    "plt.legend()\n",
    "print(popt)"
   ]
  },
  {
   "cell_type": "code",
   "execution_count": null,
   "metadata": {},
   "outputs": [],
   "source": [
    "h_vals_ini = np.exp(-np.random.exponential(size=L*L))\n",
    "n,bins, pacthes = plt.hist(-np.log(h_vals_ini), density=True, bins = 30)\n",
    "\n",
    "width = bins[1]-bins[0]\n",
    "\n",
    "\n",
    "x_data = bins[1:]-width/2\n",
    "popt, pcov = curve_fit(exponential_dist,x_data, n)\n",
    "\n",
    "plt.plot(x_data, exponential_dist(x_data, *popt), label='Fit to exponential distribution')\n",
    "plt.title(\"Initial Distributions of Field Couplings\")\n",
    "plt.legend()"
   ]
  }
 ],
 "metadata": {
  "kernelspec": {
   "display_name": "Python 3",
   "language": "python",
   "name": "python3"
  },
  "language_info": {
   "codemirror_mode": {
    "name": "ipython",
    "version": 3
   },
   "file_extension": ".py",
   "mimetype": "text/x-python",
   "name": "python",
   "nbconvert_exporter": "python",
   "pygments_lexer": "ipython3",
   "version": "3.8.10"
  }
 },
 "nbformat": 4,
 "nbformat_minor": 5
}
