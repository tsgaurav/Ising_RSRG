{
 "cells": [
  {
   "cell_type": "code",
   "execution_count": 198,
   "metadata": {},
   "outputs": [],
   "source": [
    "import numpy as np\n",
    "import matplotlib.pyplot as plt\n",
    "from scipy.optimize import curve_fit\n",
    "from sympy import Matrix\n",
    "import time\n",
    "from scipy import sparse\n",
    "from copy import deepcopy\n",
    "from sympy import Symbol, Interval\n",
    "from sympy.stats import ContinuousRV, sample"
   ]
  },
  {
   "cell_type": "code",
   "execution_count": 18,
   "metadata": {},
   "outputs": [],
   "source": [
    "def index_map(x, y, L):\n",
    "    if x>L or y>L: return None\n",
    "    return x*L + y\n",
    "\n",
    "def exponential_dist_norm(x, a):\n",
    "    return a*np.exp(-a*x)\n",
    "\n",
    "def power_law_scale(x, a, scale):\n",
    "    return scale*x**(-a)\n",
    "\n",
    "def triangle_lattice_boundary_dictionary(L, include_nnn=False):\n",
    "    ind_dict = {}\n",
    "    adj_ind = {}\n",
    "    bdry_dict = np.zeros(L*L,dtype=bool)\n",
    "    \n",
    "    for x in range(L):\n",
    "        for y in range(L):\n",
    "            ind_0 = index_map(x,y,L)\n",
    "            \n",
    "            #nn indices\n",
    "            adjs = [index_map(x,(y-1)%L, L), index_map(x,(y+1)%L, L)]\n",
    "            \n",
    "            if include_nnn: adjs += [index_map(x,(y+2)%L, L), index_map(x,(y-2)%L, L)]\n",
    "            \n",
    "            if x-1>=0:\n",
    "                adjs.append(index_map((x-1)%L,y, L))\n",
    "                adjs.append(index_map((x-1)%L,(y-(-1)**(x%2))%L, L))\n",
    "                \n",
    "                if include_nnn: adjs += [index_map((x-1)%L,(y+(-1)**(x%2))%L, L), index_map((x-1)%L,(y-2*(-1)**(x%2))%L, L)]\n",
    "            if x+1<L:\n",
    "                adjs.append(index_map((x+1),y, L))\n",
    "                adjs.append(index_map((x+1),(y-(-1)**(x%2))%L, L))\n",
    "                \n",
    "                if include_nnn: adjs += [index_map((x+1)%L,(y+(-1)**(x%2))%L, L), index_map((x+1)%L,(y-2*(-1)**(x%2))%L, L)]\n",
    "            \n",
    "            if include_nnn:\n",
    "                if x-2>=0:\n",
    "                    adjs += [index_map((x-2)%L,y, L), index_map((x-2)%L,(y+1)%L, L), index_map((x-2)%L,(y-1)%L, L)]\n",
    "                if x+2<L:\n",
    "                    adjs += [index_map((x+2)%L,y, L), index_map((x+2)%L,(y+1)%L, L), index_map((x+2)%L,(y-1)%L, L)]\n",
    "            \n",
    "            if x==0: bdry_dict[ind_0] = True\n",
    "            elif x==(L-1): bdry_dict[ind_0] = True      \n",
    "                \n",
    "            ind_dict[ind_0] = (x,y)\n",
    "            adj_ind[ind_0] = list(set(adjs))\n",
    "    return ind_dict, adj_ind, bdry_dict\n",
    "\n",
    "def random_lin_dist_width(a, b, w, n_samples):\n",
    "    x = Symbol('x')\n",
    "    X = ContinuousRV(x, (a+b*x)/(a*w + b*w**2/2), Interval(0, w))\n",
    "    return sample(X, size=(n_samples))\n",
    "\n",
    "def fill_beta_vals_bdry(size, bdry_dict, lambda_bdry, lambda_blk):\n",
    "    # Filling the log-field coupling with exponential distribution of different variance for bulk and boundary\n",
    "    bdry_size = bdry_dict.sum()\n",
    "    beta_vals = np.zeros(size)\n",
    "    beta_vals[bdry_dict] = np.random.exponential(scale=lambda_bdry, size=bdry_size) #Filling boundary fields\n",
    "    beta_vals[~bdry_dict] = np.random.exponential(scale=lambda_blk, size=(size-bdry_size))  #Filling bulk fields\n",
    "    return beta_vals\n",
    "\n",
    "def fill_zeta_ij_bdry(size, bdry_dict, adj_ind, a_mat, b_mat, w_mat):\n",
    "    #Note, here a_mat, b_mat and w_mat are 2x2 symmetric matrices giving the distribution parameters for blk-blk, blk-bdry and\n",
    "    #bdry-bdry couplings\n",
    "    zeta_ij_vals = sparse.lil_matrix((size, size))\n",
    "    for ind in range(size):\n",
    "        \n",
    "        tag = int(bdry_dict[ind])\n",
    "        \n",
    "        #Restrict to upper triangular part of matrix\n",
    "        adj_ind_array = np.array(adj_ind[ind])\n",
    "        upper_ind = adj_ind_array[adj_ind_array>ind]\n",
    "        \n",
    "        #Seperate adjacent indices into bulk and boundary\n",
    "        bdry_ind = [i for i in upper_ind if bdry_dict[i]]\n",
    "        blk_ind = [i for i in upper_ind if ~bdry_dict[i]]\n",
    "        \n",
    "        \n",
    "        zeta_ij_vals[ind, bdry_ind] = sparse.lil_matrix(np.array  \\\n",
    "                                    (random_lin_dist_width(a_mat[tag, 1], b_mat[tag, 1], w_mat[tag, 1], len(bdry_ind))))\n",
    "\n",
    "        zeta_ij_vals[ind, blk_ind] = sparse.lil_matrix(np.array  \\\n",
    "                                    (random_lin_dist_width(a_mat[tag, 0], b_mat[tag, 0], w_mat[tag, 0], len(blk_ind))))\n",
    "        \n",
    "    return zeta_ij_vals + zeta_ij_vals.T"
   ]
  },
  {
   "cell_type": "code",
   "execution_count": 263,
   "metadata": {},
   "outputs": [],
   "source": [
    "class bdry_log_system:\n",
    "    \n",
    "    def __init__(self, size, adj_ind, bdry_dict, zeta_ij_vals, beta_vals, track_moments = False):\n",
    "        \n",
    "        self.size = size\n",
    "        self.adj_ind = adj_ind\n",
    "        self.zeta_ij_vals = zeta_ij_vals\n",
    "        self.beta_vals = beta_vals\n",
    "        self.bdry_dict = bdry_dict\n",
    "        \n",
    "        self.Gamma_array = []\n",
    "        self.Gamma_0 = 0\n",
    "        self.Gamma = 0\n",
    "        self.num_dec = 0\n",
    "        \n",
    "        self.clust_dict = {i:i for i in range(size)}\n",
    "        self.reverse_dict = {i:[i] for i in range(size)}\n",
    "        \n",
    "        self.track_moments = track_moments\n",
    "        self.bdry_moment_list = [1.0]\n",
    "        self.blk_moment_list = [1.0]\n",
    "        \n",
    "        self.beta_times = []\n",
    "        self.zeta_times = []\n",
    "\n",
    "        return None\n",
    "    \n",
    "    def decimate(self):\n",
    "        beta_min, zeta_min = self.beta_vals[self.beta_vals>0].min(), self.zeta_ij_vals.data.min()\n",
    "        Gamma = min(beta_min, zeta_min)\n",
    "        \n",
    "        start_time = time.time()\n",
    "        if Gamma == zeta_min:\n",
    "            self.zeta_decimation(Gamma)\n",
    "            self.zeta_times.append(time.time()-start_time)\n",
    "        elif Gamma == beta_min: \n",
    "            self.beta_decimation(Gamma)\n",
    "            self.beta_times.append(time.time()-start_time)\n",
    "        self.Gamma = Gamma\n",
    "        self.Gamma_array.append(Gamma)\n",
    "        \n",
    "        if self.track_moments: \n",
    "            self.blk_moment_list.append(self.get_moment_bulk())\n",
    "            self.bdry_moment_list.append(self.get_moment_bdry())\n",
    "            \n",
    "        self.num_dec+=1\n",
    "        return None\n",
    "    \n",
    "    def zeta_decimation(self, Gamma):\n",
    "\n",
    "        r_ind, c_ind, zeta_ij = sparse.find(self.zeta_ij_vals) \n",
    "        zeta_ind = np.where(zeta_ij == Gamma)[0][0]\n",
    "        i, j = r_ind[zeta_ind], c_ind[zeta_ind]\n",
    "        \n",
    "        self.zeta_ij_vals.data += (self.Gamma_0 - Gamma) \n",
    "        self.beta_vals[self.beta_vals.nonzero()] += (self.Gamma_0 - Gamma) \n",
    "        \n",
    "        self.clust_dict, self.reverse_dict = update_cluster(self.clust_dict, self.reverse_dict, i, j)\n",
    "\n",
    "        self.beta_vals[i] +=  self.beta_vals[j]    \n",
    "        self.beta_vals[j] = 0\n",
    "        \n",
    "        self.bdry_dict[i] = self.bdry_dict[i] or self.bdry_dict[j]\n",
    "        self.bdry_dict[j] = self.bdry_dict[i]\n",
    "\n",
    "        self.adj_ind = update_adjacency_zeta_ij(self.adj_ind, i, j)\n",
    "\n",
    "        self.zeta_ij_vals[i,self.adj_ind[i]] += self.zeta_ij_vals[j, self.adj_ind[i]]\n",
    "        self.zeta_ij_vals[i,self.adj_ind[i]] /= 2\n",
    "        \n",
    "        \n",
    "        self.zeta_ij_vals[self.adj_ind[i], i] = self.zeta_ij_vals[i,self.adj_ind[i]]\n",
    "        \n",
    "        # Set the specified row to zero\n",
    "        self.zeta_ij_vals.data[self.zeta_ij_vals.indptr[j]:self.zeta_ij_vals.indptr[j +1]] = 0\n",
    "\n",
    "        # Set the specified column to zero\n",
    "        bool_arr = self.zeta_ij_vals.indices == j\n",
    "        self.zeta_ij_vals.data[bool_arr] = 0\n",
    "        \n",
    "        self.zeta_ij_vals.eliminate_zeros()\n",
    "        \n",
    "        return None\n",
    "    \n",
    "    def beta_decimation(self, Gamma):\n",
    "        #GPTest2\n",
    "        # Use in-place update instead of creating a new array with np.where\n",
    "        i = np.flatnonzero(self.beta_vals == Gamma)[0]\n",
    "        adj_i = self.adj_ind[i]\n",
    "\n",
    "        # Update zeta_ij_vals and beta_vals in-place\n",
    "        self.zeta_ij_vals.data += (self.Gamma_0 - Gamma)\n",
    "        self.beta_vals[self.beta_vals.nonzero()] += (self.Gamma_0 - Gamma)\n",
    "\n",
    "        # Retrieve subblock as dense matrix and perform computations in-place\n",
    "        zeta_subblock = self.zeta_ij_vals[adj_i, :][:, adj_i].toarray()\n",
    "\n",
    "        # Avoid using sparse.find which can be slower, directly access the data\n",
    "        old_couplings = self.zeta_ij_vals[adj_i, i].data\n",
    "\n",
    "        # Use np.outer instead of np.add.outer for performance, fill diagonal with 0\n",
    "        new_couplings = np.add.outer(old_couplings, old_couplings)\n",
    "        np.fill_diagonal(new_couplings, 0)\n",
    "\n",
    "        # Update zeta_subblock in-place\n",
    "        zeta_subblock[zeta_subblock == 0] = 1000\n",
    "        np.minimum(zeta_subblock, new_couplings, out=zeta_subblock)\n",
    "\n",
    "        # Convert updated zeta_subblock back to sparse and update zeta_ij_vals in-place\n",
    "        self.zeta_ij_vals[np.ix_(adj_i, adj_i)] = sparse.csr_matrix(zeta_subblock)\n",
    "\n",
    "        # Set the specified row to zero\n",
    "        self.zeta_ij_vals.data[self.zeta_ij_vals.indptr[i]:self.zeta_ij_vals.indptr[i +1]] = 0\n",
    "\n",
    "        # Set the specified column to zero\n",
    "        self.zeta_ij_vals.data[self.zeta_ij_vals.indices == i] = 0\n",
    "\n",
    "        # Remove zero entries from the sparse matrix\n",
    "        self.zeta_ij_vals.eliminate_zeros()\n",
    "\n",
    "        # Update adjacency\n",
    "        self.adj_ind = update_adjacency_beta(self.adj_ind, i)\n",
    "        return None\n",
    "        \n",
    "        \n",
    "    def get_moment_bdry(self):\n",
    "        rd = self.reverse_dict\n",
    "        clust_size_list = np.array([len(clust) for clust in rd.values() if clust is not None and self.beta_vals[clust].any()>0 and self.bdry_dict[clust[0]]])\n",
    "        return clust_size_list.mean()\n",
    "    \n",
    "    def get_moment_bulk(self):\n",
    "        rd = self.reverse_dict\n",
    "        clust_size_list = np.array([len(clust) for clust in rd.values() if clust is not None and self.beta_vals[clust].any()>0 and ~self.bdry_dict[clust[0]]])\n",
    "        return clust_size_list.mean()\n"
   ]
  },
  {
   "cell_type": "code",
   "execution_count": 264,
   "metadata": {},
   "outputs": [],
   "source": [
    "def update_adjacency_zeta_ij(adj_ind, i, j):\n",
    "    #Updates adjaceny set of i with that of j\n",
    "    #Also deletes index from the adjacency list of other indices\n",
    "    adj_i = adj_ind[i]\n",
    "    adj_j = adj_ind[j]\n",
    "    \n",
    "    adj_i_new = list(set(adj_i+adj_j))\n",
    "    adj_i_new = list(set(adj_i_new)-set([i, j]))\n",
    "    adj_ind[i] = adj_i_new\n",
    "    adj_ind[j] = []\n",
    "    \n",
    "    for k in adj_i_new:\n",
    "        adj_ind[k] = list(set(adj_ind[k]+[i])-set([j])-set([k]))\n",
    "        \n",
    "    return adj_ind\n",
    "\n",
    "def update_adjacency_beta(adj_ind, i):\n",
    "    #Updates adjacency set of every element in adj(i) with adj(i)\n",
    "    #Also deletes index i from adj(k) for all k in adj(i)\n",
    "    adj_i = adj_ind[i]\n",
    "    \n",
    "    for k in adj_ind[i]:\n",
    "        adj_ind[k] = list(set(adj_ind[k]+adj_i)-set([i])-set([k]))\n",
    "        \n",
    "    adj_ind[i] = []\n",
    "    return adj_ind\n",
    "    \n",
    "def update_cluster(cluster_dict, reverse_dict,site1, site2):\n",
    "    #Takes in a dictionary containing the site->cluster mapping, cluster->set of sites mapping, and the two sites being decimated\n",
    "    #Returns updated dictionaries, containing the new cluster data\n",
    "    clust1 = cluster_dict[site1]   #cluster of site 1\n",
    "    clust2 = cluster_dict[site2]   #cluster of site 2\n",
    "\n",
    "    #Add spins in clust2 to clust1\n",
    "    for dec_site in reverse_dict[clust2]:\n",
    "        cluster_dict[dec_site] = clust1\n",
    "\n",
    "    reverse_dict[clust1] += reverse_dict[clust2]\n",
    "    reverse_dict[clust2] = None\n",
    "\n",
    "    return cluster_dict, reverse_dict"
   ]
  },
  {
   "cell_type": "code",
   "execution_count": 265,
   "metadata": {},
   "outputs": [],
   "source": [
    "def gen_check_list(size, steps, divs):\n",
    "    i_vals = np.arange(divs)\n",
    "    C = np.log(size/(size-steps))/(divs-1)\n",
    "    return np.floor(size*np.exp(-i_vals * C)).astype(int)\n",
    "\n",
    "\n",
    "L = 40\n",
    "steps = int(0.995*L*L)\n",
    "a_mat = np.array([[0.1, 0.1],[0.1, 0.1]])\n",
    "b_mat = np.array([[0.105, 0.105],[0.105, 0.105]])\n",
    "\n",
    "w_blk = 5\n",
    "w_bdry = 5\n",
    "w_mixed = 5\n",
    "\n",
    "w_mat = np.array([[w_blk, w_mixed],[w_mixed, w_bdry]])\n",
    "\n",
    "\n",
    "measure_list = L*L - gen_check_list(L*L, steps, 20)\n",
    "\n",
    "\n",
    "zeta_dist_list_blk_blk = [np.array([]) for step in range(len(measure_list))]\n",
    "\n",
    "beta_dist_list_blk = [np.array([]) for step in range(len(measure_list))]\n",
    "beta_dist_list_bdry = [np.array([]) for step in range(len(measure_list))]\n",
    "\n",
    "n_runs = 1"
   ]
  },
  {
   "cell_type": "code",
   "execution_count": 266,
   "metadata": {},
   "outputs": [
    {
     "name": "stdout",
     "output_type": "stream",
     "text": [
      "67.10079288482666\n"
     ]
    }
   ],
   "source": [
    "bdry_moments = np.zeros(steps+2)\n",
    "blk_moments = np.zeros(steps+2)\n",
    "st_time = time.time()\n",
    "for run in range(n_runs):\n",
    "    ind_dict, adj_ind, bdry_dict = triangle_lattice_boundary_dictionary(L)\n",
    "\n",
    "    zeta_ij_vals = fill_zeta_ij_bdry(L*L, bdry_dict, adj_ind, a_mat, b_mat, w_mat)\n",
    "    beta_vals = fill_beta_vals_bdry(L*L, bdry_dict, 1.,1.)\n",
    "\n",
    "    test = bdry_log_system(L*L, adj_ind, bdry_dict, zeta_ij_vals, beta_vals, track_moments=True)\n",
    "\n",
    "    check_list_acc = 0\n",
    "    for i in range(steps+1):\n",
    "            test.decimate()\n",
    "            if i in measure_list:\n",
    "                    beta_remain_blk = test.beta_vals[~bdry_dict]\n",
    "                    beta_remain_blk = beta_remain_blk[beta_remain_blk!=0]\n",
    "\n",
    "                    beta_remain_bdry = test.beta_vals[bdry_dict]\n",
    "                    beta_remain_bdry = beta_remain_bdry[beta_remain_bdry!=0]\n",
    "\n",
    "                    beta_dist_list_blk[check_list_acc] = np.concatenate((beta_dist_list_blk[check_list_acc],beta_remain_blk))\n",
    "                    beta_dist_list_bdry[check_list_acc] = np.concatenate((beta_dist_list_bdry[check_list_acc],beta_remain_bdry))\n",
    "                    \n",
    "                    zeta_remain_blk_blk = test.zeta_ij_vals[~bdry_dict,:][:,~bdry_dict].data\n",
    "                    zeta_dist_list_blk_blk[check_list_acc] = np.concatenate((zeta_dist_list_blk_blk[check_list_acc], zeta_remain_blk_blk))\n",
    "                    \n",
    "                    check_list_acc+=1\n",
    "    blk_moments+=np.array(test.blk_moment_list)\n",
    "    bdry_moments+=np.array(test.bdry_moment_list)\n",
    "    \n",
    "print(time.time()-st_time)"
   ]
  },
  {
   "cell_type": "code",
   "execution_count": 267,
   "metadata": {},
   "outputs": [
    {
     "name": "stdout",
     "output_type": "stream",
     "text": [
      "0.010808760917288943 0.009454483370627126\n"
     ]
    }
   ],
   "source": [
    "b_times = np.array(test.beta_times)\n",
    "z_times = np.array(test.zeta_times)\n",
    "\n",
    "print(b_times.mean(), z_times.mean())"
   ]
  },
  {
   "cell_type": "code",
   "execution_count": 244,
   "metadata": {},
   "outputs": [
    {
     "data": {
      "text/plain": [
       "(array([22.,  6.,  0.,  0.,  4.,  0.,  0.,  2.,  4.,  4.]),\n",
       " array([  6.1850577 , 105.39117206, 204.59728642, 303.80340078,\n",
       "        403.00951515, 502.21562951, 601.42174387, 700.62785823,\n",
       "        799.8339726 , 899.04008696, 998.24620132]),\n",
       " <BarContainer object of 10 artists>)"
      ]
     },
     "execution_count": 244,
     "metadata": {},
     "output_type": "execute_result"
    },
    {
     "data": {
      "image/png": "[encoded data removed]",
      "text/plain": [
       "<Figure size 432x288 with 1 Axes>"
      ]
     },
     "metadata": {
      "needs_background": "light"
     },
     "output_type": "display_data"
    }
   ],
   "source": [
    "plt.hist(test.zeta_ij_vals.data)"
   ]
  },
  {
   "cell_type": "code",
   "execution_count": 242,
   "metadata": {},
   "outputs": [
    {
     "name": "stderr",
     "output_type": "stream",
     "text": [
      "/home/guaravtenkila/.local/lib/python3.8/site-packages/numpy/lib/histograms.py:883: RuntimeWarning: invalid value encountered in divide\n",
      "  return n/db/n.sum(), bin_edges\n"
     ]
    },
    {
     "ename": "ValueError",
     "evalue": "array must not contain infs or NaNs",
     "output_type": "error",
     "traceback": [
      "\u001b[0;31m---------------------------------------------------------------------------\u001b[0m",
      "\u001b[0;31mValueError\u001b[0m                                Traceback (most recent call last)",
      "\u001b[0;32m<ipython-input-242-f07250a82e60>\u001b[0m in \u001b[0;36m<module>\u001b[0;34m\u001b[0m\n\u001b[1;32m     23\u001b[0m         \u001b[0maxes\u001b[0m\u001b[0;34m[\u001b[0m\u001b[0;36m1\u001b[0m\u001b[0;34m]\u001b[0m\u001b[0;34m.\u001b[0m\u001b[0mscatter\u001b[0m\u001b[0;34m(\u001b[0m\u001b[0mx_bdry\u001b[0m\u001b[0;34m,\u001b[0m \u001b[0my_bdry\u001b[0m\u001b[0;34m,\u001b[0m \u001b[0mlabel\u001b[0m\u001b[0;34m=\u001b[0m\u001b[0;34m\"N=\"\u001b[0m\u001b[0;34m+\u001b[0m\u001b[0mstr\u001b[0m\u001b[0;34m(\u001b[0m\u001b[0mstep\u001b[0m\u001b[0;34m)\u001b[0m\u001b[0;34m,\u001b[0m \u001b[0mmarker\u001b[0m\u001b[0;34m=\u001b[0m\u001b[0;34m'o'\u001b[0m\u001b[0;34m)\u001b[0m\u001b[0;34m\u001b[0m\u001b[0;34m\u001b[0m\u001b[0m\n\u001b[1;32m     24\u001b[0m \u001b[0;34m\u001b[0m\u001b[0m\n\u001b[0;32m---> 25\u001b[0;31m     \u001b[0mpopt\u001b[0m\u001b[0;34m,\u001b[0m \u001b[0mpcov\u001b[0m \u001b[0;34m=\u001b[0m \u001b[0mcurve_fit\u001b[0m\u001b[0;34m(\u001b[0m\u001b[0mexponential_dist_norm\u001b[0m\u001b[0;34m,\u001b[0m \u001b[0mx_bdry\u001b[0m\u001b[0;34m[\u001b[0m\u001b[0;34m:\u001b[0m\u001b[0;36m15\u001b[0m\u001b[0;34m]\u001b[0m\u001b[0;34m,\u001b[0m \u001b[0my_bdry\u001b[0m\u001b[0;34m[\u001b[0m\u001b[0;34m:\u001b[0m\u001b[0;36m15\u001b[0m\u001b[0;34m]\u001b[0m\u001b[0;34m)\u001b[0m\u001b[0;34m\u001b[0m\u001b[0;34m\u001b[0m\u001b[0m\n\u001b[0m\u001b[1;32m     26\u001b[0m     \u001b[0;31m#plt.plot(x, exponential_dist_norm(x, *popt))\u001b[0m\u001b[0;34m\u001b[0m\u001b[0;34m\u001b[0m\u001b[0;34m\u001b[0m\u001b[0m\n\u001b[1;32m     27\u001b[0m     \u001b[0mwidth_bdry_list\u001b[0m\u001b[0;34m.\u001b[0m\u001b[0mappend\u001b[0m\u001b[0;34m(\u001b[0m\u001b[0;36m1\u001b[0m\u001b[0;34m/\u001b[0m\u001b[0mpopt\u001b[0m\u001b[0;34m[\u001b[0m\u001b[0;36m0\u001b[0m\u001b[0;34m]\u001b[0m\u001b[0;34m)\u001b[0m\u001b[0;34m\u001b[0m\u001b[0;34m\u001b[0m\u001b[0m\n",
      "\u001b[0;32m~/.local/lib/python3.8/site-packages/scipy/optimize/_minpack_py.py\u001b[0m in \u001b[0;36mcurve_fit\u001b[0;34m(f, xdata, ydata, p0, sigma, absolute_sigma, check_finite, bounds, method, jac, full_output, **kwargs)\u001b[0m\n\u001b[1;32m    805\u001b[0m     \u001b[0;31m# NaNs cannot be handled\u001b[0m\u001b[0;34m\u001b[0m\u001b[0;34m\u001b[0m\u001b[0;34m\u001b[0m\u001b[0m\n\u001b[1;32m    806\u001b[0m     \u001b[0;32mif\u001b[0m \u001b[0mcheck_finite\u001b[0m\u001b[0;34m:\u001b[0m\u001b[0;34m\u001b[0m\u001b[0;34m\u001b[0m\u001b[0m\n\u001b[0;32m--> 807\u001b[0;31m         \u001b[0mydata\u001b[0m \u001b[0;34m=\u001b[0m \u001b[0mnp\u001b[0m\u001b[0;34m.\u001b[0m\u001b[0masarray_chkfinite\u001b[0m\u001b[0;34m(\u001b[0m\u001b[0mydata\u001b[0m\u001b[0;34m,\u001b[0m \u001b[0mfloat\u001b[0m\u001b[0;34m)\u001b[0m\u001b[0;34m\u001b[0m\u001b[0;34m\u001b[0m\u001b[0m\n\u001b[0m\u001b[1;32m    808\u001b[0m     \u001b[0;32melse\u001b[0m\u001b[0;34m:\u001b[0m\u001b[0;34m\u001b[0m\u001b[0;34m\u001b[0m\u001b[0m\n\u001b[1;32m    809\u001b[0m         \u001b[0mydata\u001b[0m \u001b[0;34m=\u001b[0m \u001b[0mnp\u001b[0m\u001b[0;34m.\u001b[0m\u001b[0masarray\u001b[0m\u001b[0;34m(\u001b[0m\u001b[0mydata\u001b[0m\u001b[0;34m,\u001b[0m \u001b[0mfloat\u001b[0m\u001b[0;34m)\u001b[0m\u001b[0;34m\u001b[0m\u001b[0;34m\u001b[0m\u001b[0m\n",
      "\u001b[0;32m~/.local/lib/python3.8/site-packages/numpy/lib/function_base.py\u001b[0m in \u001b[0;36masarray_chkfinite\u001b[0;34m(a, dtype, order)\u001b[0m\n\u001b[1;32m    626\u001b[0m     \u001b[0ma\u001b[0m \u001b[0;34m=\u001b[0m \u001b[0masarray\u001b[0m\u001b[0;34m(\u001b[0m\u001b[0ma\u001b[0m\u001b[0;34m,\u001b[0m \u001b[0mdtype\u001b[0m\u001b[0;34m=\u001b[0m\u001b[0mdtype\u001b[0m\u001b[0;34m,\u001b[0m \u001b[0morder\u001b[0m\u001b[0;34m=\u001b[0m\u001b[0morder\u001b[0m\u001b[0;34m)\u001b[0m\u001b[0;34m\u001b[0m\u001b[0;34m\u001b[0m\u001b[0m\n\u001b[1;32m    627\u001b[0m     \u001b[0;32mif\u001b[0m \u001b[0ma\u001b[0m\u001b[0;34m.\u001b[0m\u001b[0mdtype\u001b[0m\u001b[0;34m.\u001b[0m\u001b[0mchar\u001b[0m \u001b[0;32min\u001b[0m \u001b[0mtypecodes\u001b[0m\u001b[0;34m[\u001b[0m\u001b[0;34m'AllFloat'\u001b[0m\u001b[0;34m]\u001b[0m \u001b[0;32mand\u001b[0m \u001b[0;32mnot\u001b[0m \u001b[0mnp\u001b[0m\u001b[0;34m.\u001b[0m\u001b[0misfinite\u001b[0m\u001b[0;34m(\u001b[0m\u001b[0ma\u001b[0m\u001b[0;34m)\u001b[0m\u001b[0;34m.\u001b[0m\u001b[0mall\u001b[0m\u001b[0;34m(\u001b[0m\u001b[0;34m)\u001b[0m\u001b[0;34m:\u001b[0m\u001b[0;34m\u001b[0m\u001b[0;34m\u001b[0m\u001b[0m\n\u001b[0;32m--> 628\u001b[0;31m         raise ValueError(\n\u001b[0m\u001b[1;32m    629\u001b[0m             \"array must not contain infs or NaNs\")\n\u001b[1;32m    630\u001b[0m     \u001b[0;32mreturn\u001b[0m \u001b[0ma\u001b[0m\u001b[0;34m\u001b[0m\u001b[0;34m\u001b[0m\u001b[0m\n",
      "\u001b[0;31mValueError\u001b[0m: array must not contain infs or NaNs"
     ]
    },
    {
     "data": {
      "image/png": "[encoded data removed]",
      "text/plain": [
       "<Figure size 864x288 with 2 Axes>"
      ]
     },
     "metadata": {
      "needs_background": "light"
     },
     "output_type": "display_data"
    }
   ],
   "source": [
    "spins_left = L*L - measure_list\n",
    "n_bins_h = 20\n",
    "width_blk_list = []\n",
    "width_bdry_list = []\n",
    "fig, axes = plt.subplots(nrows=1, ncols=2, figsize=(12, 4))\n",
    "\n",
    "for i,step in enumerate(spins_left[:-1]): \n",
    "    n_blk,bins_blk = np.histogram(beta_dist_list_blk[i], density=True, bins = n_bins_h, range=(0, 12))\n",
    "    width_blk = bins_blk[1]-bins_blk[0]\n",
    "    x_blk = (bins_blk[1:]-width_blk/2)\n",
    "    y_blk = n_blk \n",
    "\n",
    "    popt, pcov = curve_fit(exponential_dist_norm, x_blk[:10], y_blk[:10])\n",
    "    #plt.plot(x, exponential_dist_norm(x, *popt))\n",
    "    width_blk_list.append(1/popt[0])\n",
    "    \n",
    "    n_bdry,bins_bdry = np.histogram(beta_dist_list_bdry[i], density=True, bins = n_bins_h, range=(0, 12))\n",
    "    width_bdry = bins_bdry[1]-bins_bdry[0]\n",
    "    x_bdry = (bins_bdry[1:]-width_bdry/2)\n",
    "    y_bdry = n_bdry\n",
    "    if i%2==0:\n",
    "        axes[0].scatter(x_blk, y_blk, label=\"N=\"+str(step), marker='o')\n",
    "        axes[1].scatter(x_bdry, y_bdry, label=\"N=\"+str(step), marker='o')\n",
    "\n",
    "    popt, pcov = curve_fit(exponential_dist_norm, x_bdry[:15], y_bdry[:15])\n",
    "    #plt.plot(x, exponential_dist_norm(x, *popt))\n",
    "    width_bdry_list.append(1/popt[0])\n",
    "\n",
    "axes[0].set_yscale('log')\n",
    "axes[1].set_yscale('log')\n",
    "axes[0].set_xlim(0, 6)\n",
    "axes[1].set_xlim(0, 6)\n",
    "#plt.ylim(1e-1, 1)\n",
    "\n",
    "axes[0].set_xlabel(r\"Log field coupling $\\beta$\")\n",
    "axes[0].set_ylabel(r\"Distribution $R(\\beta)$\")\n",
    "axes[0].set_title(\"Distribution of Field Couplings\")\n",
    "#plt.yscale('log')\n",
    "axes[0].legend()"
   ]
  },
  {
   "cell_type": "code",
   "execution_count": 51,
   "metadata": {},
   "outputs": [
    {
     "data": {
      "image/png": "[encoded data removed]",
      "text/plain": [
       "<Figure size 864x576 with 1 Axes>"
      ]
     },
     "metadata": {
      "needs_background": "light"
     },
     "output_type": "display_data"
    }
   ],
   "source": [
    "spins_left = L*L - measure_list\n",
    "n_bins_h = 20\n",
    "#fig, axes = plt.subplots(nrows=1, ncols=2, figsize=(12, 4))\n",
    "plt.figure(figsize=(12, 8))\n",
    "\n",
    "for i,step in enumerate(spins_left[:-1]): \n",
    "    n_blk,bins_blk = np.histogram(zeta_dist_list_blk_blk[i], density=True, bins = n_bins_h, range=(0,12))\n",
    "    width_blk = bins_blk[1]-bins_blk[0]\n",
    "    x_blk = (bins_blk[1:]-width_blk/2)\n",
    "    y_blk = n_blk \n",
    "\n",
    "    x_bdry = (bins_bdry[1:]-width_bdry/2)\n",
    "    y_bdry = n_bdry\n",
    "    if i%2==0:\n",
    "        plt.scatter(x_blk, y_blk, label=\"N=\"+str(step), marker='o')\n",
    "        #axes[1].scatter(x_bdry, y_bdry, label=\"N=\"+str(step), marker='o')\n",
    "\n",
    "\n",
    "#axes[0].set_yscale('log')\n",
    "#axes[1].set_yscale('log')\n",
    "#axes[0].set_xlim(0, 6)\n",
    "#axes[1].set_xlim(0, 6)\n",
    "#plt.ylim(1e-1, 1)\n",
    "\n",
    "#axes[0].set_xlabel(r\"Log field coupling $\\beta$\")\n",
    "#axes[0].set_ylabel(r\"Distribution $R(\\beta)$\")\n",
    "#axes[0].set_title(\"Distribution of Field Couplings\")\n",
    "#plt.yscale('log')\n",
    "#axes[0].legend()"
   ]
  },
  {
   "cell_type": "code",
   "execution_count": 49,
   "metadata": {},
   "outputs": [
    {
     "name": "stdout",
     "output_type": "stream",
     "text": [
      "[0.16063379 3.39752951]\n",
      "[ 0.62992224 27.07362692]\n"
     ]
    },
    {
     "data": {
      "image/png": "[encoded data removed]",
      "text/plain": [
       "<Figure size 432x288 with 1 Axes>"
      ]
     },
     "metadata": {
      "needs_background": "light"
     },
     "output_type": "display_data"
    }
   ],
   "source": [
    "x = (L*L - measure_list)[:-1]\n",
    "plt.scatter(x, width_blk_list)\n",
    "\n",
    "\n",
    "start = -12\n",
    "end = -1\n",
    "\n",
    "plt.axvline(x=x[start])\n",
    "plt.axvline(x = x[end])\n",
    "popt, pcov = curve_fit(power_law_scale, x[start:end], width_blk_list[start:end])\n",
    "plt.plot(x, power_law_scale(x, *popt))\n",
    "print(popt)\n",
    "plt.scatter(x, width_bdry_list)\n",
    "\n",
    "popt, pcov = curve_fit(power_law_scale, x[start:end], width_bdry_list[start:end])\n",
    "plt.plot(x, power_law_scale(x, *popt))\n",
    "print(popt)\n",
    "plt.gca().invert_xaxis()\n",
    "plt.xscale('log')\n",
    "plt.yscale('log')\n"
   ]
  },
  {
   "cell_type": "code",
   "execution_count": 149,
   "metadata": {},
   "outputs": [
    {
     "name": "stderr",
     "output_type": "stream",
     "text": [
      "<ipython-input-18-a75d9d4413bb>:9: RuntimeWarning: overflow encountered in multiply\n",
      "  return scale*x**(-a)\n"
     ]
    },
    {
     "name": "stdout",
     "output_type": "stream",
     "text": [
      "0.45876937109850274 27.764236042189502\n",
      "0.453492295987269 32.901595372043126\n"
     ]
    },
    {
     "data": {
      "image/png": "[encoded data removed]",
      "text/plain": [
       "<Figure size 432x288 with 1 Axes>"
      ]
     },
     "metadata": {
      "needs_background": "light"
     },
     "output_type": "display_data"
    }
   ],
   "source": [
    "x = L*L - np.arange(steps)\n",
    "y1 = blk_moments[1:-1]/2\n",
    "y2 = bdry_moments[1:-1]/2\n",
    "\n",
    "plt.plot(x, y1)\n",
    "plt.plot(x, y2)\n",
    "\n",
    "popt, pcov = curve_fit(power_law_scale, x[1500:], y1[1500:])\n",
    "plt.plot(x, power_law_scale(x, *popt))\n",
    "print(*popt)\n",
    "\n",
    "popt, pcov = curve_fit(power_law_scale, x[1500:], y2[1500:])\n",
    "plt.plot(x, power_law_scale(x, *popt))\n",
    "print(*popt)\n",
    "\n",
    "plt.gca().invert_xaxis()\n",
    "plt.xscale('log')\n",
    "plt.yscale('log')"
   ]
  },
  {
   "cell_type": "code",
   "execution_count": 27,
   "metadata": {},
   "outputs": [],
   "source": [
    "zeta_stuff = test.zeta_ij_vals\n",
    "bdry_dict = test.bdry_dict"
   ]
  },
  {
   "cell_type": "code",
   "execution_count": 63,
   "metadata": {},
   "outputs": [
    {
     "ename": "TypeError",
     "evalue": "'coo_matrix' object is not subscriptable",
     "output_type": "error",
     "traceback": [
      "\u001b[0;31m---------------------------------------------------------------------------\u001b[0m",
      "\u001b[0;31mTypeError\u001b[0m                                 Traceback (most recent call last)",
      "\u001b[0;32m<ipython-input-63-967ca3b16b33>\u001b[0m in \u001b[0;36m<module>\u001b[0;34m\u001b[0m\n\u001b[0;32m----> 1\u001b[0;31m \u001b[0mplt\u001b[0m\u001b[0;34m.\u001b[0m\u001b[0mhist\u001b[0m\u001b[0;34m(\u001b[0m\u001b[0msparse\u001b[0m\u001b[0;34m.\u001b[0m\u001b[0mtriu\u001b[0m\u001b[0;34m(\u001b[0m\u001b[0mtest\u001b[0m\u001b[0;34m.\u001b[0m\u001b[0mzeta_ij_vals\u001b[0m\u001b[0;34m)\u001b[0m\u001b[0;34m[\u001b[0m\u001b[0;34m~\u001b[0m\u001b[0mtest\u001b[0m\u001b[0;34m.\u001b[0m\u001b[0mbdry_dict\u001b[0m\u001b[0;34m,\u001b[0m\u001b[0;34m:\u001b[0m\u001b[0;34m]\u001b[0m\u001b[0;34m[\u001b[0m\u001b[0;34m:\u001b[0m\u001b[0;34m,\u001b[0m\u001b[0;34m~\u001b[0m\u001b[0mtest\u001b[0m\u001b[0;34m.\u001b[0m\u001b[0mbdry_dict\u001b[0m\u001b[0;34m]\u001b[0m\u001b[0;34m.\u001b[0m\u001b[0mdata\u001b[0m\u001b[0;34m)\u001b[0m\u001b[0;34m\u001b[0m\u001b[0;34m\u001b[0m\u001b[0m\n\u001b[0m",
      "\u001b[0;31mTypeError\u001b[0m: 'coo_matrix' object is not subscriptable"
     ]
    }
   ],
   "source": [
    "plt.hist(sparse.triu(test.zeta_ij_vals)[~test.bdry_dict,:][:,~test.bdry_dict].data)"
   ]
  },
  {
   "cell_type": "code",
   "execution_count": 62,
   "metadata": {},
   "outputs": [
    {
     "data": {
      "text/plain": [
       "(array([30., 12., 16., 48., 50., 40., 36., 24., 12.,  4.]),\n",
       " array([ 2.19654228,  4.849007  ,  7.50147173, 10.15393645, 12.80640117,\n",
       "        15.45886589, 18.11133061, 20.76379533, 23.41626005, 26.06872478,\n",
       "        28.7211895 ]),\n",
       " <BarContainer object of 10 artists>)"
      ]
     },
     "execution_count": 62,
     "metadata": {},
     "output_type": "execute_result"
    },
    {
     "data": {
      "image/png": "[encoded data removed]",
      "text/plain": [
       "<Figure size 432x288 with 1 Axes>"
      ]
     },
     "metadata": {
      "needs_background": "light"
     },
     "output_type": "display_data"
    }
   ],
   "source": [
    "plt.hist(test.zeta_ij_vals[~test.bdry_dict,:][:,~test.bdry_dict].data)"
   ]
  },
  {
   "cell_type": "code",
   "execution_count": 65,
   "metadata": {},
   "outputs": [],
   "source": [
    "import pandas as pd"
   ]
  },
  {
   "cell_type": "code",
   "execution_count": 66,
   "metadata": {},
   "outputs": [],
   "source": [
    "x1 = np.arange(0, 10)\n",
    "y1 = np.random.random(len(x1))\n",
    "\n",
    "x2 = np.arange(0, 12)\n",
    "y2 = np.random.random(len(x2))"
   ]
  },
  {
   "cell_type": "code",
   "execution_count": 68,
   "metadata": {},
   "outputs": [],
   "source": [
    "#Try saving as a list of dictionaries (list indexed by timestamp)\n",
    "\n",
    "#each dictionary contains input params and the x and y of the histograms"
   ]
  },
  {
   "cell_type": "code",
   "execution_count": 331,
   "metadata": {},
   "outputs": [],
   "source": [
    "L = 10\n",
    "\n",
    "a_mat = np.array([[0.1, 0.1],[0.1, 0.1]])\n",
    "b_mat = np.array([[0.105, 0.105],[0.105, 0.105]])\n",
    "\n",
    "w_blk = 3.5\n",
    "w_bdry = 0.01\n",
    "w_mixed = 5\n",
    "\n",
    "w_mat = np.array([[w_blk, w_mixed],[w_mixed, w_bdry]])\n",
    "\n",
    "ind_dict, adj_ind, bdry_dict = triangle_lattice_boundary_dictionary(L)\n",
    "\n",
    "zeta_ij_vals = fill_zeta_ij_bdry(L*L, bdry_dict, adj_ind, a_mat, b_mat, w_mat)"
   ]
  },
  {
   "cell_type": "code",
   "execution_count": 332,
   "metadata": {},
   "outputs": [
    {
     "data": {
      "text/plain": [
       "(array([226.22133213,  56.55533303, 113.11066606, 113.11066606,\n",
       "        226.22133213, 169.6659991 ,  56.55533303,  56.55533303,\n",
       "          0.        , 113.11066606]),\n",
       " array([0.00084447, 0.00172856, 0.00261265, 0.00349674, 0.00438083,\n",
       "        0.00526492, 0.00614901, 0.0070331 , 0.00791719, 0.00880128,\n",
       "        0.00968537]),\n",
       " <BarContainer object of 10 artists>)"
      ]
     },
     "execution_count": 332,
     "metadata": {},
     "output_type": "execute_result"
    },
    {
     "data": {
      "image/png": "[encoded data removed]",
      "text/plain": [
       "<Figure size 1152x288 with 3 Axes>"
      ]
     },
     "metadata": {
      "needs_background": "light"
     },
     "output_type": "display_data"
    }
   ],
   "source": [
    "fig, axes = plt.subplots(nrows=1, ncols=3, figsize=(16, 4))\n",
    "\n",
    "axes[0].hist(zeta_ij_vals[~bdry_dict,:][:,~bdry_dict].data, density=True)    #Bulk-Bulk\n",
    "axes[1].hist(zeta_ij_vals[bdry_dict,:][:,~bdry_dict].data,density=True)       #Blk-Bdry\n",
    "axes[2].hist(zeta_ij_vals[bdry_dict,:][:,bdry_dict].data, density=True)       #Bdry-Bdry"
   ]
  },
  {
   "cell_type": "code",
   "execution_count": 333,
   "metadata": {},
   "outputs": [
    {
     "data": {
      "text/plain": [
       "(array([232.72224374,  58.18056093, 174.5416828 , 349.08336561,\n",
       "         58.18056093,   0.        ,  58.18056093,   0.        ,\n",
       "         58.18056093, 174.5416828 ]),\n",
       " array([0.00050408, 0.00136347, 0.00222287, 0.00308226, 0.00394166,\n",
       "        0.00480105, 0.00566044, 0.00651984, 0.00737923, 0.00823862,\n",
       "        0.00909802]),\n",
       " <BarContainer object of 10 artists>)"
      ]
     },
     "execution_count": 333,
     "metadata": {},
     "output_type": "execute_result"
    },
    {
     "data": {
      "image/png": "[encoded data removed]",
      "text/plain": [
       "<Figure size 1152x288 with 3 Axes>"
      ]
     },
     "metadata": {
      "needs_background": "light"
     },
     "output_type": "display_data"
    }
   ],
   "source": [
    "sampler = RandomLinDistWidthSampler(a_mat, b_mat, w_mat, L)\n",
    "\n",
    "zeta_ij_vals = fill_zeta_ij_bdry_GPT(L*L, bdry_dict, sampler)\n",
    "\n",
    "fig, axes = plt.subplots(nrows=1, ncols=3, figsize=(16, 4))\n",
    "\n",
    "axes[0].hist(zeta_ij_vals[~bdry_dict,:][:,~bdry_dict].data, density=True)    #Bulk-Bulk\n",
    "axes[1].hist(zeta_ij_vals[bdry_dict,:][:,~bdry_dict].data,density=True)       #Blk-Bdry\n",
    "axes[2].hist(zeta_ij_vals[bdry_dict,:][:,bdry_dict].data, density=True)       #Bdry-Bdry"
   ]
  },
  {
   "cell_type": "code",
   "execution_count": 334,
   "metadata": {},
   "outputs": [
    {
     "name": "stdout",
     "output_type": "stream",
     "text": [
      "10.980445146560669\n"
     ]
    }
   ],
   "source": [
    "t0 = time.time()\n",
    "sampler = RandomLinDistWidthSampler(a_mat, b_mat, w_mat, L*10)\n",
    "for i in range(10):\n",
    "    fill_zeta_ij_bdry_GPT(L*L, bdry_dict, sampler)\n",
    "print(time.time()-t0)\n",
    "\n"
   ]
  },
  {
   "cell_type": "code",
   "execution_count": 330,
   "metadata": {},
   "outputs": [],
   "source": [
    "from scipy.sparse import dok_matrix\n",
    "\n",
    "class RandomLinDistWidthSampler:\n",
    "    def __init__(self, a, b, w, L):\n",
    "        self.L = L\n",
    "        X = Symbol('x')\n",
    "        self.distributions = [ContinuousRV(X, (a[0,0]+b[0,0]*X)/(a[0,0]*w[0,0] + b[0,0]*w[0,0]**2/2), Interval(0, w[0,0])),\\\n",
    "                              ContinuousRV(X, (a[0,1]+b[0,1]*X)/(a[0,1]*w[0,1] + b[0,1]*w[0,1]**2/2), Interval(0, w[0,1])),\\\n",
    "                              ContinuousRV(X, (a[1,1]+b[1,1]*X)/(a[1,1]*w[1,1] + b[1,1]*w[1,1]**2/2), Interval(0, w[1,1]))]\n",
    "        self.samples_cache = [None, None, None]\n",
    "\n",
    "    def sample(self, coupling_type, n_samples):\n",
    "        if self.samples_cache[coupling_type] is None or len(self.samples_cache[coupling_type]) < n_samples:\n",
    "            self.samples_cache[coupling_type] = sample(self.distributions[coupling_type], size=(self.L*n_samples))  # get 10x needed\n",
    "        result = self.samples_cache[coupling_type][:n_samples]\n",
    "        self.samples_cache[coupling_type] = self.samples_cache[coupling_type][n_samples:]\n",
    "        return result\n",
    "\n",
    "sampler = RandomLinDistWidthSampler(a_mat, b_mat, w_mat, L)\n",
    "\n",
    "def fill_zeta_ij_bdry_GPT(size, bdry_dict, sampler):\n",
    "    zeta_ij_vals = dok_matrix((size, size))\n",
    "    \n",
    "    for ind in range(size):\n",
    "        tag = int(bdry_dict[ind])\n",
    "        \n",
    "        adj_ind_array = np.array(adj_ind[ind])\n",
    "        upper_ind = adj_ind_array[adj_ind_array>ind]\n",
    "        \n",
    "        bdry_ind = upper_ind[bdry_dict[upper_ind]]\n",
    "        blk_ind = upper_ind[~bdry_dict[upper_ind]]\n",
    "        \n",
    "        zeta_ij_vals[ind, bdry_ind] = sampler.sample(tag+1, len(bdry_ind))\n",
    "        zeta_ij_vals[ind, blk_ind] = sampler.sample(tag, len(blk_ind))\n",
    "    \n",
    "    zeta_ij_vals = zeta_ij_vals.tocsr()\n",
    "    \n",
    "    return zeta_ij_vals + zeta_ij_vals.T\n"
   ]
  },
  {
   "cell_type": "code",
   "execution_count": 350,
   "metadata": {},
   "outputs": [],
   "source": [
    "ind_dict, adj_ind, bdry_dict = triangle_lattice_boundary_dictionary(L)\n",
    "bdry_dict[:] = False\n",
    "bdry_dict = np.append(bdry_dict, True)\n",
    "ind_dict.update({L*L:(-1, 0)})\n",
    "adj_ind[L*L] = []\n",
    "for i in range(L):\n",
    "    adj_ind[i] = adj_ind[i]+[L*L]\n",
    "    adj_ind[L*L] = adj_ind[L*L]+[i]"
   ]
  },
  {
   "cell_type": "code",
   "execution_count": 355,
   "metadata": {},
   "outputs": [
    {
     "data": {
      "text/plain": [
       "101"
      ]
     },
     "execution_count": 355,
     "metadata": {},
     "output_type": "execute_result"
    }
   ],
   "source": []
  },
  {
   "cell_type": "code",
   "execution_count": null,
   "metadata": {},
   "outputs": [],
   "source": []
  }
 ],
 "metadata": {
  "kernelspec": {
   "display_name": "Python 3",
   "language": "python",
   "name": "python3"
  },
  "language_info": {
   "codemirror_mode": {
    "name": "ipython",
    "version": 3
   },
   "file_extension": ".py",
   "mimetype": "text/x-python",
   "name": "python",
   "nbconvert_exporter": "python",
   "pygments_lexer": "ipython3",
   "version": "3.8.10"
  }
 },
 "nbformat": 4,
 "nbformat_minor": 4
}
