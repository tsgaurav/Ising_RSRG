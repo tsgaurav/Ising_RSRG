{
 "cells": [
  {
   "cell_type": "code",
   "execution_count": 21,
   "id": "5daed7f1",
   "metadata": {},
   "outputs": [],
   "source": [
    "%run ../aux_funcs.py\n",
    "%run ../RSRG.py\n",
    "%run ../RSRG_class.py\n",
    "import time\n",
    "from sympy import Matrix"
   ]
  },
  {
   "cell_type": "code",
   "execution_count": 24,
   "id": "aa7a6b20",
   "metadata": {},
   "outputs": [],
   "source": [
    "L = 3\n",
    "steps = int(0.99*L*L)\n",
    "a, b = 0.1, 0.105\n",
    "measure_step = 30\n",
    "\n",
    "ind_dict, adj_ind = triangle_lattice_dictionary(L)\n",
    "nn_ind = triangle_nn_indices(L)\n",
    "nnn_ind = triangle_nnn_indices(L)\n",
    "\n",
    "measure_list = np.floor(steps*(1/(1.1**np.arange(1,60))))\n",
    "measure_list = measure_list.astype(int)\n",
    "check_list = np.floor(L*L*(1- 1/(1.6**np.arange(10))))\n",
    "\n",
    "runs = 1"
   ]
  },
  {
   "cell_type": "code",
   "execution_count": 25,
   "id": "4f7d8a09",
   "metadata": {},
   "outputs": [],
   "source": [
    "def chunk_retainer(ind_array, size):\n",
    "    eye_diag = np.ones(size)\n",
    "    eye_diag[ind_array] = 0\n",
    "    eye_diag = 1 - eye_diag\n",
    "    return sparse.diags(eye_diag)\n",
    "\n",
    "ret_2 = chunk_retainer([1], L*L)"
   ]
  },
  {
   "cell_type": "code",
   "execution_count": 26,
   "id": "071c5e28",
   "metadata": {},
   "outputs": [],
   "source": [
    "J_ij_vals = fill_J_ij_matrix(L*L, nn_ind, nnn_ind, a, b)\n",
    "h_vals = np.exp(-np.random.exponential(size=L*L))"
   ]
  },
  {
   "cell_type": "code",
   "execution_count": 32,
   "id": "7e1698d9",
   "metadata": {},
   "outputs": [
    {
     "name": "stdout",
     "output_type": "stream",
     "text": [
      "0.008511066436767578\n"
     ]
    }
   ],
   "source": [
    "t0 = time.time()\n",
    "\n",
    "Omega = J_ij_vals.max()\n",
    "r_ind, c_ind, J_ij = sparse.find(J_ij_vals) \n",
    "J_ind = np.where(J_ij == Omega)[0][0]\n",
    "i, j = r_ind[J_ind], c_ind[J_ind]\n",
    "\n",
    "h_vals[i] = h_vals[i]*h_vals[j]/Omega    \n",
    "h_vals[j] = 0\n",
    "\n",
    "update_adjacency_J_ij(adj_ind, i, j)\n",
    "\n",
    "J_ij_vals[i,adj_ind[i]] = J_ij_vals[i, adj_ind[i]].maximum(J_ij_vals[j, adj_ind[i]])\n",
    "J_ij_vals[adj_ind[i], i] = J_ij_vals[i,adj_ind[i]]\n",
    "\n",
    "eye = chunk_deleter([j], L*L)\n",
    "J_ij_vals = eye @ J_ij_vals @ eye\n",
    "\n",
    "\n",
    "#J_ij_vals[j,adj_ind[j]] = 0\n",
    "#J_ij_vals[adj_ind[j],j] = 0\n",
    "\n",
    "print(time.time()-t0)"
   ]
  },
  {
   "cell_type": "code",
   "execution_count": 33,
   "id": "4014c3f6",
   "metadata": {},
   "outputs": [
    {
     "data": {
      "text/latex": [
       "$\\displaystyle \\left[\\begin{matrix}0 & 0 & 0 & 0 & 0 & 0 & 0 & 0 & 0\\\\0 & 0 & 0 & 0 & 0 & 0 & 0 & 0 & 0\\\\0 & 0 & 0 & 0.000775434699013936 & 1.41584840070953 \\cdot 10^{-5} & 1.16119127923219 \\cdot 10^{-5} & 6.68552884292801 \\cdot 10^{-6} & 0.00030178201795009 & 0.000636273758271303\\\\0 & 0 & 0.000775434699013936 & 0 & 0.000156326868914371 & 0.000114916788813099 & 8.20204129469457 \\cdot 10^{-5} & 8.03629892676171 \\cdot 10^{-6} & 0.00065693531768243\\\\0 & 0 & 1.41584840070953 \\cdot 10^{-5} & 0.000156326868914371 & 0 & 0.000338762499131888 & 0.000101119743834235 & 0.000182940266222783 & 0.000349209591758128\\\\0 & 0 & 1.16119127923219 \\cdot 10^{-5} & 0.000114916788813099 & 0.000338762499131888 & 0 & 7.16707625346196 \\cdot 10^{-6} & 0.000293320647764328 & 0.000478178735354728\\\\0 & 0 & 6.68552884292801 \\cdot 10^{-6} & 8.20204129469457 \\cdot 10^{-5} & 0.000101119743834235 & 7.16707625346196 \\cdot 10^{-6} & 0 & 0.000141021044752812 & 0.000153453369292603\\\\0 & 0 & 0.00030178201795009 & 8.03629892676171 \\cdot 10^{-6} & 0.000182940266222783 & 0.000293320647764328 & 0.000141021044752812 & 0 & 0.000215910748817254\\\\0 & 0 & 0.000636273758271303 & 0.00065693531768243 & 0.000349209591758128 & 0.000478178735354728 & 0.000153453369292603 & 0.000215910748817254 & 0\\end{matrix}\\right]$"
      ],
      "text/plain": [
       "Matrix([\n",
       "[0, 0,                    0,                    0,                    0,                    0,                    0,                    0,                    0],\n",
       "[0, 0,                    0,                    0,                    0,                    0,                    0,                    0,                    0],\n",
       "[0, 0,                    0, 0.000775434699013936,  1.41584840070953e-5,  1.16119127923219e-5,  6.68552884292801e-6,  0.00030178201795009, 0.000636273758271303],\n",
       "[0, 0, 0.000775434699013936,                    0, 0.000156326868914371, 0.000114916788813099,  8.20204129469457e-5,  8.03629892676171e-6,  0.00065693531768243],\n",
       "[0, 0,  1.41584840070953e-5, 0.000156326868914371,                    0, 0.000338762499131888, 0.000101119743834235, 0.000182940266222783, 0.000349209591758128],\n",
       "[0, 0,  1.16119127923219e-5, 0.000114916788813099, 0.000338762499131888,                    0,  7.16707625346196e-6, 0.000293320647764328, 0.000478178735354728],\n",
       "[0, 0,  6.68552884292801e-6,  8.20204129469457e-5, 0.000101119743834235,  7.16707625346196e-6,                    0, 0.000141021044752812, 0.000153453369292603],\n",
       "[0, 0,  0.00030178201795009,  8.03629892676171e-6, 0.000182940266222783, 0.000293320647764328, 0.000141021044752812,                    0, 0.000215910748817254],\n",
       "[0, 0, 0.000636273758271303,  0.00065693531768243, 0.000349209591758128, 0.000478178735354728, 0.000153453369292603, 0.000215910748817254,                    0]])"
      ]
     },
     "execution_count": 33,
     "metadata": {},
     "output_type": "execute_result"
    }
   ],
   "source": [
    "Matrix(J_ij_vals.toarray())"
   ]
  },
  {
   "cell_type": "code",
   "execution_count": 42,
   "id": "658809bc",
   "metadata": {},
   "outputs": [
    {
     "data": {
      "text/plain": [
       "(array([1010., 1020.,  955.,  976., 1004., 1069.,  990., 1001.,  995.,\n",
       "         980.]),\n",
       " array([0.10001412, 0.11001167, 0.12000923, 0.13000679, 0.14000434,\n",
       "        0.1500019 , 0.15999945, 0.16999701, 0.17999457, 0.18999212,\n",
       "        0.19998968]),\n",
       " <BarContainer object of 10 artists>)"
      ]
     },
     "execution_count": 42,
     "metadata": {},
     "output_type": "execute_result"
    },
    {
     "data": {
      "image/png": "[encoded data removed]",
      "text/plain": [
       "<Figure size 640x480 with 1 Axes>"
      ]
     },
     "metadata": {},
     "output_type": "display_data"
    }
   ],
   "source": [
    "a,b = 0.1, 0.1\n",
    "\n",
    "\n",
    "samples = a+b-np.exp(-np.random.exponential(size=(10000)))*b\n",
    "plt.hist(samples)"
   ]
  },
  {
   "cell_type": "code",
   "execution_count": null,
   "id": "18de0a15",
   "metadata": {},
   "outputs": [],
   "source": []
  }
 ],
 "metadata": {
  "kernelspec": {
   "display_name": "Python 3 (ipykernel)",
   "language": "python",
   "name": "python3"
  },
  "language_info": {
   "codemirror_mode": {
    "name": "ipython",
    "version": 3
   },
   "file_extension": ".py",
   "mimetype": "text/x-python",
   "name": "python",
   "nbconvert_exporter": "python",
   "pygments_lexer": "ipython3",
   "version": "3.8.10"
  }
 },
 "nbformat": 4,
 "nbformat_minor": 5
}
