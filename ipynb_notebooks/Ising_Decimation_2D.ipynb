{
 "cells": [
  {
   "cell_type": "code",
   "execution_count": 1,
   "id": "95298920",
   "metadata": {},
   "outputs": [],
   "source": [
    "import numpy as np\n",
    "import matplotlib.pyplot as plt\n",
    "from scipy.optimize import curve_fit\n",
    "from sympy import Matrix\n",
    "import time"
   ]
  },
  {
   "cell_type": "code",
   "execution_count": 129,
   "id": "fc0d0792",
   "metadata": {},
   "outputs": [],
   "source": [
    "\"\"\"\n",
    "Idea is to index a 2D array using some 1D curve. Thus, there is an index mapping from each (x,y)->ind\n",
    "Further, each site also has an adjancency set. This is the set of indices that are coupled to the site by an FM interaction\n",
    "The model is defined using a 1xN field matrix and an NxN coupling matrix. The coupling matrix is sparse. N = LxW\n",
    "\"\"\"\n",
    "\n",
    "def index_map(x, y, L):\n",
    "    if x>L or y>L: return None\n",
    "    return x*L + y\n",
    "\n",
    "def square_lattice_dictionary(L):\n",
    "    \n",
    "    ind_dict = {}\n",
    "    adj_ind = {}\n",
    "    \n",
    "    for x in range(L):\n",
    "        for y in range(L):\n",
    "            ind_0 = index_map(x,y,L)\n",
    "\n",
    "            adjs = [index_map(x,(y+1)%L, L), index_map(x,(y-1)%L, L), index_map((x+1)%L,y, L), index_map((x-1)%L,y, L)]\n",
    "            \n",
    "            ind_dict[ind_0] = (x,y)\n",
    "            adj_ind[ind_0] = adjs\n",
    "    return ind_dict, adj_ind\n",
    "\n",
    "def triangle_lattice_dictionary(L):\n",
    "    ind_dict = {}\n",
    "    adj_ind = {}\n",
    "    \n",
    "    for x in range(L):\n",
    "        for y in range(L):\n",
    "            ind_0 = index_map(x,y,L)\n",
    "\n",
    "            adjs = [index_map(x,(y+1)%L, L), index_map(x,(y-1)%L, L), index_map((x+1)%L,y, L), index_map((x-1)%L,y, L)]\n",
    "            adjs.append(index_map((x+1)%L,(y-(-1)**(x%2))%L, L))\n",
    "            adjs.append(index_map((x-1)%L,(y-(-1)**(x%2))%L, L))\n",
    "\n",
    "            ind_dict[ind_0] = (x,y)\n",
    "            adj_ind[ind_0] = adjs\n",
    "    return ind_dict, adj_ind\n",
    "\n",
    "\n",
    "ind_dict, adj_ind = trinagle_lattice_dictionary(L)\n",
    "\n",
    "def fill_J_ij_matrix(size, adj_ind, a, b):\n",
    "    J_ij_vals = np.zeros(shape=(size, size))\n",
    "    for ind in range(size):\n",
    "        J_ij_vals[ind, adj_ind[ind]] = np.exp(-np.array(random_custDist(a, b, custDist=custDist, size=len(adj_ind[ind]))))\n",
    "    \n",
    "    J_ij_vals[np.triu_indices(J_ij_vals.shape[0], k = 1)] = 0\n",
    "    \n",
    "    return J_ij_vals+J_ij_vals.T\n",
    "\n",
    "def power_law(x, a):\n",
    "    return x**(-a)\n",
    "\n",
    "def power_law_scale(x, a, scale):\n",
    "    return scale*x**(-a)\n",
    "\n",
    "def exponential_dist_norm(x, a):\n",
    "    return a*np.exp(-a*x)\n",
    "\n",
    "def exponential_dist(x, A, b):\n",
    "    return A*np.exp(-b*x)"
   ]
  },
  {
   "cell_type": "code",
   "execution_count": 3,
   "id": "238a06dc",
   "metadata": {},
   "outputs": [
    {
     "data": {
      "text/plain": [
       "[<matplotlib.lines.Line2D at 0x142bcf9fa00>]"
      ]
     },
     "execution_count": 3,
     "metadata": {},
     "output_type": "execute_result"
    },
    {
     "data": {
      "image/png": "[encoded data removed]",
      "text/plain": [
       "<Figure size 432x288 with 1 Axes>"
      ]
     },
     "metadata": {
      "needs_background": "light"
     },
     "output_type": "display_data"
    }
   ],
   "source": [
    "def random_custDist(a,b,custDist,size=None, nControl=10**6):\n",
    "    #genearte a list of size random samples, obeying the distribution custDist\n",
    "    #suggests random samples between x0 and x1 and accepts the suggestion with probability custDist(x)\n",
    "    #custDist noes not need to be normalized. Add this condition to increase performance. \n",
    "    #Best performance for max_{x in [x0,x1]} custDist(x) = 1\n",
    "    samples=[]\n",
    "    nLoop=0\n",
    "    \n",
    "    low = 0\n",
    "    high = (np.sqrt(a**2 + 2*b) - a)/b\n",
    "    \n",
    "    while len(samples)<size and nLoop<nControl:\n",
    "        x=np.random.uniform(low=low,high=high)\n",
    "        prop=custDist(x, a, b)\n",
    "        assert prop>=0 and prop<=1\n",
    "        if np.random.uniform(low=0,high=1) <=prop:\n",
    "            samples += [x]\n",
    "        nLoop+=1\n",
    "    return samples\n",
    "\n",
    "#call\n",
    "a=0.1\n",
    "b=0.1\n",
    "def custDist(x, a, b):\n",
    "    return a + b*x\n",
    "samples=random_custDist(a,b,custDist=custDist,size=100000)\n",
    "#print(samples)\n",
    "\n",
    "plt.hist(np.array(samples), density=True, bins = 20)\n",
    "\n",
    "x = np.linspace(0, (np.sqrt(a**2 + 2*b) - a)/b, 1000)\n",
    "\n",
    "plt.plot(x, np.array(custDist(x, a, b)))"
   ]
  },
  {
   "cell_type": "code",
   "execution_count": 4,
   "id": "e1ed2751",
   "metadata": {},
   "outputs": [],
   "source": [
    "def update_adjacency_J_ij(adj_ind, i, j):\n",
    "    #Updates adjaceny set of i with that of j\n",
    "    #Also deletes index from the adjacency list of other indices\n",
    "    adj_i = adj_ind[i]\n",
    "    adj_j = adj_ind[j]\n",
    "    \n",
    "    adj_i_new = list(set(adj_i+adj_j))\n",
    "    adj_i_new = list(set(adj_i_new)-set([i, j]))\n",
    "    adj_ind[i] = adj_i_new\n",
    "    adj_ind[j] = []\n",
    "    \n",
    "    for k in adj_i_new:\n",
    "        adj_ind[k] = list(set(adj_ind[k]+[i])-set([j]))\n",
    "        \n",
    "    return None\n",
    "\n",
    "def update_adjacency_h(adj_ind, i):\n",
    "    #Updates adjacency set of every element in adj(i) with adj(i)\n",
    "    #Also deletes index i from adj(k) for all k in adj(i)\n",
    "    adj_i = adj_ind[i]\n",
    "    \n",
    "    for k in adj_ind[i]:\n",
    "        adj_ind[k] = list(set(adj_ind[k]+adj_i)-set([i]))\n",
    "        \n",
    "    adj_ind[i] = []\n",
    "    return None\n",
    "    "
   ]
  },
  {
   "cell_type": "code",
   "execution_count": 5,
   "id": "6c6a75b5",
   "metadata": {},
   "outputs": [
    {
     "name": "stdout",
     "output_type": "stream",
     "text": [
      "[0.34083756]\n"
     ]
    },
    {
     "data": {
      "image/png": "[encoded data removed]",
      "text/plain": [
       "<Figure size 432x288 with 1 Axes>"
      ]
     },
     "metadata": {
      "needs_background": "light"
     },
     "output_type": "display_data"
    }
   ],
   "source": [
    "L = 10\n",
    "ind_dict, adj_ind = square_lattice_dictionary(L)\n",
    "\n",
    "a_vals = np.array([0.1])#np.arange(0.05, 0.2, 0.02)\n",
    "b_vals = np.array([0.1])#np.arange(0.1,0.3,0.03)\n",
    "\n",
    "\n",
    "h_vals = np.exp(-np.random.exponential(size=L*L))\n",
    "J_ij_vals = fill_J_ij_matrix(L*L, adj_ind, a, b)\n",
    "\n",
    "n,bins, pacthes = plt.hist(-np.log(h_vals), density=True, bins = 30)\n",
    "\n",
    "width = bins[1]-bins[0]\n",
    "\n",
    "popt, pcov = curve_fit(power_law, bins[1:]-width/2, n)\n",
    "\n",
    "plt.plot(bins, power_law(bins, *popt))\n",
    "print(popt)"
   ]
  },
  {
   "cell_type": "code",
   "execution_count": 46,
   "id": "cf29621b",
   "metadata": {},
   "outputs": [
    {
     "name": "stdout",
     "output_type": "stream",
     "text": [
      "Step: 0/1500\n",
      "Step: 500/1500\n",
      "Step: 1000/1500\n"
     ]
    },
    {
     "data": {
      "image/png": "[encoded data removed]",
      "text/plain": [
       "<Figure size 432x288 with 1 Axes>"
      ]
     },
     "metadata": {
      "needs_background": "light"
     },
     "output_type": "display_data"
    }
   ],
   "source": [
    "L = 40\n",
    "steps = 1500\n",
    "Gamma_array = np.zeros(shape=(len(a_vals), len(b_vals), steps))\n",
    "R0_array = []\n",
    "R0_array_err = []\n",
    "\n",
    "\n",
    "for l, a in enumerate(a_vals):\n",
    "    for m, b in enumerate(b_vals):\n",
    "        \n",
    "        ind_dict, adj_ind = square_lattice_dictionary(L)\n",
    "        \n",
    "        J_ij_vals = fill_J_ij_matrix(L*L, adj_ind, a, b)\n",
    "        h_vals = np.exp(-np.random.exponential(size=L*L))\n",
    "        \n",
    "        Omega_0 = max(h_vals.max(), J_ij_vals.max())\n",
    "        for step in range(steps):\n",
    "    \n",
    "            if step%500 == 0: print (\"Step: \"+str(step)+\"/\"+str(steps))\n",
    "            Omega = max(h_vals.max(), J_ij_vals.max())\n",
    "            Gamma_array[l,m,step] = (np.log(Omega_0/Omega))\n",
    "\n",
    "            if Omega == J_ij_vals.max():\n",
    "                \"\"\"\n",
    "                Strongest term is an Ising coupling -> Renormalizes to a field given by h_i * h_j/J_ij\n",
    "                Delete one of the elements (say h_i), shortening h_vals\n",
    "                Update adjacency of j to include both adj(i) and adj(j)\n",
    "                Set new Jnew_jk = max (J_jk, J_ik)\n",
    "                Delete the corresponding row and column in J_ij (J_i* and J*i) and set the adjacency of i to []\n",
    "                \"\"\"\n",
    "                i_list, j_list = np.asarray(J_ij_vals == J_ij_vals.max()).nonzero()\n",
    "                i = i_list[0]\n",
    "                j = j_list[0]\n",
    "\n",
    "                h_vals[i] = h_vals[i]*h_vals[j]/Omega    #Might need to include a factor of 2 here since we are symmetrizing later\n",
    "                h_vals[j] = 0\n",
    "\n",
    "                update_adjacency_J_ij(adj_ind, i, j)\n",
    "\n",
    "                J_ij_vals[i,adj_ind[i]] = np.maximum(J_ij_vals[i, adj_ind[i]], J_ij_vals[j, adj_ind[i]])\n",
    "                J_ij_vals[adj_ind[i], i] = J_ij_vals[i,adj_ind[i]]\n",
    "\n",
    "                J_ij_vals[j,:] = 0\n",
    "                J_ij_vals[:,j] = 0\n",
    "\n",
    "            elif Omega == h_vals.max():\n",
    "                \"\"\"\n",
    "                \"\"\"\n",
    "                i = np.where(h_vals == h_vals.max())[0][0]\n",
    "                adj_i = adj_ind[i]\n",
    "                J_ij_new = np.einsum('j,k->jk', J_ij_vals[adj_i, i], J_ij_vals[i, adj_i])/Omega\n",
    "\n",
    "                J_ij_vals[adj_i, :][:, adj_i] = np.maximum(J_ij_new, J_ij_vals[adj_i,:][:, adj_i])\n",
    "\n",
    "                h_vals[i] = 0\n",
    "\n",
    "                J_ij_vals[i,:] = 0\n",
    "                J_ij_vals[:,i] = 0\n",
    "\n",
    "                update_adjacency_h(adj_ind, i)\n",
    "            \n",
    "            if step%20 == 0:\n",
    "                h_vals_remain = h_vals[h_vals!=0]\n",
    "\n",
    "                n,bins, pacthes = plt.hist(-np.log(h_vals_remain), density=True, bins = 40)\n",
    "\n",
    "                width = bins[1]-bins[0]\n",
    "                popt, pcov = curve_fit(power_law, bins[1:]-width/2, n)\n",
    "                R0_array.append(popt[0])\n",
    "                R0_array_err.append(pcov[0][0])"
   ]
  },
  {
   "cell_type": "code",
   "execution_count": 47,
   "id": "be41772c",
   "metadata": {},
   "outputs": [
    {
     "data": {
      "text/plain": [
       "<matplotlib.legend.Legend at 0x240e4edb6a0>"
      ]
     },
     "execution_count": 47,
     "metadata": {},
     "output_type": "execute_result"
    },
    {
     "data": {
      "image/png": "[encoded data removed]",
      "text/plain": [
       "<Figure size 648x432 with 1 Axes>"
      ]
     },
     "metadata": {
      "needs_background": "light"
     },
     "output_type": "display_data"
    }
   ],
   "source": [
    "n_array = (- np.arange(steps)+(L*L))/(L*L)\n",
    "plt.figure(figsize=(9, 6))\n",
    "for l, a in enumerate(a_vals):\n",
    "    for m, b in enumerate(b_vals):\n",
    "        plt.scatter(Gamma_array[l,m,:],  n_array, s=10, label=\"(\"+str(a)+', '+str(b)+\")\")\n",
    "plt.plot(Gamma_array[0,0,:], (Gamma_array[0,0,:]+1)**(-1.9))\n",
    "plt.legend()"
   ]
  },
  {
   "cell_type": "code",
   "execution_count": 8,
   "id": "462740e7",
   "metadata": {},
   "outputs": [
    {
     "data": {
      "image/png": "[encoded data removed]",
      "text/plain": [
       "<Figure size 432x288 with 1 Axes>"
      ]
     },
     "metadata": {
      "needs_background": "light"
     },
     "output_type": "display_data"
    }
   ],
   "source": [
    "plt.errorbar(np.arange(len(R0_array)), 1/np.array(R0_array))#, yerr=np.sqrt(np.array(R0_array_err))/np.array(R0_array)**2)\n",
    "plt.yscale('log')"
   ]
  },
  {
   "cell_type": "code",
   "execution_count": 407,
   "id": "c5d82871",
   "metadata": {},
   "outputs": [
    {
     "name": "stdout",
     "output_type": "stream",
     "text": [
      "[0.54397943]\n",
      "[[0.0708541]]\n"
     ]
    },
    {
     "data": {
      "image/png": "[encoded data removed]",
      "text/plain": [
       "<Figure size 432x288 with 1 Axes>"
      ]
     },
     "metadata": {
      "needs_background": "light"
     },
     "output_type": "display_data"
    }
   ],
   "source": [
    "h_vals_remain = h_vals[h_vals>1e-4]\n",
    "\n",
    "n,bins, pacthes = plt.hist(-np.log(h_vals_remain), density=True, bins = 30)\n",
    "\n",
    "width = bins[1]-bins[0]\n",
    "\n",
    "\n",
    "x_data = bins[1:]-width/2\n",
    "popt, pcov = curve_fit(power_law,x_data, n)\n",
    "\n",
    "plt.plot(x_data, power_law(x_data, *popt))\n",
    "print(popt)\n",
    "print(pcov)"
   ]
  },
  {
   "cell_type": "code",
   "execution_count": 408,
   "id": "17ab944b",
   "metadata": {},
   "outputs": [
    {
     "name": "stdout",
     "output_type": "stream",
     "text": [
      "[10.43487234 -5.94074295]\n"
     ]
    },
    {
     "data": {
      "image/png": "[encoded data removed]",
      "text/plain": [
       "<Figure size 432x288 with 1 Axes>"
      ]
     },
     "metadata": {
      "needs_background": "light"
     },
     "output_type": "display_data"
    }
   ],
   "source": [
    "J_vals_remain = J_ij_vals[J_ij_vals!=0]\n",
    "n,bins, pacthes = plt.hist(-np.log(J_vals_remain), density=True, bins = 20)\n",
    "width = bins[1]-bins[0]\n",
    "x_data = bins[1:]-width/2\n",
    "popt, pcov = curve_fit(custDist, x_data, n)\n",
    "\n",
    "plt.plot(x_data, custDist(x_data, *popt))\n",
    "print(popt)\n",
    "#print(pcov)"
   ]
  },
  {
   "cell_type": "code",
   "execution_count": 91,
   "id": "b4a34b4b",
   "metadata": {},
   "outputs": [
    {
     "data": {
      "text/plain": [
       "<BarContainer object of 2 artists>"
      ]
     },
     "execution_count": 91,
     "metadata": {},
     "output_type": "execute_result"
    }
   ],
   "source": [
    "pacthes"
   ]
  },
  {
   "cell_type": "code",
   "execution_count": 51,
   "id": "9e618e47",
   "metadata": {},
   "outputs": [],
   "source": [
    "class Site:\n",
    "    def __init__(self, ind, adj):\n",
    "        self.ind = ind\n",
    "        self.adj = adj\n",
    "        return  None\n",
    "    \n",
    "    def add_adj_ind(self, adj_ext):\n",
    "        self.adj = list(set(self.adj+adj_ext))\n",
    "        return None\n",
    "    \n",
    "    def rm_adj_ind(self, adj_rm):\n",
    "        self.adj = list(set(self.adj)-set(adj_rm))\n",
    "        return None\n"
   ]
  },
  {
   "cell_type": "code",
   "execution_count": 245,
   "id": "7f1f4b53",
   "metadata": {},
   "outputs": [
    {
     "data": {
      "text/plain": [
       "66"
      ]
     },
     "execution_count": 245,
     "metadata": {},
     "output_type": "execute_result"
    }
   ],
   "source": [
    "L = 10\n",
    "\n",
    "lat_ind, adj_ind = square_lattice_dictionary(L)\n",
    "\n",
    "J_ij_vals = np.zeros(shape=(L*L,L*L))\n",
    "h_vals = np.random.uniform(size=(L*L))\n",
    "\n",
    "for ind in range(L*L):\n",
    "    J_ij_vals[ind, adj_ind[ind]] = np.random.uniform(size=(1,len(adj_ind[ind])))\n",
    "    \n",
    "J = (J_ij_vals+ J_ij_vals.T)/2\n",
    "\n",
    "Omega = h_vals.max()\n",
    "#i,j = np.asarray(J == J.max()).nonzero()\n",
    "i = np.where(h_vals == h_vals.max())[0][0]\n",
    "i"
   ]
  },
  {
   "cell_type": "code",
   "execution_count": 246,
   "id": "dbcad7bf",
   "metadata": {},
   "outputs": [],
   "source": [
    "def fill_J_ij_matrix(size, adj_ind, a, b):\n",
    "    J_ij_vals = np.zeros(shape=(size, size))\n",
    "    for ind in range(size):\n",
    "        J_ij_vals[ind, adj_ind[ind]] = np.exp(-np.array(random_custDist(a, b, custDist=custDist, size=len(adj_ind[ind]))))\n",
    "    \n",
    "    J_ij_vals[np.triu_indices(J_ij_vals.shape[0], k = 1)] = 0\n",
    "    \n",
    "    return J_ij_vals+J_ij_vals.T"
   ]
  },
  {
   "cell_type": "code",
   "execution_count": 248,
   "id": "afa2a03f",
   "metadata": {},
   "outputs": [],
   "source": [
    "L = 40\n",
    "\n",
    "ind_dict, adj_ind = square_lattice_dictionary(L)\n",
    "\n",
    "X = fill_J_ij_matrix(L*L, adj_ind, 0.1, 0.1)\n"
   ]
  },
  {
   "cell_type": "code",
   "execution_count": 249,
   "id": "32fd6306",
   "metadata": {},
   "outputs": [],
   "source": [
    "elements = []\n",
    "\n",
    "for i in range(L):\n",
    "    for j in range(L):\n",
    "        if X[i,j]!=0: elements.append(X[i,j])"
   ]
  },
  {
   "cell_type": "code",
   "execution_count": 250,
   "id": "f36ec50c",
   "metadata": {},
   "outputs": [
    {
     "name": "stdout",
     "output_type": "stream",
     "text": [
      "80\n"
     ]
    },
    {
     "data": {
      "image/png": "[encoded data removed]",
      "text/plain": [
       "<Figure size 432x288 with 1 Axes>"
      ]
     },
     "metadata": {
      "needs_background": "light"
     },
     "output_type": "display_data"
    }
   ],
   "source": [
    "plt.hist(elements, density=True)\n",
    "print(len(elements))"
   ]
  },
  {
   "cell_type": "code",
   "execution_count": 219,
   "id": "f16a1acf",
   "metadata": {},
   "outputs": [
    {
     "data": {
      "text/plain": [
       "(array([0.22459831, 0.11229916, 0.21056092, 0.22459831, 0.21056092,\n",
       "        0.29478529, 0.33689747, 0.32286008, 0.32286008, 0.54745839]),\n",
       " array([2.52293311e-03, 3.58714387e-01, 7.14905841e-01, 1.07109729e+00,\n",
       "        1.42728875e+00, 1.78348020e+00, 2.13967166e+00, 2.49586311e+00,\n",
       "        2.85205456e+00, 3.20824602e+00, 3.56443747e+00]),\n",
       " <BarContainer object of 10 artists>)"
      ]
     },
     "execution_count": 219,
     "metadata": {},
     "output_type": "execute_result"
    },
    {
     "data": {
      "image/png": "[encoded data removed]",
      "text/plain": [
       "<Figure size 432x288 with 1 Axes>"
      ]
     },
     "metadata": {
      "needs_background": "light"
     },
     "output_type": "display_data"
    }
   ],
   "source": [
    "steps = 90\n",
    "Gamma_array = np.zeros(shape=(len(a_vals), len(b_vals), steps))\n",
    "R0_array = []\n",
    "R0_array_err = []\n",
    "\n",
    "\n",
    "for l, a in enumerate(a_vals):\n",
    "    for m, b in enumerate(b_vals):\n",
    "        \n",
    "        ind_dict, adj_ind = square_lattice_dictionary(L)\n",
    "        \n",
    "        J_ij_vals = fill_J_ij_matrix(L*L, adj_ind, a, b)\n",
    "        h_vals = np.exp(-np.random.exponential(size=L*L))\n",
    "        \n",
    "        Omega_0 = max(h_vals.max(), J_ij_vals.max())\n",
    "        for step in range(steps):\n",
    "    \n",
    "            if step%500 == 0: print (\"Step: \"+str(step)+\"/\"+str(steps))\n",
    "            Omega = max(h_vals.max(), J_ij_vals.max())\n",
    "            Gamma_array[l,m,step] = (np.log(Omega_0/Omega))\n",
    "\n",
    "            if Omega == J_ij_vals.max():\n",
    "                \"\"\"\n",
    "                Strongest term is an Ising coupling -> Renormalizes to a field given by h_i * h_j/J_ij\n",
    "                Delete one of the elements (say h_i), shortening h_vals\n",
    "                Update adjacency of j to include both adj(i) and adj(j)\n",
    "                Set new Jnew_jk = max (J_jk, J_ik)\n",
    "                Delete the corresponding row and column in J_ij (J_i* and J*i) and set the adjacency of i to []\n",
    "                \"\"\"\n",
    "                i_list, j_list = np.asarray(J_ij_vals == J_ij_vals.max()).nonzero()\n",
    "                i = i_list[0]\n",
    "                j = j_list[0]\n",
    "\n",
    "                h_vals[i] = h_vals[i]*h_vals[j]/Omega    #Might need to include a factor of 2 here since we are symmetrizing later\n",
    "                h_vals[j] = 0\n",
    "\n",
    "                update_adjacency_J_ij(adj_ind, i, j)\n",
    "\n",
    "                J_ij_vals[i,adj_ind[i]] = np.maximum(J_ij_vals[i, adj_ind[i]], J_ij_vals[j, adj_ind[i]])\n",
    "                J_ij_vals[adj_ind[i], i] = J_ij_vals[i,adj_ind[i]]\n",
    "\n",
    "                J_ij_vals[j,:] = 0\n",
    "                J_ij_vals[:,j] = 0\n",
    "\n",
    "            elif Omega == h_vals.max():\n",
    "                \"\"\"\n",
    "                \"\"\"\n",
    "                i = np.where(h_vals == h_vals.max())[0][0]\n",
    "                adj_i = adj_ind[i]\n",
    "                J_ij_new = np.einsum('j,k->jk', J_ij_vals[adj_i, i], J_ij_vals[i, adj_i])/Omega\n",
    "\n",
    "                J_ij_vals[adj_i, :][:, adj_i] = np.maximum(J_ij_new, J_ij_vals[adj_i,:][:, adj_i])\n",
    "\n",
    "                h_vals[i] = 0\n",
    "\n",
    "                J_ij_vals[i,:] = 0\n",
    "                J_ij_vals[:,i] = 0\n",
    "\n",
    "                update_adjacency_h(adj_ind, i)\n",
    "            \n",
    "            if step%20 == 0:\n",
    "                h_vals_remain = h_vals[h_vals!=0]\n",
    "\n",
    "                n,bins, pacthes = plt.hist(-np.log(h_vals_remain), density=True, bins = 40)\n",
    "\n",
    "                width = bins[1]-bins[0]\n",
    "                popt, pcov = curve_fit(power_law, bins[1:]-width/2, n)\n",
    "                R0_array.append(popt[0])\n",
    "                R0_array_err.append(pcov[0][0])"
   ]
  },
  {
   "cell_type": "code",
   "execution_count": 135,
   "id": "1771d831",
   "metadata": {},
   "outputs": [],
   "source": [
    "from scipy import sparse\n",
    "L = 4\n",
    "ind_dict, adj_ind = square_lattice_dictionary(L)\n",
    "a, b = (0.1, 0.1)"
   ]
  },
  {
   "cell_type": "code",
   "execution_count": 7,
   "id": "e4f6c0c0",
   "metadata": {},
   "outputs": [],
   "source": [
    "#J_ij_vals = fill_J_ij_matrix(L*L, adj_ind, a, b)\n",
    "\n",
    "B=sparse.csr_matrix((L*L, L*L))"
   ]
  },
  {
   "cell_type": "code",
   "execution_count": 136,
   "id": "bcca9b16",
   "metadata": {},
   "outputs": [],
   "source": [
    "def fill_J_ij_matrix(size, adj_ind, a, b):\n",
    "    J_ij_vals = sparse.lil_matrix((L*L, L*L))\n",
    "    for ind in range(size):\n",
    "        J_ij_vals[ind, adj_ind[ind]] = sparse.lil_matrix(np.exp(-np.array(random_custDist(a, b, custDist=custDist, size=len(adj_ind[ind])))))\n",
    "        \n",
    "    J_ij_vals = sparse.triu(J_ij_vals, k=1)\n",
    "    \n",
    "    return J_ij_vals + J_ij_vals.T\n",
    "\n",
    "def chunk_deleter(ind_array, size):\n",
    "    eye_diag = np.ones(size)\n",
    "    eye_diag[ind_array] = 0\n",
    "    return sparse.diags(eye_diag)\n",
    "\n",
    "def resparse(spr_mat, size, tol):\n",
    "    i_ind, j_ind, vals = sparse.find(spr_mat)\n",
    "    mask = vals>tol\n",
    "    i_new, j_new, val_new = i_ind[mask], j_ind[mask], vals[mask]\n",
    "    \n",
    "    return sparse.csr_matrix((val_new, (i_new, j_new)), shape=(size, size))"
   ]
  },
  {
   "cell_type": "code",
   "execution_count": 114,
   "id": "e14e77e4",
   "metadata": {},
   "outputs": [],
   "source": [
    "fill_J_ij_matrix(L, adj_ind, a, b)\n",
    "ind_dict, adj_ind = square_lattice_dictionary(L)\n",
    "J_ij_vals = fill_J_ij_matrix(L*L, adj_ind, a, b)"
   ]
  },
  {
   "cell_type": "code",
   "execution_count": 144,
   "id": "b5ae68ff",
   "metadata": {},
   "outputs": [
    {
     "name": "stdout",
     "output_type": "stream",
     "text": [
      "Step: 0/6000\n"
     ]
    },
    {
     "name": "stderr",
     "output_type": "stream",
     "text": [
      "C:\\Users\\tsgau\\anaconda3\\lib\\site-packages\\scipy\\sparse\\_index.py:137: SparseEfficiencyWarning: Changing the sparsity structure of a csr_matrix is expensive. lil_matrix is more efficient.\n",
      "  self._set_arrayXarray_sparse(i, j, x)\n"
     ]
    },
    {
     "name": "stdout",
     "output_type": "stream",
     "text": [
      "Step: 1000/6000\n",
      "Step: 2000/6000\n",
      "Step: 3000/6000\n",
      "Step: 4000/6000\n",
      "Step: 5000/6000\n",
      "Step: 0/6000\n",
      "Step: 1000/6000\n",
      "Step: 2000/6000\n",
      "Step: 3000/6000\n",
      "Step: 4000/6000\n",
      "Step: 5000/6000\n",
      "Step: 0/6000\n",
      "Step: 1000/6000\n",
      "Step: 2000/6000\n",
      "Step: 3000/6000\n",
      "Step: 4000/6000\n",
      "Step: 5000/6000\n",
      "Step: 0/6000\n",
      "Step: 1000/6000\n",
      "Step: 2000/6000\n",
      "Step: 3000/6000\n",
      "Step: 4000/6000\n",
      "Step: 5000/6000\n",
      "Step: 0/6000\n",
      "Step: 1000/6000\n",
      "Step: 2000/6000\n",
      "Step: 3000/6000\n",
      "Step: 4000/6000\n",
      "Step: 5000/6000\n",
      "Step: 0/6000\n",
      "Step: 1000/6000\n",
      "Step: 2000/6000\n",
      "Step: 3000/6000\n",
      "Step: 4000/6000\n",
      "Step: 5000/6000\n",
      "Step: 0/6000\n",
      "Step: 1000/6000\n",
      "Step: 2000/6000\n",
      "Step: 3000/6000\n",
      "Step: 4000/6000\n",
      "Step: 5000/6000\n",
      "Step: 0/6000\n",
      "Step: 1000/6000\n",
      "Step: 2000/6000\n",
      "Step: 3000/6000\n",
      "Step: 4000/6000\n",
      "Step: 5000/6000\n",
      "Step: 0/6000\n",
      "Step: 1000/6000\n",
      "Step: 2000/6000\n",
      "Step: 3000/6000\n",
      "Step: 4000/6000\n",
      "Step: 5000/6000\n",
      "Step: 0/6000\n",
      "Step: 1000/6000\n",
      "Step: 2000/6000\n",
      "Step: 3000/6000\n",
      "Step: 4000/6000\n",
      "Step: 5000/6000\n",
      "Step: 0/6000\n",
      "Step: 1000/6000\n",
      "Step: 2000/6000\n",
      "Step: 3000/6000\n",
      "Step: 4000/6000\n",
      "Step: 5000/6000\n",
      "Step: 0/6000\n",
      "Step: 1000/6000\n",
      "Step: 2000/6000\n",
      "Step: 3000/6000\n",
      "Step: 4000/6000\n",
      "Step: 5000/6000\n",
      "Step: 0/6000\n",
      "Step: 1000/6000\n",
      "Step: 2000/6000\n",
      "Step: 3000/6000\n",
      "Step: 4000/6000\n",
      "Step: 5000/6000\n",
      "Step: 0/6000\n",
      "Step: 1000/6000\n",
      "Step: 2000/6000\n",
      "Step: 3000/6000\n",
      "Step: 4000/6000\n",
      "Step: 5000/6000\n",
      "Step: 0/6000\n",
      "Step: 1000/6000\n",
      "Step: 2000/6000\n",
      "Step: 3000/6000\n",
      "Step: 4000/6000\n",
      "Step: 5000/6000\n",
      "Step: 0/6000\n",
      "Step: 1000/6000\n",
      "Step: 2000/6000\n",
      "Step: 3000/6000\n",
      "Step: 4000/6000\n",
      "Step: 5000/6000\n",
      "Step: 0/6000\n",
      "Step: 1000/6000\n",
      "Step: 2000/6000\n",
      "Step: 3000/6000\n",
      "Step: 4000/6000\n",
      "Step: 5000/6000\n",
      "Step: 0/6000\n",
      "Step: 1000/6000\n",
      "Step: 2000/6000\n",
      "Step: 3000/6000\n",
      "Step: 4000/6000\n",
      "Step: 5000/6000\n",
      "Step: 0/6000\n",
      "Step: 1000/6000\n",
      "Step: 2000/6000\n",
      "Step: 3000/6000\n",
      "Step: 4000/6000\n",
      "Step: 5000/6000\n",
      "Step: 0/6000\n",
      "Step: 1000/6000\n",
      "Step: 2000/6000\n",
      "Step: 3000/6000\n",
      "Step: 4000/6000\n",
      "Step: 5000/6000\n",
      "Step: 0/6000\n",
      "Step: 1000/6000\n",
      "Step: 2000/6000\n",
      "Step: 3000/6000\n",
      "Step: 4000/6000\n",
      "Step: 5000/6000\n",
      "Step: 0/6000\n",
      "Step: 1000/6000\n",
      "Step: 2000/6000\n",
      "Step: 3000/6000\n",
      "Step: 4000/6000\n",
      "Step: 5000/6000\n",
      "Step: 0/6000\n",
      "Step: 1000/6000\n",
      "Step: 2000/6000\n",
      "Step: 3000/6000\n",
      "Step: 4000/6000\n",
      "Step: 5000/6000\n",
      "Step: 0/6000\n",
      "Step: 1000/6000\n",
      "Step: 2000/6000\n",
      "Step: 3000/6000\n",
      "Step: 4000/6000\n",
      "Step: 5000/6000\n",
      "Step: 0/6000\n",
      "Step: 1000/6000\n",
      "Step: 2000/6000\n",
      "Step: 3000/6000\n",
      "Step: 4000/6000\n",
      "Step: 5000/6000\n",
      "Step: 0/6000\n",
      "Step: 1000/6000\n",
      "Step: 2000/6000\n",
      "Step: 3000/6000\n",
      "Step: 4000/6000\n",
      "Step: 5000/6000\n",
      "Step: 0/6000\n",
      "Step: 1000/6000\n",
      "Step: 2000/6000\n",
      "Step: 3000/6000\n",
      "Step: 4000/6000\n",
      "Step: 5000/6000\n",
      "Step: 0/6000\n",
      "Step: 1000/6000\n",
      "Step: 2000/6000\n",
      "Step: 3000/6000\n",
      "Step: 4000/6000\n",
      "Step: 5000/6000\n",
      "Step: 0/6000\n",
      "Step: 1000/6000\n",
      "Step: 2000/6000\n",
      "Step: 3000/6000\n",
      "Step: 4000/6000\n",
      "Step: 5000/6000\n",
      "Step: 0/6000\n",
      "Step: 1000/6000\n",
      "Step: 2000/6000\n",
      "Step: 3000/6000\n",
      "Step: 4000/6000\n",
      "Step: 5000/6000\n",
      "Step: 0/6000\n",
      "Step: 1000/6000\n",
      "Step: 2000/6000\n",
      "Step: 3000/6000\n",
      "Step: 4000/6000\n",
      "Step: 5000/6000\n",
      "Step: 0/6000\n",
      "Step: 1000/6000\n",
      "Step: 2000/6000\n",
      "Step: 3000/6000\n",
      "Step: 4000/6000\n",
      "Step: 5000/6000\n",
      "Step: 0/6000\n",
      "Step: 1000/6000\n",
      "Step: 2000/6000\n",
      "Step: 3000/6000\n",
      "Step: 4000/6000\n",
      "Step: 5000/6000\n",
      "Step: 0/6000\n",
      "Step: 1000/6000\n",
      "Step: 2000/6000\n",
      "Step: 3000/6000\n",
      "Step: 4000/6000\n",
      "Step: 5000/6000\n",
      "Step: 0/6000\n",
      "Step: 1000/6000\n",
      "Step: 2000/6000\n",
      "Step: 3000/6000\n",
      "Step: 4000/6000\n",
      "Step: 5000/6000\n",
      "Step: 0/6000\n",
      "Step: 1000/6000\n",
      "Step: 2000/6000\n",
      "Step: 3000/6000\n",
      "Step: 4000/6000\n",
      "Step: 5000/6000\n",
      "Step: 0/6000\n",
      "Step: 1000/6000\n",
      "Step: 2000/6000\n",
      "Step: 3000/6000\n",
      "Step: 4000/6000\n",
      "Step: 5000/6000\n",
      "Step: 0/6000\n",
      "Step: 1000/6000\n",
      "Step: 2000/6000\n",
      "Step: 3000/6000\n",
      "Step: 4000/6000\n",
      "Step: 5000/6000\n",
      "Step: 0/6000\n",
      "Step: 1000/6000\n",
      "Step: 2000/6000\n",
      "Step: 3000/6000\n",
      "Step: 4000/6000\n",
      "Step: 5000/6000\n",
      "Step: 0/6000\n",
      "Step: 1000/6000\n",
      "Step: 2000/6000\n",
      "Step: 3000/6000\n",
      "Step: 4000/6000\n",
      "Step: 5000/6000\n",
      "Step: 0/6000\n",
      "Step: 1000/6000\n",
      "Step: 2000/6000\n",
      "Step: 3000/6000\n",
      "Step: 4000/6000\n",
      "Step: 5000/6000\n",
      "Step: 0/6000\n",
      "Step: 1000/6000\n",
      "Step: 2000/6000\n",
      "Step: 3000/6000\n",
      "Step: 4000/6000\n",
      "Step: 5000/6000\n",
      "Step: 0/6000\n",
      "Step: 1000/6000\n",
      "Step: 2000/6000\n",
      "Step: 3000/6000\n",
      "Step: 4000/6000\n",
      "Step: 5000/6000\n",
      "Step: 0/6000\n",
      "Step: 1000/6000\n",
      "Step: 2000/6000\n",
      "Step: 3000/6000\n",
      "Step: 4000/6000\n",
      "Step: 5000/6000\n",
      "Step: 0/6000\n",
      "Step: 1000/6000\n",
      "Step: 2000/6000\n",
      "Step: 3000/6000\n",
      "Step: 4000/6000\n",
      "Step: 5000/6000\n",
      "Step: 0/6000\n",
      "Step: 1000/6000\n",
      "Step: 2000/6000\n",
      "Step: 3000/6000\n",
      "Step: 4000/6000\n",
      "Step: 5000/6000\n",
      "Step: 0/6000\n",
      "Step: 1000/6000\n",
      "Step: 2000/6000\n",
      "Step: 3000/6000\n",
      "Step: 4000/6000\n",
      "Step: 5000/6000\n",
      "Step: 0/6000\n",
      "Step: 1000/6000\n",
      "Step: 2000/6000\n",
      "Step: 3000/6000\n",
      "Step: 4000/6000\n",
      "Step: 5000/6000\n",
      "Step: 0/6000\n",
      "Step: 1000/6000\n",
      "Step: 2000/6000\n",
      "Step: 3000/6000\n",
      "Step: 4000/6000\n",
      "Step: 5000/6000\n",
      "Step: 0/6000\n",
      "Step: 1000/6000\n",
      "Step: 2000/6000\n",
      "Step: 3000/6000\n",
      "Step: 4000/6000\n",
      "Step: 5000/6000\n",
      "Step: 0/6000\n",
      "Step: 1000/6000\n",
      "Step: 2000/6000\n",
      "Step: 3000/6000\n",
      "Step: 4000/6000\n",
      "Step: 5000/6000\n",
      "Step: 0/6000\n",
      "Step: 1000/6000\n",
      "Step: 2000/6000\n",
      "Step: 3000/6000\n",
      "Step: 4000/6000\n",
      "Step: 5000/6000\n",
      "Step: 0/6000\n",
      "Step: 1000/6000\n",
      "Step: 2000/6000\n",
      "Step: 3000/6000\n",
      "Step: 4000/6000\n",
      "Step: 5000/6000\n",
      "Step: 0/6000\n",
      "Step: 1000/6000\n",
      "Step: 2000/6000\n",
      "Step: 3000/6000\n",
      "Step: 4000/6000\n",
      "Step: 5000/6000\n",
      "Step: 0/6000\n",
      "Step: 1000/6000\n",
      "Step: 2000/6000\n",
      "Step: 3000/6000\n",
      "Step: 4000/6000\n",
      "Step: 5000/6000\n",
      "Step: 0/6000\n",
      "Step: 1000/6000\n",
      "Step: 2000/6000\n",
      "Step: 3000/6000\n",
      "Step: 4000/6000\n",
      "Step: 5000/6000\n",
      "Step: 0/6000\n",
      "Step: 1000/6000\n",
      "Step: 2000/6000\n",
      "Step: 3000/6000\n",
      "Step: 4000/6000\n",
      "Step: 5000/6000\n",
      "Step: 0/6000\n",
      "Step: 1000/6000\n",
      "Step: 2000/6000\n",
      "Step: 3000/6000\n",
      "Step: 4000/6000\n",
      "Step: 5000/6000\n",
      "Step: 0/6000\n",
      "Step: 1000/6000\n",
      "Step: 2000/6000\n",
      "Step: 3000/6000\n",
      "Step: 4000/6000\n",
      "Step: 5000/6000\n",
      "Step: 0/6000\n",
      "Step: 1000/6000\n",
      "Step: 2000/6000\n",
      "Step: 3000/6000\n",
      "Step: 4000/6000\n",
      "Step: 5000/6000\n",
      "Step: 0/6000\n",
      "Step: 1000/6000\n",
      "Step: 2000/6000\n",
      "Step: 3000/6000\n",
      "Step: 4000/6000\n",
      "Step: 5000/6000\n",
      "Step: 0/6000\n",
      "Step: 1000/6000\n",
      "Step: 2000/6000\n",
      "Step: 3000/6000\n",
      "Step: 4000/6000\n",
      "Step: 5000/6000\n",
      "Step: 0/6000\n",
      "Step: 1000/6000\n",
      "Step: 2000/6000\n",
      "Step: 3000/6000\n",
      "Step: 4000/6000\n",
      "Step: 5000/6000\n",
      "Step: 0/6000\n",
      "Step: 1000/6000\n",
      "Step: 2000/6000\n",
      "Step: 3000/6000\n",
      "Step: 4000/6000\n",
      "Step: 5000/6000\n",
      "Step: 0/6000\n",
      "Step: 1000/6000\n",
      "Step: 2000/6000\n",
      "Step: 3000/6000\n",
      "Step: 4000/6000\n",
      "Step: 5000/6000\n",
      "Step: 0/6000\n",
      "Step: 1000/6000\n",
      "Step: 2000/6000\n",
      "Step: 3000/6000\n",
      "Step: 4000/6000\n",
      "Step: 5000/6000\n",
      "Step: 0/6000\n",
      "Step: 1000/6000\n",
      "Step: 2000/6000\n",
      "Step: 3000/6000\n",
      "Step: 4000/6000\n",
      "Step: 5000/6000\n",
      "Step: 0/6000\n",
      "Step: 1000/6000\n",
      "Step: 2000/6000\n",
      "Step: 3000/6000\n",
      "Step: 4000/6000\n",
      "Step: 5000/6000\n",
      "Step: 0/6000\n",
      "Step: 1000/6000\n",
      "Step: 2000/6000\n",
      "Step: 3000/6000\n",
      "Step: 4000/6000\n",
      "Step: 5000/6000\n",
      "Step: 0/6000\n",
      "Step: 1000/6000\n",
      "Step: 2000/6000\n",
      "Step: 3000/6000\n",
      "Step: 4000/6000\n",
      "Step: 5000/6000\n",
      "Step: 0/6000\n",
      "Step: 1000/6000\n",
      "Step: 2000/6000\n",
      "Step: 3000/6000\n",
      "Step: 4000/6000\n",
      "Step: 5000/6000\n",
      "Step: 0/6000\n",
      "Step: 1000/6000\n",
      "Step: 2000/6000\n",
      "Step: 3000/6000\n",
      "Step: 4000/6000\n",
      "Step: 5000/6000\n",
      "Step: 0/6000\n",
      "Step: 1000/6000\n",
      "Step: 2000/6000\n",
      "Step: 3000/6000\n",
      "Step: 4000/6000\n",
      "Step: 5000/6000\n",
      "Step: 0/6000\n",
      "Step: 1000/6000\n",
      "Step: 2000/6000\n",
      "Step: 3000/6000\n",
      "Step: 4000/6000\n",
      "Step: 5000/6000\n",
      "Step: 0/6000\n",
      "Step: 1000/6000\n",
      "Step: 2000/6000\n",
      "Step: 3000/6000\n",
      "Step: 4000/6000\n",
      "Step: 5000/6000\n",
      "Step: 0/6000\n",
      "Step: 1000/6000\n",
      "Step: 2000/6000\n",
      "Step: 3000/6000\n",
      "Step: 4000/6000\n",
      "Step: 5000/6000\n",
      "Step: 0/6000\n",
      "Step: 1000/6000\n",
      "Step: 2000/6000\n",
      "Step: 3000/6000\n",
      "Step: 4000/6000\n",
      "Step: 5000/6000\n",
      "Step: 0/6000\n",
      "Step: 1000/6000\n",
      "Step: 2000/6000\n",
      "Step: 3000/6000\n",
      "Step: 4000/6000\n",
      "Step: 5000/6000\n",
      "Step: 0/6000\n",
      "Step: 1000/6000\n",
      "Step: 2000/6000\n",
      "Step: 3000/6000\n",
      "Step: 4000/6000\n",
      "Step: 5000/6000\n",
      "Step: 0/6000\n",
      "Step: 1000/6000\n",
      "Step: 2000/6000\n",
      "Step: 3000/6000\n",
      "Step: 4000/6000\n",
      "Step: 5000/6000\n",
      "Step: 0/6000\n",
      "Step: 1000/6000\n",
      "Step: 2000/6000\n",
      "Step: 3000/6000\n",
      "Step: 4000/6000\n",
      "Step: 5000/6000\n",
      "Step: 0/6000\n",
      "Step: 1000/6000\n",
      "Step: 2000/6000\n",
      "Step: 3000/6000\n",
      "Step: 4000/6000\n",
      "Step: 5000/6000\n",
      "Step: 0/6000\n",
      "Step: 1000/6000\n",
      "Step: 2000/6000\n",
      "Step: 3000/6000\n",
      "Step: 4000/6000\n",
      "Step: 5000/6000\n",
      "Step: 0/6000\n",
      "Step: 1000/6000\n",
      "Step: 2000/6000\n",
      "Step: 3000/6000\n",
      "Step: 4000/6000\n",
      "Step: 5000/6000\n",
      "Step: 0/6000\n",
      "Step: 1000/6000\n",
      "Step: 2000/6000\n",
      "Step: 3000/6000\n",
      "Step: 4000/6000\n",
      "Step: 5000/6000\n",
      "Step: 0/6000\n",
      "Step: 1000/6000\n",
      "Step: 2000/6000\n",
      "Step: 3000/6000\n",
      "Step: 4000/6000\n",
      "Step: 5000/6000\n",
      "Step: 0/6000\n",
      "Step: 1000/6000\n",
      "Step: 2000/6000\n",
      "Step: 3000/6000\n",
      "Step: 4000/6000\n",
      "Step: 5000/6000\n",
      "Step: 0/6000\n",
      "Step: 1000/6000\n",
      "Step: 2000/6000\n",
      "Step: 3000/6000\n",
      "Step: 4000/6000\n",
      "Step: 5000/6000\n",
      "Step: 0/6000\n",
      "Step: 1000/6000\n"
     ]
    },
    {
     "name": "stdout",
     "output_type": "stream",
     "text": [
      "Step: 2000/6000\n",
      "Step: 3000/6000\n",
      "Step: 4000/6000\n",
      "Step: 5000/6000\n",
      "Step: 0/6000\n",
      "Step: 1000/6000\n",
      "Step: 2000/6000\n",
      "Step: 3000/6000\n",
      "Step: 4000/6000\n",
      "Step: 5000/6000\n",
      "Step: 0/6000\n",
      "Step: 1000/6000\n",
      "Step: 2000/6000\n",
      "Step: 3000/6000\n",
      "Step: 4000/6000\n",
      "Step: 5000/6000\n",
      "Step: 0/6000\n",
      "Step: 1000/6000\n",
      "Step: 2000/6000\n",
      "Step: 3000/6000\n",
      "Step: 4000/6000\n",
      "Step: 5000/6000\n",
      "Step: 0/6000\n",
      "Step: 1000/6000\n",
      "Step: 2000/6000\n",
      "Step: 3000/6000\n",
      "Step: 4000/6000\n",
      "Step: 5000/6000\n",
      "Step: 0/6000\n",
      "Step: 1000/6000\n",
      "Step: 2000/6000\n",
      "Step: 3000/6000\n",
      "Step: 4000/6000\n",
      "Step: 5000/6000\n",
      "Step: 0/6000\n",
      "Step: 1000/6000\n",
      "Step: 2000/6000\n",
      "Step: 3000/6000\n",
      "Step: 4000/6000\n",
      "Step: 5000/6000\n",
      "Step: 0/6000\n",
      "Step: 1000/6000\n",
      "Step: 2000/6000\n",
      "Step: 3000/6000\n",
      "Step: 4000/6000\n",
      "Step: 5000/6000\n",
      "Step: 0/6000\n",
      "Step: 1000/6000\n",
      "Step: 2000/6000\n",
      "Step: 3000/6000\n",
      "Step: 4000/6000\n",
      "Step: 5000/6000\n",
      "Step: 0/6000\n",
      "Step: 1000/6000\n",
      "Step: 2000/6000\n",
      "Step: 3000/6000\n",
      "Step: 4000/6000\n",
      "Step: 5000/6000\n",
      "Step: 0/6000\n",
      "Step: 1000/6000\n",
      "Step: 2000/6000\n",
      "Step: 3000/6000\n",
      "Step: 4000/6000\n",
      "Step: 5000/6000\n",
      "Step: 0/6000\n",
      "Step: 1000/6000\n",
      "Step: 2000/6000\n",
      "Step: 3000/6000\n",
      "Step: 4000/6000\n",
      "Step: 5000/6000\n"
     ]
    },
    {
     "data": {
      "image/png": "[encoded data removed]",
      "text/plain": [
       "<Figure size 432x288 with 1 Axes>"
      ]
     },
     "metadata": {
      "needs_background": "light"
     },
     "output_type": "display_data"
    }
   ],
   "source": [
    "L = 100\n",
    "steps = 6000\n",
    "runs = 100\n",
    "R0_array_sum = np.zeros(int(steps/50))\n",
    "\n",
    "a_vals = np.array([0.1])#np.arange(0.05, 0.2, 0.02)\n",
    "b_vals = np.array([0.105])#np.arange(0.1,0.3,0.03)\n",
    "\n",
    "for run in range(runs):\n",
    "    Gamma_array = np.zeros(shape=(len(a_vals), len(b_vals), steps))\n",
    "    R0_array = []\n",
    "    #R0_array_err = []\n",
    "\n",
    "    t_total_Jij = 0\n",
    "    t_total_h = 0\n",
    "\n",
    "    for l, a in enumerate(a_vals):\n",
    "        for m, b in enumerate(b_vals):\n",
    "\n",
    "            ind_dict, adj_ind = triangle_lattice_dictionary(L)\n",
    "\n",
    "            J_ij_vals = fill_J_ij_matrix(L*L, adj_ind, a, b)\n",
    "            h_vals = np.exp(-np.random.exponential(size=L*L))\n",
    "\n",
    "            Omega_0 = max(h_vals.max(), J_ij_vals.max())\n",
    "            for step in range(steps):\n",
    "\n",
    "                if step%1000 == 0: print (\"Step: \"+str(step)+\"/\"+str(steps))\n",
    "                Omega = max(h_vals.max(), J_ij_vals.max())\n",
    "                Gamma_array[l,m,step] = (np.log(Omega_0/Omega))\n",
    "                #J_ij_vals = resparse(J_ij_vals, L*L, Omega*(1-steps/(L*L)))\n",
    "\n",
    "                if Omega == J_ij_vals.max():\n",
    "                    \"\"\"\n",
    "                    Strongest term is an Ising coupling -> Renormalizes to a field given by h_i * h_j/J_ij\n",
    "                    Delete one of the elements (say h_i), shortening h_vals\n",
    "                    Update adjacency of j to include both adj(i) and adj(j)\n",
    "                    Set new Jnew_jk = max (J_jk, J_ik)\n",
    "                    Delete the corresponding row and column in J_ij (J_i* and J*i) and set the adjacency of i to []\n",
    "                    \"\"\"\n",
    "                    t0 = time.time()\n",
    "                    r_ind, c_ind, J_ij = sparse.find(J_ij_vals) \n",
    "                    J_ind = np.where(J_ij == Omega)[0][0]\n",
    "                    i, j = r_ind[J_ind], c_ind[J_ind]\n",
    "\n",
    "                    h_vals[i] = h_vals[i]*h_vals[j]/Omega    #Might need to include a factor of 2 here since we are symmetrizing later\n",
    "                    h_vals[j] = 0\n",
    "\n",
    "                    update_adjacency_J_ij(adj_ind, i, j)\n",
    "\n",
    "                    J_ij_vals[i,adj_ind[i]] = J_ij_vals[i, adj_ind[i]].maximum(J_ij_vals[j, adj_ind[i]])\n",
    "                    J_ij_vals[adj_ind[i], i] = J_ij_vals[i,adj_ind[i]]\n",
    "\n",
    "                    eye = chunk_deleter([j], L*L)\n",
    "                    J_ij_vals = eye @ J_ij_vals @ eye\n",
    "                    t_total_Jij += time.time()-t0\n",
    "                elif Omega == h_vals.max():\n",
    "                    \"\"\"\n",
    "                    \"\"\"\n",
    "                    t0 = time.time()\n",
    "                    i = np.where(h_vals == h_vals.max())[0][0]\n",
    "                    adj_i = adj_ind[i]\n",
    "                    J_ij_new = J_ij_vals[adj_i, i] @J_ij_vals[i, adj_i]/Omega\n",
    "\n",
    "                    J_ij_vals[adj_i, :][:, adj_i] = J_ij_new.maximum(J_ij_vals[adj_i,:][:, adj_i])\n",
    "\n",
    "                    h_vals[i] = 0\n",
    "\n",
    "                    eye = chunk_deleter([i], L*L)\n",
    "                    J_ij_vals = eye @ J_ij_vals @ eye\n",
    "\n",
    "                    update_adjacency_h(adj_ind, i)\n",
    "                    t_total_h += time.time()-t0\n",
    "                if step%50 == 0:\n",
    "                    h_vals_remain = h_vals[h_vals!=0]\n",
    "\n",
    "                    n,bins, pacthes = plt.hist(-np.log(h_vals_remain), density=True, bins = 40)\n",
    "\n",
    "                    width = bins[1]-bins[0]\n",
    "                    popt, pcov = curve_fit(exponential_dist, bins[1:]-width/2, n)\n",
    "                    R0_array.append(popt[1])\n",
    "                    #R0_array_err.append(pcov[0][0])\n",
    "    R0_array_sum += np.array(R0_array)"
   ]
  },
  {
   "cell_type": "code",
   "execution_count": 146,
   "id": "eb11e74f",
   "metadata": {},
   "outputs": [
    {
     "data": {
      "text/plain": [
       "<matplotlib.legend.Legend at 0x142dd6ebc10>"
      ]
     },
     "execution_count": 146,
     "metadata": {},
     "output_type": "execute_result"
    },
    {
     "data": {
      "image/png": "[encoded data removed]",
      "text/plain": [
       "<Figure size 648x432 with 1 Axes>"
      ]
     },
     "metadata": {
      "needs_background": "light"
     },
     "output_type": "display_data"
    }
   ],
   "source": [
    "n_array = (- np.arange(steps)+(L*L))/(L*L)\n",
    "plt.figure(figsize=(9, 6))\n",
    "for l, a in enumerate(a_vals):\n",
    "    for m, b in enumerate(b_vals):\n",
    "        plt.scatter(Gamma_array[l,m,:],  n_array, s=10, label=\"(\"+str(a)+', '+str(b)+\")\")\n",
    "plt.plot(Gamma_array[0,0,:], (Gamma_array[0,0,:]+1)**(-1.368))\n",
    "\n",
    "\n",
    "\n",
    "plt.legend()\n",
    "#plt.xlim(0, 10)"
   ]
  },
  {
   "cell_type": "code",
   "execution_count": 145,
   "id": "1c61eb47",
   "metadata": {},
   "outputs": [
    {
     "name": "stdout",
     "output_type": "stream",
     "text": [
      "[1.9551720e-01 6.2167043e+02]\n",
      "0.3910344002220978\n"
     ]
    },
    {
     "data": {
      "image/png": "[encoded data removed]",
      "text/plain": [
       "<Figure size 432x288 with 1 Axes>"
      ]
     },
     "metadata": {
      "needs_background": "light"
     },
     "output_type": "display_data"
    }
   ],
   "source": [
    "x = L*L - np.arange(len(R0_array_sum))*50\n",
    "y = runs/np.array(R0_array)\n",
    "\n",
    "plt.scatter(x, y, label='Width of exponential')#, yerr=np.sqrt(np.array(R0_array_err))/np.array(R0_array)**2)\n",
    "#plt.yscale('log')\n",
    "\n",
    "popt, pcov = curve_fit(power_law_scale, x[-50:], y[-50:])\n",
    "print(popt)\n",
    "print(popt[0]*2)\n",
    "\n",
    "plt.title(\"RG Flow of Field Distribution Scaling\")\n",
    "plt.xlabel(\"Remaining Spins (N)\")\n",
    "plt.ylabel(r\"$1/R_0(\\Gamma)$\")\n",
    "plt.plot(x, power_law_scale(x, *popt), color='red', label=r'Power Law fit ($\\psi=$'+str(round(popt[0]*2, 4))+')')\n",
    "\n",
    "plt.gca().invert_xaxis()\n",
    "plt.legend()\n",
    "plt.yscale('log')\n",
    "#plt.ylim(0, 1.5)"
   ]
  },
  {
   "cell_type": "code",
   "execution_count": 25,
   "id": "854ce640",
   "metadata": {},
   "outputs": [
    {
     "name": "stdout",
     "output_type": "stream",
     "text": [
      "[8.28500272e-01 8.51654087e+03]\n",
      "1.6570005448906635\n"
     ]
    },
    {
     "name": "stderr",
     "output_type": "stream",
     "text": [
      "C:\\Users\\tsgau\\AppData\\Local\\Temp\\ipykernel_13980\\2578980702.py:41: RuntimeWarning: overflow encountered in power\n",
      "  return scale*x**(-a)\n"
     ]
    }
   ],
   "source": [
    "popt, pcov = curve_fit(power_law_scale, x[-150:], 1/np.array(R0_array)[-150:])\n",
    "print(popt)\n",
    "print(popt[0]*2)"
   ]
  },
  {
   "cell_type": "code",
   "execution_count": 96,
   "id": "227cc438",
   "metadata": {},
   "outputs": [
    {
     "name": "stdout",
     "output_type": "stream",
     "text": [
      "510.70387864112854\n",
      "378.47939229011536\n"
     ]
    }
   ],
   "source": [
    "print(t_total_Jij)\n",
    "print(t_total_h)"
   ]
  },
  {
   "cell_type": "code",
   "execution_count": 203,
   "id": "1104f4cc",
   "metadata": {},
   "outputs": [
    {
     "data": {
      "text/plain": [
       "array([1.36841463])"
      ]
     },
     "execution_count": 203,
     "metadata": {},
     "output_type": "execute_result"
    }
   ],
   "source": [
    "popt, pcov = curve_fit(power_law, Gamma_array[0,0,:]+1, n_array)\n",
    "popt"
   ]
  },
  {
   "cell_type": "code",
   "execution_count": 134,
   "id": "7dc9ed96",
   "metadata": {},
   "outputs": [
    {
     "name": "stdout",
     "output_type": "stream",
     "text": [
      "[1.48256195 0.80559606]\n"
     ]
    },
    {
     "data": {
      "image/png": "[encoded data removed]",
      "text/plain": [
       "<Figure size 576x360 with 1 Axes>"
      ]
     },
     "metadata": {
      "needs_background": "light"
     },
     "output_type": "display_data"
    },
    {
     "data": {
      "image/png": "[encoded data removed]",
      "text/plain": [
       "<Figure size 576x360 with 1 Axes>"
      ]
     },
     "metadata": {
      "needs_background": "light"
     },
     "output_type": "display_data"
    }
   ],
   "source": [
    "h_vals_remain = h_vals[h_vals!=0]\n",
    "plt.figure(figsize=(8,5))\n",
    "n,bins, pacthes = plt.hist(-np.log(h_vals_remain), density=True, bins = 30)\n",
    "\n",
    "width = bins[1]-bins[0]\n",
    "\n",
    "plt.figure(figsize=(8,5))\n",
    "x_data = bins[1:]-width/2\n",
    "popt, pcov = curve_fit(exponential_dist,x_data, n)\n",
    "\n",
    "plt.plot(x_data, exponential_dist(x_data, *popt), label='Fit to exponential distribution')\n",
    "plt.scatter(x_data, n)\n",
    "plt.title(\"Distribution of Field Couplings after Decimation\")\n",
    "plt.yscale('log')\n",
    "plt.legend()\n",
    "print(popt)"
   ]
  },
  {
   "cell_type": "code",
   "execution_count": 112,
   "id": "a8c828fb",
   "metadata": {},
   "outputs": [
    {
     "data": {
      "text/plain": [
       "<matplotlib.legend.Legend at 0x142cc613fa0>"
      ]
     },
     "execution_count": 112,
     "metadata": {},
     "output_type": "execute_result"
    },
    {
     "data": {
      "image/png": "[encoded data removed]",
      "text/plain": [
       "<Figure size 432x288 with 1 Axes>"
      ]
     },
     "metadata": {
      "needs_background": "light"
     },
     "output_type": "display_data"
    }
   ],
   "source": [
    "h_vals_ini = np.exp(-np.random.exponential(size=L*L))\n",
    "n,bins, pacthes = plt.hist(-np.log(h_vals_ini), density=True, bins = 30)\n",
    "\n",
    "width = bins[1]-bins[0]\n",
    "\n",
    "\n",
    "x_data = bins[1:]-width/2\n",
    "popt, pcov = curve_fit(exponential_dist,x_data, n)\n",
    "\n",
    "plt.plot(x_data, exponential_dist(x_data, *popt), label='Fit to exponential distribution')\n",
    "plt.title(\"Initial Distributions of Field Couplings\")\n",
    "plt.legend()"
   ]
  },
  {
   "cell_type": "code",
   "execution_count": 206,
   "id": "fc846628",
   "metadata": {},
   "outputs": [
    {
     "data": {
      "text/plain": [
       "0.36549707602339176"
      ]
     },
     "execution_count": 206,
     "metadata": {},
     "output_type": "execute_result"
    }
   ],
   "source": []
  },
  {
   "cell_type": "code",
   "execution_count": 140,
   "id": "a7d474f8",
   "metadata": {},
   "outputs": [
    {
     "data": {
      "text/plain": [
       "[1, 2, 3, 4]"
      ]
     },
     "execution_count": 140,
     "metadata": {},
     "output_type": "execute_result"
    }
   ],
   "source": []
  },
  {
   "cell_type": "code",
   "execution_count": null,
   "id": "cfcba770",
   "metadata": {},
   "outputs": [],
   "source": []
  }
 ],
 "metadata": {
  "kernelspec": {
   "display_name": "Python 3 (ipykernel)",
   "language": "python",
   "name": "python3"
  },
  "language_info": {
   "codemirror_mode": {
    "name": "ipython",
    "version": 3
   },
   "file_extension": ".py",
   "mimetype": "text/x-python",
   "name": "python",
   "nbconvert_exporter": "python",
   "pygments_lexer": "ipython3",
   "version": "3.9.12"
  }
 },
 "nbformat": 4,
 "nbformat_minor": 5
}
