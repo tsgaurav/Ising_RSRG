{
 "cells": [
  {
   "cell_type": "code",
   "execution_count": 3,
   "metadata": {},
   "outputs": [],
   "source": [
    "import numpy as np\n",
    "import pickle\n",
    "import matplotlib.pyplot as plt\n",
    "import os, csv, json\n",
    "import pandas as pd\n",
    "import scipy.optimize as sp\n",
    "import itertools\n",
    "\n",
    "from sklearn.preprocessing import PolynomialFeatures\n",
    "from sklearn.linear_model import LinearRegression\n",
    "\n",
    "from matplotlib import cm\n",
    "from matplotlib.colors import ListedColormap, LinearSegmentedColormap\n",
    "import matplotlib as mpl\n",
    "\n",
    "%run /home/guaravtenkila/Disorder_sims/Ising_RSRG/aux_funcs.py\n",
    "%run /home/guaravtenkila/Disorder_sims/Ising_RSRG/RSRG_class.py\n",
    "%run /home/guaravtenkila/Disorder_sims/Ising_RSRG/aux_funcs.py"
   ]
  },
  {
   "cell_type": "code",
   "execution_count": 4,
   "metadata": {},
   "outputs": [
    {
     "data": {
      "text/html": [
       "<div>\n",
       "<style scoped>\n",
       "    .dataframe tbody tr th:only-of-type {\n",
       "        vertical-align: middle;\n",
       "    }\n",
       "\n",
       "    .dataframe tbody tr th {\n",
       "        vertical-align: top;\n",
       "    }\n",
       "\n",
       "    .dataframe thead th {\n",
       "        text-align: right;\n",
       "    }\n",
       "</style>\n",
       "<table border=\"1\" class=\"dataframe\">\n",
       "  <thead>\n",
       "    <tr style=\"text-align: right;\">\n",
       "      <th></th>\n",
       "      <th>L</th>\n",
       "      <th>steps</th>\n",
       "      <th>a</th>\n",
       "      <th>b</th>\n",
       "      <th>w</th>\n",
       "      <th>n_runs</th>\n",
       "      <th>ts</th>\n",
       "    </tr>\n",
       "  </thead>\n",
       "  <tbody>\n",
       "    <tr>\n",
       "      <th>0</th>\n",
       "      <td>10</td>\n",
       "      <td>99</td>\n",
       "      <td>0.1</td>\n",
       "      <td>0.105</td>\n",
       "      <td>6.3</td>\n",
       "      <td>960</td>\n",
       "      <td>983498441063.01.0</td>\n",
       "    </tr>\n",
       "    <tr>\n",
       "      <th>1</th>\n",
       "      <td>10</td>\n",
       "      <td>99</td>\n",
       "      <td>0.1</td>\n",
       "      <td>0.105</td>\n",
       "      <td>6.4</td>\n",
       "      <td>960</td>\n",
       "      <td>983583251064.01.0</td>\n",
       "    </tr>\n",
       "    <tr>\n",
       "      <th>2</th>\n",
       "      <td>10</td>\n",
       "      <td>99</td>\n",
       "      <td>0.1</td>\n",
       "      <td>0.105</td>\n",
       "      <td>6.5</td>\n",
       "      <td>960</td>\n",
       "      <td>983621221065.01.0</td>\n",
       "    </tr>\n",
       "    <tr>\n",
       "      <th>3</th>\n",
       "      <td>10</td>\n",
       "      <td>99</td>\n",
       "      <td>0.1</td>\n",
       "      <td>0.105</td>\n",
       "      <td>6.6</td>\n",
       "      <td>960</td>\n",
       "      <td>985675531066.01.0</td>\n",
       "    </tr>\n",
       "    <tr>\n",
       "      <th>4</th>\n",
       "      <td>10</td>\n",
       "      <td>99</td>\n",
       "      <td>0.1</td>\n",
       "      <td>0.105</td>\n",
       "      <td>6.7</td>\n",
       "      <td>960</td>\n",
       "      <td>985675531067.01.0</td>\n",
       "    </tr>\n",
       "    <tr>\n",
       "      <th>5</th>\n",
       "      <td>10</td>\n",
       "      <td>99</td>\n",
       "      <td>0.1</td>\n",
       "      <td>0.105</td>\n",
       "      <td>6.8</td>\n",
       "      <td>960</td>\n",
       "      <td>985714541068.01.0</td>\n",
       "    </tr>\n",
       "    <tr>\n",
       "      <th>6</th>\n",
       "      <td>10</td>\n",
       "      <td>99</td>\n",
       "      <td>0.1</td>\n",
       "      <td>0.105</td>\n",
       "      <td>6.9</td>\n",
       "      <td>960</td>\n",
       "      <td>985714551069.01.0</td>\n",
       "    </tr>\n",
       "    <tr>\n",
       "      <th>7</th>\n",
       "      <td>20</td>\n",
       "      <td>399</td>\n",
       "      <td>0.1</td>\n",
       "      <td>0.105</td>\n",
       "      <td>6.3</td>\n",
       "      <td>960</td>\n",
       "      <td>985750852063.01.0</td>\n",
       "    </tr>\n",
       "    <tr>\n",
       "      <th>8</th>\n",
       "      <td>20</td>\n",
       "      <td>399</td>\n",
       "      <td>0.1</td>\n",
       "      <td>0.105</td>\n",
       "      <td>6.4</td>\n",
       "      <td>960</td>\n",
       "      <td>985752282064.01.0</td>\n",
       "    </tr>\n",
       "    <tr>\n",
       "      <th>9</th>\n",
       "      <td>20</td>\n",
       "      <td>399</td>\n",
       "      <td>0.1</td>\n",
       "      <td>0.105</td>\n",
       "      <td>6.5</td>\n",
       "      <td>960</td>\n",
       "      <td>985843672065.01.0</td>\n",
       "    </tr>\n",
       "    <tr>\n",
       "      <th>10</th>\n",
       "      <td>20</td>\n",
       "      <td>399</td>\n",
       "      <td>0.1</td>\n",
       "      <td>0.105</td>\n",
       "      <td>6.6</td>\n",
       "      <td>960</td>\n",
       "      <td>985847142066.01.0</td>\n",
       "    </tr>\n",
       "    <tr>\n",
       "      <th>11</th>\n",
       "      <td>20</td>\n",
       "      <td>399</td>\n",
       "      <td>0.1</td>\n",
       "      <td>0.105</td>\n",
       "      <td>6.7</td>\n",
       "      <td>960</td>\n",
       "      <td>985959872067.01.0</td>\n",
       "    </tr>\n",
       "    <tr>\n",
       "      <th>12</th>\n",
       "      <td>20</td>\n",
       "      <td>399</td>\n",
       "      <td>0.1</td>\n",
       "      <td>0.105</td>\n",
       "      <td>6.8</td>\n",
       "      <td>960</td>\n",
       "      <td>006912852068.01.0</td>\n",
       "    </tr>\n",
       "    <tr>\n",
       "      <th>13</th>\n",
       "      <td>20</td>\n",
       "      <td>399</td>\n",
       "      <td>0.1</td>\n",
       "      <td>0.105</td>\n",
       "      <td>6.9</td>\n",
       "      <td>960</td>\n",
       "      <td>006912852069.01.0</td>\n",
       "    </tr>\n",
       "    <tr>\n",
       "      <th>14</th>\n",
       "      <td>30</td>\n",
       "      <td>899</td>\n",
       "      <td>0.1</td>\n",
       "      <td>0.105</td>\n",
       "      <td>6.4</td>\n",
       "      <td>960</td>\n",
       "      <td>006912853064.01.0</td>\n",
       "    </tr>\n",
       "    <tr>\n",
       "      <th>15</th>\n",
       "      <td>30</td>\n",
       "      <td>899</td>\n",
       "      <td>0.1</td>\n",
       "      <td>0.105</td>\n",
       "      <td>6.3</td>\n",
       "      <td>960</td>\n",
       "      <td>006912853063.01.0</td>\n",
       "    </tr>\n",
       "    <tr>\n",
       "      <th>16</th>\n",
       "      <td>30</td>\n",
       "      <td>899</td>\n",
       "      <td>0.1</td>\n",
       "      <td>0.105</td>\n",
       "      <td>6.5</td>\n",
       "      <td>960</td>\n",
       "      <td>007008483065.01.0</td>\n",
       "    </tr>\n",
       "    <tr>\n",
       "      <th>17</th>\n",
       "      <td>30</td>\n",
       "      <td>899</td>\n",
       "      <td>0.1</td>\n",
       "      <td>0.105</td>\n",
       "      <td>6.6</td>\n",
       "      <td>960</td>\n",
       "      <td>007039003066.01.0</td>\n",
       "    </tr>\n",
       "    <tr>\n",
       "      <th>18</th>\n",
       "      <td>30</td>\n",
       "      <td>899</td>\n",
       "      <td>0.1</td>\n",
       "      <td>0.105</td>\n",
       "      <td>6.7</td>\n",
       "      <td>960</td>\n",
       "      <td>007200013067.01.0</td>\n",
       "    </tr>\n",
       "    <tr>\n",
       "      <th>19</th>\n",
       "      <td>30</td>\n",
       "      <td>899</td>\n",
       "      <td>0.1</td>\n",
       "      <td>0.105</td>\n",
       "      <td>6.8</td>\n",
       "      <td>960</td>\n",
       "      <td>007227903068.01.0</td>\n",
       "    </tr>\n",
       "    <tr>\n",
       "      <th>20</th>\n",
       "      <td>30</td>\n",
       "      <td>899</td>\n",
       "      <td>0.1</td>\n",
       "      <td>0.105</td>\n",
       "      <td>6.9</td>\n",
       "      <td>960</td>\n",
       "      <td>007333043069.01.0</td>\n",
       "    </tr>\n",
       "    <tr>\n",
       "      <th>21</th>\n",
       "      <td>40</td>\n",
       "      <td>1599</td>\n",
       "      <td>0.1</td>\n",
       "      <td>0.105</td>\n",
       "      <td>6.3</td>\n",
       "      <td>960</td>\n",
       "      <td>007382974063.01.0</td>\n",
       "    </tr>\n",
       "    <tr>\n",
       "      <th>22</th>\n",
       "      <td>40</td>\n",
       "      <td>1599</td>\n",
       "      <td>0.1</td>\n",
       "      <td>0.105</td>\n",
       "      <td>6.4</td>\n",
       "      <td>960</td>\n",
       "      <td>007514184064.01.0</td>\n",
       "    </tr>\n",
       "    <tr>\n",
       "      <th>23</th>\n",
       "      <td>40</td>\n",
       "      <td>1599</td>\n",
       "      <td>0.1</td>\n",
       "      <td>0.105</td>\n",
       "      <td>6.5</td>\n",
       "      <td>960</td>\n",
       "      <td>007571824065.01.0</td>\n",
       "    </tr>\n",
       "    <tr>\n",
       "      <th>24</th>\n",
       "      <td>40</td>\n",
       "      <td>1599</td>\n",
       "      <td>0.1</td>\n",
       "      <td>0.105</td>\n",
       "      <td>6.7</td>\n",
       "      <td>960</td>\n",
       "      <td>007618864067.01.0</td>\n",
       "    </tr>\n",
       "    <tr>\n",
       "      <th>25</th>\n",
       "      <td>40</td>\n",
       "      <td>1599</td>\n",
       "      <td>0.1</td>\n",
       "      <td>0.105</td>\n",
       "      <td>6.6</td>\n",
       "      <td>960</td>\n",
       "      <td>007596264066.01.0</td>\n",
       "    </tr>\n",
       "    <tr>\n",
       "      <th>26</th>\n",
       "      <td>40</td>\n",
       "      <td>1599</td>\n",
       "      <td>0.1</td>\n",
       "      <td>0.105</td>\n",
       "      <td>6.9</td>\n",
       "      <td>960</td>\n",
       "      <td>007797964069.01.0</td>\n",
       "    </tr>\n",
       "    <tr>\n",
       "      <th>27</th>\n",
       "      <td>40</td>\n",
       "      <td>1599</td>\n",
       "      <td>0.1</td>\n",
       "      <td>0.105</td>\n",
       "      <td>6.8</td>\n",
       "      <td>960</td>\n",
       "      <td>007797094068.01.0</td>\n",
       "    </tr>\n",
       "    <tr>\n",
       "      <th>28</th>\n",
       "      <td>60</td>\n",
       "      <td>3599</td>\n",
       "      <td>0.1</td>\n",
       "      <td>0.105</td>\n",
       "      <td>6.3</td>\n",
       "      <td>960</td>\n",
       "      <td>007906136063.01.0</td>\n",
       "    </tr>\n",
       "    <tr>\n",
       "      <th>29</th>\n",
       "      <td>60</td>\n",
       "      <td>3599</td>\n",
       "      <td>0.1</td>\n",
       "      <td>0.105</td>\n",
       "      <td>6.5</td>\n",
       "      <td>960</td>\n",
       "      <td>007906276065.01.0</td>\n",
       "    </tr>\n",
       "    <tr>\n",
       "      <th>30</th>\n",
       "      <td>60</td>\n",
       "      <td>3599</td>\n",
       "      <td>0.1</td>\n",
       "      <td>0.105</td>\n",
       "      <td>6.4</td>\n",
       "      <td>960</td>\n",
       "      <td>007906556064.01.0</td>\n",
       "    </tr>\n",
       "    <tr>\n",
       "      <th>31</th>\n",
       "      <td>60</td>\n",
       "      <td>3599</td>\n",
       "      <td>0.1</td>\n",
       "      <td>0.105</td>\n",
       "      <td>6.6</td>\n",
       "      <td>960</td>\n",
       "      <td>007906536066.01.0</td>\n",
       "    </tr>\n",
       "    <tr>\n",
       "      <th>32</th>\n",
       "      <td>60</td>\n",
       "      <td>3599</td>\n",
       "      <td>0.1</td>\n",
       "      <td>0.105</td>\n",
       "      <td>6.9</td>\n",
       "      <td>960</td>\n",
       "      <td>007906696069.01.0</td>\n",
       "    </tr>\n",
       "    <tr>\n",
       "      <th>33</th>\n",
       "      <td>60</td>\n",
       "      <td>3599</td>\n",
       "      <td>0.1</td>\n",
       "      <td>0.105</td>\n",
       "      <td>6.8</td>\n",
       "      <td>960</td>\n",
       "      <td>007906696068.01.0</td>\n",
       "    </tr>\n",
       "    <tr>\n",
       "      <th>34</th>\n",
       "      <td>60</td>\n",
       "      <td>3599</td>\n",
       "      <td>0.1</td>\n",
       "      <td>0.105</td>\n",
       "      <td>6.7</td>\n",
       "      <td>960</td>\n",
       "      <td>007903816067.01.0</td>\n",
       "    </tr>\n",
       "  </tbody>\n",
       "</table>\n",
       "</div>"
      ],
      "text/plain": [
       "     L  steps    a      b    w  n_runs                 ts\n",
       "0   10     99  0.1  0.105  6.3     960  983498441063.01.0\n",
       "1   10     99  0.1  0.105  6.4     960  983583251064.01.0\n",
       "2   10     99  0.1  0.105  6.5     960  983621221065.01.0\n",
       "3   10     99  0.1  0.105  6.6     960  985675531066.01.0\n",
       "4   10     99  0.1  0.105  6.7     960  985675531067.01.0\n",
       "5   10     99  0.1  0.105  6.8     960  985714541068.01.0\n",
       "6   10     99  0.1  0.105  6.9     960  985714551069.01.0\n",
       "7   20    399  0.1  0.105  6.3     960  985750852063.01.0\n",
       "8   20    399  0.1  0.105  6.4     960  985752282064.01.0\n",
       "9   20    399  0.1  0.105  6.5     960  985843672065.01.0\n",
       "10  20    399  0.1  0.105  6.6     960  985847142066.01.0\n",
       "11  20    399  0.1  0.105  6.7     960  985959872067.01.0\n",
       "12  20    399  0.1  0.105  6.8     960  006912852068.01.0\n",
       "13  20    399  0.1  0.105  6.9     960  006912852069.01.0\n",
       "14  30    899  0.1  0.105  6.4     960  006912853064.01.0\n",
       "15  30    899  0.1  0.105  6.3     960  006912853063.01.0\n",
       "16  30    899  0.1  0.105  6.5     960  007008483065.01.0\n",
       "17  30    899  0.1  0.105  6.6     960  007039003066.01.0\n",
       "18  30    899  0.1  0.105  6.7     960  007200013067.01.0\n",
       "19  30    899  0.1  0.105  6.8     960  007227903068.01.0\n",
       "20  30    899  0.1  0.105  6.9     960  007333043069.01.0\n",
       "21  40   1599  0.1  0.105  6.3     960  007382974063.01.0\n",
       "22  40   1599  0.1  0.105  6.4     960  007514184064.01.0\n",
       "23  40   1599  0.1  0.105  6.5     960  007571824065.01.0\n",
       "24  40   1599  0.1  0.105  6.7     960  007618864067.01.0\n",
       "25  40   1599  0.1  0.105  6.6     960  007596264066.01.0\n",
       "26  40   1599  0.1  0.105  6.9     960  007797964069.01.0\n",
       "27  40   1599  0.1  0.105  6.8     960  007797094068.01.0\n",
       "28  60   3599  0.1  0.105  6.3     960  007906136063.01.0\n",
       "29  60   3599  0.1  0.105  6.5     960  007906276065.01.0\n",
       "30  60   3599  0.1  0.105  6.4     960  007906556064.01.0\n",
       "31  60   3599  0.1  0.105  6.6     960  007906536066.01.0\n",
       "32  60   3599  0.1  0.105  6.9     960  007906696069.01.0\n",
       "33  60   3599  0.1  0.105  6.8     960  007906696068.01.0\n",
       "34  60   3599  0.1  0.105  6.7     960  007903816067.01.0"
      ]
     },
     "execution_count": 4,
     "metadata": {},
     "output_type": "execute_result"
    }
   ],
   "source": [
    "run_dir = \"gap_scaling_pass2/\"\n",
    "\n",
    "log_file = pd.read_csv(run_dir+\"log_file.csv\")\n",
    "ts_list = log_file['ts'].tolist()\n",
    "#log_file['L'].tolist()\n",
    "selected_files = log_file\n",
    "selected_files\n",
    "\n",
    "ts_list = selected_files['ts'].tolist()\n",
    "n_runs_list = selected_files['n_runs'].tolist()\n",
    "L_list = selected_files['L'].tolist()\n",
    "\n",
    "selected_files"
   ]
  },
  {
   "cell_type": "code",
   "execution_count": 5,
   "metadata": {},
   "outputs": [],
   "source": [
    "def output_reader(measure_list, fname):\n",
    "    J_dist_dict = [{} for _ in range(len(measure_list))]\n",
    "    h_dist_dict = [{} for _ in range(len(measure_list))]\n",
    "\n",
    "    #In1629_J_m3571\n",
    "    with open(fname, 'r') as reader:\n",
    "        next(reader)\n",
    "        for line in reader:\n",
    "            marker_end = line.find('[')\n",
    "            if line[6]=='_': inst_end = 6\n",
    "            elif line[7]=='_': inst_end = 7\n",
    "            else: print(\"Read error\")\n",
    "            inst_num = int(line[2:inst_end])\n",
    "            coupling_type = line[inst_end+1:inst_end+2]\n",
    "            if coupling_type=='r':continue\n",
    "            measure_ind = np.where(measure_list==1+int(line[inst_end+4:marker_end]))[0][0]\n",
    "            try:\n",
    "                couplings = np.array(json.loads(line[marker_end:]))\n",
    "            except:\n",
    "                print(\"Corrupted file\")\n",
    "            if coupling_type == 'h':\n",
    "                h_dist_dict[measure_ind][inst_num] = couplings\n",
    "            elif coupling_type == 'J':\n",
    "                J_dist_dict[measure_ind][inst_num] = couplings\n",
    "    \n",
    "    return [h_dist_dict, J_dist_dict]\n",
    "\n",
    "def unpack_dictionaries(file_out, measure_list):\n",
    "    h_dist_dict, J_dist_dict = file_out\n",
    "    h_dist_list, J_dist_list = [], []\n",
    "    \n",
    "    for i in range(len(measure_list)):\n",
    "        h_dist_list.append(np.concatenate(tuple(h_dist_dict[i].values())))\n",
    "        J_dist_list.append(np.concatenate(tuple(J_dist_dict[i].values())))\n",
    "        \n",
    "    return h_dist_list, J_dist_list"
   ]
  },
  {
   "cell_type": "code",
   "execution_count": 152,
   "metadata": {},
   "outputs": [],
   "source": [
    "def linear_fit(x, a ,b):\n",
    "    return x*a + b\n",
    "\n",
    "\n",
    "L_list = [60, 80]\n",
    "free_spins_L = []\n",
    "intercept_list_L = []\n",
    "slope_list_L = []\n",
    "\n",
    "for L in L_list:\n",
    "    fixed_length_slice = log_file[log_file['L']==L]\n",
    "    ts_list = np.array(fixed_length_slice['ts'].tolist())\n",
    "    n_bins_h, n_bins_J = 50, 50\n",
    "    free_spins_comp = []\n",
    "    intercept_list_comp = []\n",
    "    slope_list_comp = []\n",
    "    marker_list = []\n",
    "\n",
    "    for index,ts in enumerate(ts_list):\n",
    "\n",
    "        with open(run_dir+\"LIsing_2D_input_\"+str(ts)+\".pkl\", \"rb\") as fp:   \n",
    "            input_dict = pickle.load(fp)\n",
    "\n",
    "        measure_list = input_dict['measure_list']\n",
    "        fname = run_dir+\"LIsing_2D_output_\"+str(ts)+\".txt\"\n",
    "\n",
    "        h_dist_dict, J_dist_dict = output_reader(measure_list, fname)\n",
    "\n",
    "        h_dist_list,J_dist_list = [], []\n",
    "        for i in range(len(measure_list)-1):\n",
    "            h_dist_list.append(np.concatenate(tuple(h_dist_dict[i].values())))\n",
    "            J_dist_list.append(np.concatenate(tuple(J_dist_dict[i].values())))\n",
    "\n",
    "        spins_left = L*L - measure_list\n",
    "\n",
    "        intercept_list = []\n",
    "        slope_list = []\n",
    "        free_spins = []\n",
    "\n",
    "        for i,step in enumerate(spins_left[:-1]): \n",
    "\n",
    "            n,bins = np.histogram(h_dist_list[i], density=True, bins = n_bins_h, range=(0,12))\n",
    "            width = bins[1]-bins[0]\n",
    "            x = (bins[1:]-width/2)\n",
    "            y = n\n",
    "            popt, pcov = curve_fit(exponential_dist_norm, x[1:5], y[1:5])\n",
    "            R0_width = 1/popt[0]\n",
    "\n",
    "            n,bins = np.histogram(J_dist_list[i], bins = n_bins_J)\n",
    "            width = bins[1]-bins[0]\n",
    "            x = (bins[1:]-width/2)/R0_width\n",
    "            y = n/step/width/input_dict['n_runs']/2\n",
    "\n",
    "            popt, pcov = curve_fit(linear_fit, x[1:], y[1:])\n",
    "            slope_list.append(popt[0])\n",
    "            intercept_list.append(popt[1])\n",
    "            free_spins.append(step)\n",
    "\n",
    "        free_spins_comp.append(free_spins)\n",
    "        slope_list_comp.append(slope_list)\n",
    "        intercept_list_comp.append(intercept_list)\n",
    "    free_spins_L.append(free_spins_comp)\n",
    "    slope_list_L.append(slope_list_comp)\n",
    "    intercept_list_L.append(intercept_list_comp)"
   ]
  },
  {
   "cell_type": "code",
   "execution_count": 170,
   "metadata": {},
   "outputs": [
    {
     "data": {
      "text/plain": [
       "1280.0"
      ]
     },
     "execution_count": 170,
     "metadata": {},
     "output_type": "execute_result"
    }
   ],
   "source": [
    "80*80*0.2"
   ]
  },
  {
   "cell_type": "code",
   "execution_count": 167,
   "metadata": {},
   "outputs": [
    {
     "data": {
      "text/plain": [
       "Text(0, 0.5, 'Slope parameter')"
      ]
     },
     "execution_count": 167,
     "metadata": {},
     "output_type": "execute_result"
    },
    {
     "data": {
      "image/png": "[encoded data removed]",
      "text/plain": [
       "<Figure size 576x720 with 2 Axes>"
      ]
     },
     "metadata": {
      "needs_background": "light"
     },
     "output_type": "display_data"
    }
   ],
   "source": [
    "fig, axs = plt.subplots(2, 1, figsize=(8, 10), sharex=True)\n",
    "w_vals = fixed_length_slice['w'].tolist()\n",
    "#plt.figure(figsize=(8, 6))\n",
    "\n",
    "for index,ts in enumerate(ts_list):\n",
    "    if index%2==0: continue\n",
    "    axs[0].scatter(free_spins_comp[index], intercept_list_comp[index], label=str(w_vals[index]))\n",
    "    axs[1].scatter(free_spins_comp[index], slope_list_comp[index])\n",
    "    #plt.scatter(free_spins_comp[index], slope_list_comp[index], label=\"Width=\"+str(round(w_vals[index],2)))\n",
    "plt.gca().invert_xaxis()\n",
    "plt.xscale('log')\n",
    "#plt.yscale('log')\n",
    "plt.title(\"Slope of Scaled Bond Distribution\")\n",
    "plt.xlabel(\"Remaining Spins\")\n",
    "plt.ylabel(\"Slope parameter\")\n",
    "#plt.scatter(L*L, 0.1, marker='^')\n",
    "#axs[0].legend()"
   ]
  },
  {
   "cell_type": "code",
   "execution_count": 166,
   "metadata": {},
   "outputs": [
    {
     "data": {
      "image/png": "[encoded data removed]",
      "text/plain": [
       "<Figure size 576x432 with 1 Axes>"
      ]
     },
     "metadata": {
      "needs_background": "light"
     },
     "output_type": "display_data"
    }
   ],
   "source": [
    "plt.figure(figsize=(8, 6))\n",
    "marker_dict= {80:'o', 50:'^', 60:'s'}\n",
    "\n",
    "w_c_dict = {6.15:'red', 6.2:'blue', 6.25:'green', 6.3:'orange', 6.35:'magenta', 6.4:'cyan'}\n",
    "\n",
    "for ind, L in enumerate(L_list):\n",
    "    fixed_length_slice = log_file[log_file['L']==L]\n",
    "    w_vals = fixed_length_slice['w'].tolist()\n",
    "    for index,ts in enumerate(ts_list):\n",
    "        #if marker_list[index] != 'x': continue\n",
    "        if not (w_vals[index]>6.1 and w_vals[index]<6.45): continue\n",
    "        plt.scatter(free_spins_L[ind][index], intercept_list_L[ind][index], label=str(w_vals[index]), marker=marker_dict[L], c=w_c_dict[w_vals[index]])\n",
    "        #plt.scatter(free_spins_comp[index], slope_list_comp[index], label=str(w_vals[index]))\n",
    "        #plt.scatter(free_spins_comp[index], slope_list_comp[index], label=\"Width=\"+str(round(w_vals[index],2)))\n",
    "plt.gca().invert_xaxis()\n",
    "plt.xscale('log')\n",
    "plt.legend()\n",
    "#plt.yscale('log')\n",
    "plt.title(\"Intercept of Scaled Bond Distribution per remaining spin\")\n",
    "plt.xlabel(\"Remaining Spins\")\n",
    "plt.ylabel(\"Intercept parameter\")\n",
    "plt.savefig(\"Zeta_dist_intercept_2\")"
   ]
  },
  {
   "cell_type": "code",
   "execution_count": 22,
   "metadata": {},
   "outputs": [
    {
     "name": "stdout",
     "output_type": "stream",
     "text": [
      "[  2.34052677 -12.31525326]\n"
     ]
    },
    {
     "data": {
      "image/png": "[encoded data removed]",
      "text/plain": [
       "<Figure size 432x288 with 1 Axes>"
      ]
     },
     "metadata": {
      "needs_background": "light"
     },
     "output_type": "display_data"
    }
   ],
   "source": [
    "plt.figure(figsize=(8, 6))\n",
    "marker_dict= {40:'o', 50:'^', 60:'s'}\n",
    "\n",
    "for ind, L in enumerate(L_list):\n",
    "    fixed_length_slice = log_file[log_file['L']==L]\n",
    "    w_vals = fixed_length_slice['w'].tolist()\n",
    "    for index,ts in enumerate(ts_list):\n",
    "        #if marker_list[index] != 'x': continue\n",
    "        if not (w_vals[index]>5.7 and w_vals[index]<6.7): continue\n",
    "        plt.scatter(free_spins_L[ind][index], intercept_list_L[ind][index], label=str(w_vals[index]), marker=marker_dict[L])\n",
    "        #plt.scatter(free_spins_comp[index], slope_list_comp[index], label=str(w_vals[index]))\n",
    "        #plt.scatter(free_spins_comp[index], slope_list_comp[index], label=\"Width=\"+str(round(w_vals[index],2)))\n",
    "plt.gca().invert_xaxis()\n",
    "plt.xscale('log')\n",
    "plt.legend()\n",
    "#plt.yscale('log')\n",
    "plt.title(\"Intercept of Scaled Bond Distribution per remaining spin\")\n",
    "plt.xlabel(\"Remaining Spins\")\n",
    "plt.ylabel(\"Intercept parameter\")\n",
    "#plt.savefig(\"Zeta_dist_intercept\")"
   ]
  },
  {
   "cell_type": "code",
   "execution_count": 112,
   "metadata": {},
   "outputs": [],
   "source": [
    "L = 50\n",
    "a, b, w = 0.1, 0.105, 6.6666\n",
    "nn_ind = triangle_nn_indices(L)\n",
    "zeta_ij_vals = fill_zeta_ij_matrix_width(L*L, nn_ind, a, b, w)"
   ]
  },
  {
   "cell_type": "code",
   "execution_count": 113,
   "metadata": {},
   "outputs": [],
   "source": [
    "n,bins = np.histogram(zeta_ij_vals.data, bins=20)\n",
    "width = bins[1]-bins[0]\n",
    "x = (bins[1:]-width/2)\n",
    "y = n/(L*L)/width/2"
   ]
  },
  {
   "cell_type": "code",
   "execution_count": 114,
   "metadata": {},
   "outputs": [
    {
     "name": "stdout",
     "output_type": "stream",
     "text": [
      "[0.10444306 0.10209112]\n"
     ]
    },
    {
     "data": {
      "image/png": "[encoded data removed]",
      "text/plain": [
       "<Figure size 432x288 with 1 Axes>"
      ]
     },
     "metadata": {
      "needs_background": "light"
     },
     "output_type": "display_data"
    }
   ],
   "source": [
    "plt.scatter(x, y)\n",
    "\n",
    "popt, pcov = curve_fit(linear_fit, x, y)\n",
    "\n",
    "plt.plot(x, linear_fit(x, *popt))\n",
    "print(popt)"
   ]
  },
  {
   "cell_type": "code",
   "execution_count": 43,
   "metadata": {},
   "outputs": [],
   "source": [
    "log_file = pd.read_csv(run_dir+\"log_file.csv\")\n",
    "ts_list = np.array(log_file['ts'].tolist())\n",
    "ts = str(ts_list[33])\n",
    "\n",
    "with open(run_dir+\"LIsing_2D_input_\"+ts+\".pkl\", \"rb\") as fp:   \n",
    "    input_dict = pickle.load(fp)\n",
    "        \n",
    "with open(run_dir+\"LIsing_2D_clusters_\"+ts+\".pkl\", \"rb\") as fp:   \n",
    "    clust_list_final = pickle.load(fp)\n",
    "    \n",
    "measure_list = input_dict['measure_list']\n",
    "h_dist_dict, J_dist_dict = output_reader(measure_list, run_dir+\"LIsing_2D_output_\"+ts+\".txt\")\n",
    "    "
   ]
  },
  {
   "cell_type": "code",
   "execution_count": 32,
   "metadata": {},
   "outputs": [
    {
     "data": {
      "text/plain": [
       "array([], dtype=float64)"
      ]
     },
     "execution_count": 32,
     "metadata": {},
     "output_type": "execute_result"
    }
   ],
   "source": [
    "J_dist_dict[7][600]"
   ]
  },
  {
   "cell_type": "code",
   "execution_count": 35,
   "metadata": {},
   "outputs": [],
   "source": [
    "def get_length_scale(measure_list, h_dist_dict, J_dist_dict):\n",
    "    Omega_list = []\n",
    "    for i in range(len(measure_list)-3):\n",
    "        inst_num_list = h_dist_dict[i].keys()\n",
    "        Omegas = []\n",
    "        for inst in inst_num_list:\n",
    "            #print(i, inst)\n",
    "            beta_max = max(h_dist_dict[i][inst])\n",
    "            zeta_max = max(J_dist_dict[i][inst])\n",
    "            Omegas.append(max(beta_max, zeta_max))\n",
    "        Omega_list.append(Omegas)\n",
    "    return np.array(Omega_list)\n",
    "\n"
   ]
  },
  {
   "cell_type": "code",
   "execution_count": 44,
   "metadata": {},
   "outputs": [],
   "source": [
    "Omega_list = get_length_scale(measure_list, h_dist_dict, J_dist_dict)"
   ]
  },
  {
   "cell_type": "code",
   "execution_count": 46,
   "metadata": {},
   "outputs": [
    {
     "name": "stdout",
     "output_type": "stream",
     "text": [
      "[ 0.16431511 12.00291708]\n"
     ]
    },
    {
     "data": {
      "text/plain": [
       "[<matplotlib.lines.Line2D at 0x7efb1517da60>]"
      ]
     },
     "execution_count": 46,
     "metadata": {},
     "output_type": "execute_result"
    },
    {
     "data": {
      "image/png": "[encoded data removed]",
      "text/plain": [
       "<Figure size 432x288 with 1 Axes>"
      ]
     },
     "metadata": {
      "needs_background": "light"
     },
     "output_type": "display_data"
    }
   ],
   "source": [
    "L = input_dict['L']\n",
    "spins_left = L*L - measure_list\n",
    "x_data = 1/(spins_left[:-3]**0.5)\n",
    "y_data = Omega_list.mean(axis=1)\n",
    "plt.scatter(x_data, y_data)\n",
    "\n",
    "plt.yscale('log')\n",
    "plt.xscale('log')\n",
    "\n",
    "popt, pcov = curve_fit(power_law_scale, x_data[-2:], y_data[-2:])\n",
    "\n",
    "print(popt)\n",
    "plt.plot(x_data, power_law_scale(x_data, *popt))"
   ]
  },
  {
   "cell_type": "code",
   "execution_count": 49,
   "metadata": {},
   "outputs": [
    {
     "data": {
      "text/plain": [
       "array([3240, 3413, 3503, 3550, 3574, 3587, 3593, 3597, 3599, 3600])"
      ]
     },
     "execution_count": 49,
     "metadata": {},
     "output_type": "execute_result"
    }
   ],
   "source": [
    "L*L - gen_check_list(L*L, L*L-1, 10, 0.1)"
   ]
  },
  {
   "cell_type": "code",
   "execution_count": 6,
   "metadata": {},
   "outputs": [],
   "source": [
    "L_list = [10, 20, 30, 40, 60]\n",
    "w_vals_comp = []\n",
    "log_gap_comp = []\n",
    "log_gap_std_comp = []\n",
    "\n",
    "for L in L_list: \n",
    "    log_file = pd.read_csv(run_dir+\"log_file.csv\")\n",
    "    fixed_length_slice = log_file[lambda df: (df['L'] == L)]\n",
    "    ts_list = fixed_length_slice['ts'].tolist()\n",
    "    w_vals = fixed_length_slice['w'].tolist()\n",
    "    \n",
    "    average_log_gap = []\n",
    "    log_gap_std = []\n",
    "    \n",
    "    for index, ts in enumerate(ts_list):\n",
    "        with open(run_dir+\"LIsing_2D_input_\"+ts+\".pkl\", \"rb\") as fp:   \n",
    "            input_dict = pickle.load(fp)\n",
    "\n",
    "        #with open(run_dir+\"LIsing_2D_clusters_\"+ts+\".pkl\", \"rb\") as fp:   \n",
    "        #    clust_list_final = pickle.load(fp)\n",
    "\n",
    "        measure_list = input_dict['measure_list']\n",
    "        h_dist_dict, J_dist_dict = output_reader(measure_list, run_dir+\"LIsing_2D_output_\"+ts+\".txt\")\n",
    "    \n",
    "        for i in range(1, len(measure_list)):\n",
    "            if h_dist_dict[-i]=={}: continue\n",
    "            else:\n",
    "                log_gap_list = np.concatenate(tuple(h_dist_dict[-i].values()))\n",
    "                break\n",
    "        average_log_gap.append(log_gap_list.mean())\n",
    "        log_gap_std.append(log_gap_list.std()/np.sqrt(960-1))\n",
    "    \n",
    "    w_vals_comp.append(w_vals)\n",
    "    log_gap_comp.append(average_log_gap)\n",
    "    log_gap_std_comp.append(log_gap_std)"
   ]
  },
  {
   "cell_type": "code",
   "execution_count": 8,
   "metadata": {},
   "outputs": [
    {
     "data": {
      "text/plain": [
       "<matplotlib.legend.Legend at 0x7efb22e9f640>"
      ]
     },
     "execution_count": 8,
     "metadata": {},
     "output_type": "execute_result"
    },
    {
     "data": {
      "image/png": "[encoded data removed]",
      "text/plain": [
       "<Figure size 432x288 with 1 Axes>"
      ]
     },
     "metadata": {
      "needs_background": "light"
     },
     "output_type": "display_data"
    }
   ],
   "source": [
    "c_dict = {10:'red', 20:'blue', 40:'green', 60:'orange', 30:'purple'}\n",
    "\n",
    "for ind, L in enumerate(L_list):\n",
    "    plt.errorbar(w_vals_comp[ind], log_gap_comp[ind], yerr=np.array(log_gap_std_comp[ind]), c=c_dict[L], marker='o', linestyle='', label='L='+str(L))\n",
    "    \n",
    "#plt.yscale('log')\n",
    "plt.legend()"
   ]
  },
  {
   "cell_type": "code",
   "execution_count": 169,
   "metadata": {},
   "outputs": [
    {
     "name": "stdout",
     "output_type": "stream",
     "text": [
      "6.3 [-1.15213799  0.14192048]\n",
      "6.4 [-0.93671258  0.22568809]\n",
      "6.5 [-0.76131067  0.35633757]\n",
      "6.6 [-0.59645608  0.52431098]\n",
      "6.7 [-0.38479333  0.91867918]\n",
      "6.8 [-0.39060534  0.77083742]\n",
      "6.9 [-0.28455027  1.00776043]\n"
     ]
    },
    {
     "data": {
      "text/plain": [
       "Text(0.5, 0, 'Linear System Size (L)')"
      ]
     },
     "execution_count": 169,
     "metadata": {},
     "output_type": "execute_result"
    },
    {
     "data": {
      "image/png": "[encoded data removed]",
      "text/plain": [
       "<Figure size 576x432 with 1 Axes>"
      ]
     },
     "metadata": {
      "needs_background": "light"
     },
     "output_type": "display_data"
    }
   ],
   "source": [
    "plt.figure(figsize=(8, 6))\n",
    "norm = mpl.colors.Normalize(vmin=6.3, vmax=6.9)\n",
    "cmap = 'viridis'#\n",
    "m = cm.ScalarMappable(norm=norm, cmap=cmap)\n",
    "\n",
    "for w_ind in np.arange(6.3, 6.9, 0.1):\n",
    "    w_ind = round(w_ind, 2)\n",
    "    gap_list = []\n",
    "    gap_err_list = []\n",
    "    #if w_ind==6.3: continue\n",
    "    #print(w_ind)\n",
    "    c = m.cmap(norm(w_ind))\n",
    "    for ind, L in enumerate(L_list):\n",
    "        index = np.where(np.array(w_vals_comp[ind])==w_ind)[0][0]\n",
    "        gap_list.append(log_gap_comp[ind][index])\n",
    "        gap_err_list.append(log_gap_std_comp[ind][index])\n",
    "    plt.errorbar(np.array(L_list), gap_list, yerr=gap_err_list, marker='o', linestyle='--', label=\"w=\"+str(w_ind), color=c)\n",
    "\n",
    "    popt, pcov = curve_fit(power_law_scale, L_list[:], gap_list[:])\n",
    "    print(w_ind, popt)\n",
    "    #plt.plot(L_list, power_law_scale(L_list, *popt), c=c)\n",
    "plt.yscale('log')\n",
    "plt.xscale('log')\n",
    "plt.legend()\n",
    "#print(popt)\n",
    "plt.ylabel(r\"Log Energy Gap (log($h_C$))\")\n",
    "plt.xlabel(\"Linear System Size (L)\")"
   ]
  },
  {
   "cell_type": "code",
   "execution_count": 138,
   "metadata": {},
   "outputs": [
    {
     "data": {
      "text/plain": [
       "[6.4, 6.3, 6.5, 6.6, 6.7, 6.8, 6.9]"
      ]
     },
     "execution_count": 138,
     "metadata": {},
     "output_type": "execute_result"
    }
   ],
   "source": [
    "w_vals_comp[0]"
   ]
  },
  {
   "cell_type": "code",
   "execution_count": null,
   "metadata": {},
   "outputs": [],
   "source": []
  }
 ],
 "metadata": {
  "kernelspec": {
   "display_name": "Python 3",
   "language": "python",
   "name": "python3"
  },
  "language_info": {
   "codemirror_mode": {
    "name": "ipython",
    "version": 3
   },
   "file_extension": ".py",
   "mimetype": "text/x-python",
   "name": "python",
   "nbconvert_exporter": "python",
   "pygments_lexer": "ipython3",
   "version": "3.8.10"
  }
 },
 "nbformat": 4,
 "nbformat_minor": 4
}
