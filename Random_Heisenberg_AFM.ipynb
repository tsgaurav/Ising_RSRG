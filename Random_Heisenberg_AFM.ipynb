{
 "cells": [
  {
   "cell_type": "code",
   "execution_count": 1,
   "id": "e147c364",
   "metadata": {},
   "outputs": [],
   "source": [
    "import numpy as np\n",
    "import matplotlib.pyplot as plt\n",
    "import scipy.sparse as sp\n",
    "from scipy.optimize import curve_fit"
   ]
  },
  {
   "cell_type": "code",
   "execution_count": 2,
   "id": "61f909eb",
   "metadata": {},
   "outputs": [],
   "source": [
    "def power_law(r, psi):\n",
    "    return r**psi"
   ]
  },
  {
   "cell_type": "code",
   "execution_count": 3,
   "id": "256b700e",
   "metadata": {},
   "outputs": [
    {
     "data": {
      "image/png": "[encoded data removed]",
      "text/plain": [
       "<Figure size 432x288 with 1 Axes>"
      ]
     },
     "metadata": {
      "needs_background": "light"
     },
     "output_type": "display_data"
    }
   ],
   "source": [
    "\"\"\"\n",
    "Store a sparse matrix which contains all the couplings for bond and field strengths \n",
    "Decimate bonds according to Ma-Dasgupta while keeping track of the energy scale, number of decimated bonds, etc.\n",
    "Discard couplings below some scale, since the they are unaffected by the decimation (potentially dynamically scale it)\n",
    "\"\"\"\n",
    "\n",
    "#First pass\n",
    "\n",
    "N = 10000000\n",
    "J_vals = np.exp(-np.random.exponential(size=N))            #PM couplings\n",
    "#zeta_ij_vals = np.random.exponential(size=N)     #FM couplings\n",
    "\n",
    "plt.hist(-np.log(J_vals), density=True)\n",
    "plt.show()\n"
   ]
  },
  {
   "cell_type": "code",
   "execution_count": 4,
   "id": "f8892865",
   "metadata": {},
   "outputs": [],
   "source": [
    "dOmega = 0.005\n",
    "Omega_0 = J_vals.max()\n",
    "steps = 90\n",
    "\n",
    "Gamma_array = []\n",
    "dec_spins = []\n",
    "\n",
    "J_new = J_vals\n",
    "\n",
    "for step in range(steps):\n",
    "    \n",
    "    Omega = J_new.max()\n",
    "    Gamma_array.append(np.log(Omega_0/Omega))\n",
    "    J_mask = J_new > (Omega - dOmega)\n",
    "    #print(\"Decimated Spins = \"+str(2*J_mask.sum()))\n",
    "    J_temp = J_new\n",
    "    \n",
    "    if step == 0: dec_spins.append(2*J_mask.sum())\n",
    "    else: dec_spins.append(2*J_mask.sum()+dec_spins[-1])\n",
    "    J_site = J_new[J_mask]\n",
    "    J_pre = np.roll(J_new, -1)[J_mask]\n",
    "    J_post = np.roll(J_new, 1)[J_mask]\n",
    "\n",
    "    J_MD = J_pre * J_post/(2*Omega)\n",
    "\n",
    "    J_mask_dec = np.any([J_mask, np.roll(J_mask, 1), np.roll(J_mask, -1)], axis=0)\n",
    "    J_mask_remain = np.logical_not(J_mask_dec)\n",
    "\n",
    "    J_temp[J_mask_dec] = 0\n",
    "    J_temp[J_mask] = J_MD\n",
    "    J_new = J_temp[J_temp!=0]\n",
    "\n",
    "#plt.hist(beta_new)\n",
    "#plt.show()"
   ]
  },
  {
   "cell_type": "code",
   "execution_count": 5,
   "id": "7cd863dc",
   "metadata": {},
   "outputs": [
    {
     "data": {
      "text/plain": [
       "(array([2.51495025e-01, 5.49167694e-02, 1.19556672e-02, 2.59180727e-03,\n",
       "        5.60986342e-04, 1.19390612e-04, 2.83326435e-05, 5.74523049e-06,\n",
       "        1.10182503e-06, 3.93508938e-07]),\n",
       " array([ 0.59786175,  3.70658739,  6.81531302,  9.92403866, 13.03276429,\n",
       "        16.14148993, 19.25021556, 22.3589412 , 25.46766684, 28.57639247,\n",
       "        31.68511811]),\n",
       " <BarContainer object of 10 artists>)"
      ]
     },
     "execution_count": 5,
     "metadata": {},
     "output_type": "execute_result"
    },
    {
     "data": {
      "image/png": "[encoded data removed]",
      "text/plain": [
       "<Figure size 432x288 with 1 Axes>"
      ]
     },
     "metadata": {
      "needs_background": "light"
     },
     "output_type": "display_data"
    }
   ],
   "source": [
    "plt.hist(-np.log(J_new), density=True)"
   ]
  },
  {
   "cell_type": "code",
   "execution_count": 8,
   "id": "63061f5e",
   "metadata": {},
   "outputs": [
    {
     "data": {
      "text/plain": [
       "<matplotlib.collections.PathCollection at 0x1be55ba41c0>"
      ]
     },
     "execution_count": 8,
     "metadata": {},
     "output_type": "execute_result"
    },
    {
     "data": {
      "image/png": "[encoded data removed]",
      "text/plain": [
       "<Figure size 432x288 with 1 Axes>"
      ]
     },
     "metadata": {
      "needs_background": "light"
     },
     "output_type": "display_data"
    }
   ],
   "source": [
    "plt.scatter(Gamma_array, (N-np.array(dec_spins))/N)\n",
    "\n",
    "\n",
    "#plt.plot(Gamma_array, (np.array(Gamma_array)+1)**(-2))"
   ]
  },
  {
   "cell_type": "code",
   "execution_count": 7,
   "id": "d7f74580",
   "metadata": {},
   "outputs": [
    {
     "data": {
      "text/plain": [
       "array([-2.01145714])"
      ]
     },
     "execution_count": 7,
     "metadata": {},
     "output_type": "execute_result"
    }
   ],
   "source": [
    "x_data = (np.array(Gamma_array)+1)\n",
    "y_data = (N-np.array(dec_spins))/N\n",
    "\n",
    "popt, pcov = curve_fit(power_law, x_data, y_data)\n",
    "\n",
    "popt"
   ]
  },
  {
   "cell_type": "code",
   "execution_count": 130,
   "id": "520ac498",
   "metadata": {},
   "outputs": [
    {
     "name": "stdout",
     "output_type": "stream",
     "text": [
      "0.4968555318138056\n"
     ]
    }
   ],
   "source": [
    "psi = -1/popt[0]\n",
    "print(psi)"
   ]
  },
  {
   "cell_type": "code",
   "execution_count": null,
   "id": "cd38d8e3",
   "metadata": {},
   "outputs": [],
   "source": []
  }
 ],
 "metadata": {
  "kernelspec": {
   "display_name": "Python 3 (ipykernel)",
   "language": "python",
   "name": "python3"
  },
  "language_info": {
   "codemirror_mode": {
    "name": "ipython",
    "version": 3
   },
   "file_extension": ".py",
   "mimetype": "text/x-python",
   "name": "python",
   "nbconvert_exporter": "python",
   "pygments_lexer": "ipython3",
   "version": "3.9.12"
  }
 },
 "nbformat": 4,
 "nbformat_minor": 5
}
