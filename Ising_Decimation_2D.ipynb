{
 "cells": [
  {
   "cell_type": "code",
   "execution_count": 170,
   "id": "95298920",
   "metadata": {},
   "outputs": [],
   "source": [
    "import numpy as np\n",
    "import matplotlib.pyplot as plt"
   ]
  },
  {
   "cell_type": "code",
   "execution_count": 171,
   "id": "fc0d0792",
   "metadata": {},
   "outputs": [],
   "source": [
    "\"\"\"\n",
    "Idea is to index a 2D array using some 1D curve. Thus, there is an index mapping from each (x,y)->ind\n",
    "Further, each site also has an adjancency set. This is the set of indices that are coupled to the site by an FM interaction\n",
    "The model is defined using a 1xN field matrix and an NxN coupling matrix. The coupling matrix is sparse. N = LxW\n",
    "\"\"\"\n",
    "\n",
    "\n",
    "\n",
    "def index_map(x, y, L):\n",
    "    if x>L or y>L: return None\n",
    "    return x*L + y\n",
    "\n",
    "\n",
    "\n",
    "def square_lattice_dictionary(L):\n",
    "    \n",
    "    ind_dict = {}\n",
    "    adj_ind = {}\n",
    "    \n",
    "    for x in range(L):\n",
    "        for y in range(L):\n",
    "            ind_0 = index_map(x,y,L)\n",
    "\n",
    "            adjs = [index_map(x,(y+1)%L, L), index_map(x,(y-1)%L, L), index_map((x+1)%L,y, L), index_map((x-1)%L,y, L)]\n",
    "\n",
    "            ind_dict[ind_0] = (x,y)\n",
    "            adj_ind[ind_0] = adjs\n",
    "    return ind_dict, adj_ind\n",
    "\n",
    "ind_dict, adj_ind = square_lattice_dictionary(L)"
   ]
  },
  {
   "cell_type": "code",
   "execution_count": 172,
   "id": "238a06dc",
   "metadata": {},
   "outputs": [
    {
     "data": {
      "text/plain": [
       "[<matplotlib.lines.Line2D at 0x218e7ea6a30>]"
      ]
     },
     "execution_count": 172,
     "metadata": {},
     "output_type": "execute_result"
    },
    {
     "data": {
      "image/png": "[encoded data removed]",
      "text/plain": [
       "<Figure size 432x288 with 1 Axes>"
      ]
     },
     "metadata": {
      "needs_background": "light"
     },
     "output_type": "display_data"
    }
   ],
   "source": [
    "def random_custDist(a,b,custDist,size=None, nControl=10**6):\n",
    "    #genearte a list of size random samples, obeying the distribution custDist\n",
    "    #suggests random samples between x0 and x1 and accepts the suggestion with probability custDist(x)\n",
    "    #custDist noes not need to be normalized. Add this condition to increase performance. \n",
    "    #Best performance for max_{x in [x0,x1]} custDist(x) = 1\n",
    "    samples=[]\n",
    "    nLoop=0\n",
    "    \n",
    "    low = 0\n",
    "    high = (np.sqrt(a**2 + 2*b) - a)/b\n",
    "    \n",
    "    while len(samples)<size and nLoop<nControl:\n",
    "        x=np.random.uniform(low=low,high=high)\n",
    "        prop=custDist(x, a, b)\n",
    "        assert prop>=0 and prop<=1\n",
    "        if np.random.uniform(low=0,high=1) <=prop:\n",
    "            samples += [x]\n",
    "        nLoop+=1\n",
    "    return samples\n",
    "\n",
    "#call\n",
    "a=0.1\n",
    "b=0.105\n",
    "def custDist(x, a, b):\n",
    "    return a + b*x\n",
    "samples=random_custDist(a,b,custDist=custDist,size=100000)\n",
    "#print(samples)\n",
    "\n",
    "plt.hist(samples, density=True, bins = 20)\n",
    "\n",
    "x = np.linspace(0, (np.sqrt(a**2 + 2*b) - a)/b, 1000)\n",
    "\n",
    "plt.plot(x, custDist(x, a, b))"
   ]
  },
  {
   "cell_type": "code",
   "execution_count": 150,
   "id": "e1ed2751",
   "metadata": {},
   "outputs": [],
   "source": [
    "def update_adjacency_J_ij(adj_ind, i, j):\n",
    "    #Updates adjaceny set of i with that of j\n",
    "    #Also deletes index from the adjacency list of other indices\n",
    "    adj_i = adj_ind[i]\n",
    "    adj_j = adj_ind[j]\n",
    "    \n",
    "    adj_i_new = list(set(adj_i+adj_j))\n",
    "    adj_i_new = list(set(adj_i_new)-set([i, j]))\n",
    "    adj_ind[i] = adj_i_new\n",
    "    adj_ind[j] = []\n",
    "    \n",
    "    for k in adj_i_new:\n",
    "        adj_ind[k] = list(set(adj_ind[k]+[i])-set([j]))\n",
    "        \n",
    "    return None\n",
    "\n",
    "def update_adjacency_h(adj_ind, i):\n",
    "    #Updates adjacency set of every element in adj(i) with adj(i)\n",
    "    #Also deletes index i from adj(k) for all k in adj(i)\n",
    "    adj_i = adj_ind[i]\n",
    "    \n",
    "    for k in adj_ind[i]:\n",
    "        adj_ind[k] = list(set(adj_ind[k]+adj_i)-set([i]))\n",
    "        \n",
    "    adj_ind[i] = []\n",
    "    return None\n",
    "    "
   ]
  },
  {
   "cell_type": "code",
   "execution_count": 238,
   "id": "6c6a75b5",
   "metadata": {},
   "outputs": [],
   "source": [
    "L = 40\n",
    "a_vals = np.array([0.1])#np.arange(0.05, 0.2, 0.02)\n",
    "b_vals = np.array([0.1])#np.arange(0.1,0.3,0.03)\n",
    "\n",
    "#h_vals = np.array(random_custDist(a,b,custDist=custDist,size=L*L))\n",
    "#J_ij_vals = np.zeros(shape=(L*L,L*L))\n",
    "\n",
    "#for ind in range(L*L):\n",
    "#    J_ij_vals[ind, adj_ind[ind]] = np.exp(-np.random.exponential(size=(1,len(adj_ind[0]))))\n",
    "\n",
    "#J_ij_vals = 0.5*(J_ij_vals+J_ij_vals.T)"
   ]
  },
  {
   "cell_type": "code",
   "execution_count": 241,
   "id": "cf29621b",
   "metadata": {},
   "outputs": [
    {
     "name": "stdout",
     "output_type": "stream",
     "text": [
      "Step: 0/1500\n",
      "Step: 500/1500\n"
     ]
    },
    {
     "name": "stderr",
     "output_type": "stream",
     "text": [
      "C:\\Users\\tsgau\\AppData\\Local\\Temp\\ipykernel_7496\\3228837526.py:22: RuntimeWarning: divide by zero encountered in double_scalars\n",
      "  Gamma_array[l,m,step] = (np.log(Omega_0/Omega))\n",
      "C:\\Users\\tsgau\\AppData\\Local\\Temp\\ipykernel_7496\\3228837526.py:36: RuntimeWarning: invalid value encountered in double_scalars\n",
      "  h_vals[i] = h_vals[i]*h_vals[j]/Omega    #Might need to include a factor of 2 here since we are symmetrizing later\n"
     ]
    },
    {
     "name": "stdout",
     "output_type": "stream",
     "text": [
      "Step: 1000/1500\n"
     ]
    }
   ],
   "source": [
    "steps = 1500\n",
    "Gamma_array = np.zeros(shape=(len(a_vals), len(b_vals), steps))\n",
    "\n",
    "\n",
    "for l, a in enumerate(a_vals):\n",
    "    for m, b in enumerate(b_vals):\n",
    "        \n",
    "        ind_dict, adj_ind = square_lattice_dictionary(L)\n",
    "        \n",
    "        J_ij_vals = np.zeros(shape=(L*L,L*L))\n",
    "\n",
    "        for ind in range(L*L):\n",
    "            J_ij_vals[ind, adj_ind[ind]] = np.exp(-np.random.exponential(size=(1,len(adj_ind[0]))))\n",
    "\n",
    "        J_ij_vals = 0.5*(J_ij_vals+J_ij_vals.T)\n",
    "        h_vals = np.array(random_custDist(a,b,custDist=custDist,size=L*L))\n",
    "        Omega_0 = max(h_vals.max(), 2*J_ij_vals.max())\n",
    "        for step in range(steps):\n",
    "    \n",
    "            if step%500 == 0: print (\"Step: \"+str(step)+\"/\"+str(steps))\n",
    "            Omega = max(h_vals.max(), 2*J_ij_vals.max())\n",
    "            Gamma_array[l,m,step] = (np.log(Omega_0/Omega))\n",
    "\n",
    "            if Omega == 2*J_ij_vals.max():\n",
    "                \"\"\"\n",
    "                Strongest term is an Ising coupling -> Renormalizes to a field given by h_i * h_j/J_ij\n",
    "                Delete one of the elements (say h_i), shortening h_vals\n",
    "                Update adjacency of j to include both adj(i) and adj(j)\n",
    "                Set new Jnew_jk = max (J_jk, J_ik)\n",
    "                Delete the corresponding row and column in J_ij (J_i* and J*i) and set the adjacency of i to []\n",
    "                \"\"\"\n",
    "                i_list, j_list = np.asarray(J_ij_vals == J_ij_vals.max()).nonzero()\n",
    "                i = i_list[0]\n",
    "                j = j_list[0]\n",
    "\n",
    "                h_vals[i] = h_vals[i]*h_vals[j]/Omega    #Might need to include a factor of 2 here since we are symmetrizing later\n",
    "                h_vals[j] = 0\n",
    "\n",
    "                update_adjacency_J_ij(adj_ind, i, j)\n",
    "\n",
    "                J_ij_vals[i,adj_ind[i]] = np.maximum(J_ij_vals[i, adj_ind[i]], J_ij_vals[j, adj_ind[i]])\n",
    "\n",
    "                J_ij_vals[j,:] = 0\n",
    "                J_ij_vals[:,j] = 0\n",
    "\n",
    "                J_ij_vals = 0.5*(J_ij_vals+J_ij_vals.T)\n",
    "\n",
    "            elif Omega == h_vals.max():\n",
    "                \"\"\"\n",
    "                \"\"\"\n",
    "                i = np.where(h_vals == h_vals.max())[0][0]\n",
    "                adj_i = adj_ind[i]\n",
    "                J_ij_new = np.einsum('j,k->jk', J_ij_vals[adj_i, i], J_ij_vals[i, adj_i])/Omega\n",
    "\n",
    "                J_ij_vals[adj_i, :][:, adj_i] = np.maximum(J_ij_new, J_ij_vals[adj_i,:][:, adj_i])\n",
    "\n",
    "                h_vals[i] = 0\n",
    "\n",
    "                J_ij_vals[i,:] = 0\n",
    "                J_ij_vals[:,i] = 0\n",
    "\n",
    "                update_adjacency_h(adj_ind, i)"
   ]
  },
  {
   "cell_type": "code",
   "execution_count": 242,
   "id": "be41772c",
   "metadata": {},
   "outputs": [
    {
     "data": {
      "text/plain": [
       "<matplotlib.legend.Legend at 0x218ec85d130>"
      ]
     },
     "execution_count": 242,
     "metadata": {},
     "output_type": "execute_result"
    },
    {
     "data": {
      "image/png": "[encoded data removed]",
      "text/plain": [
       "<Figure size 864x648 with 1 Axes>"
      ]
     },
     "metadata": {
      "needs_background": "light"
     },
     "output_type": "display_data"
    }
   ],
   "source": [
    "n_array = (- np.arange(steps)+(L*L))/(L*L)\n",
    "plt.figure(figsize=(12, 9))\n",
    "for l, a in enumerate(a_vals):\n",
    "    for m, b in enumerate(b_vals):\n",
    "        plt.scatter(Gamma_array[l,m,:],  n_array, s=10, label=\"(\"+str(a)+', '+str(b)+\")\")\n",
    "plt.plot(Gamma_array[0,0,:], (Gamma_array[0,0,:]+1)**(-1/0.42))\n",
    "plt.legend()"
   ]
  },
  {
   "cell_type": "code",
   "execution_count": 51,
   "id": "9e618e47",
   "metadata": {},
   "outputs": [],
   "source": [
    "class Site:\n",
    "    def __init__(self, ind, adj):\n",
    "        self.ind = ind\n",
    "        self.adj = adj\n",
    "        return  None\n",
    "    \n",
    "    def add_adj_ind(self, adj_ext):\n",
    "        self.adj = list(set(self.adj+adj_ext))\n",
    "        return None\n",
    "    \n",
    "    def rm_adj_ind(self, adj_rm):\n",
    "        self.adj = list(set(self.adj)-set(adj_rm))\n",
    "        return None\n"
   ]
  },
  {
   "cell_type": "code",
   "execution_count": 94,
   "id": "7f1f4b53",
   "metadata": {},
   "outputs": [
    {
     "data": {
      "text/plain": [
       "7"
      ]
     },
     "execution_count": 94,
     "metadata": {},
     "output_type": "execute_result"
    }
   ],
   "source": [
    "L = 3\n",
    "\n",
    "lat_ind, adj_ind = square_lattice_dictionary(L)\n",
    "\n",
    "J_ij_vals = np.zeros(shape=(L*L,L*L))\n",
    "h_vals = np.random.uniform(size=(L*L))\n",
    "\n",
    "for ind in range(L*L):\n",
    "    J_ij_vals[ind, adj_ind[ind]] = np.random.uniform(size=(1,len(adj_ind[ind])))\n",
    "    \n",
    "J = (J_ij_vals+ J_ij_vals.T)/2\n",
    "\n",
    "Omega = h_vals.max()\n",
    "#i,j = np.asarray(J == J.max()).nonzero()\n",
    "i = np.where(h_vals == h_vals.max())[0][0]\n",
    "i"
   ]
  },
  {
   "cell_type": "code",
   "execution_count": 95,
   "id": "dbcad7bf",
   "metadata": {},
   "outputs": [],
   "source": [
    "adj_i = adj_ind[i]\n",
    "J_ij_new = np.einsum('j,k->jk', J[adj_i, i], J[i, adj_i])/Omega"
   ]
  },
  {
   "cell_type": "code",
   "execution_count": 96,
   "id": "c8555b63",
   "metadata": {},
   "outputs": [
    {
     "data": {
      "text/plain": [
       "array([[0.40231992, 0.30348908, 0.38446669, 0.56169656],\n",
       "       [0.30348908, 0.22893627, 0.29002154, 0.42371448],\n",
       "       [0.38446669, 0.29002154, 0.36740571, 0.53677088],\n",
       "       [0.56169656, 0.42371448, 0.53677088, 0.78420931]])"
      ]
     },
     "execution_count": 96,
     "metadata": {},
     "output_type": "execute_result"
    }
   ],
   "source": [
    "J_ij_new"
   ]
  },
  {
   "cell_type": "code",
   "execution_count": 109,
   "id": "d0bc0683",
   "metadata": {},
   "outputs": [
    {
     "data": {
      "text/plain": [
       "array([[0.        , 0.60183954, 0.        , 0.        ],\n",
       "       [0.60183954, 0.        , 0.        , 0.        ],\n",
       "       [0.        , 0.        , 0.        , 0.77348444],\n",
       "       [0.        , 0.        , 0.77348444, 0.        ]])"
      ]
     },
     "execution_count": 109,
     "metadata": {},
     "output_type": "execute_result"
    }
   ],
   "source": [
    "J[adj_i, :][:,adj_i]"
   ]
  },
  {
   "cell_type": "code",
   "execution_count": 113,
   "id": "4e4d5ebf",
   "metadata": {},
   "outputs": [
    {
     "data": {
      "text/plain": [
       "array([[0.40231992, 0.60183954, 0.38446669, 0.56169656],\n",
       "       [0.60183954, 0.22893627, 0.29002154, 0.42371448],\n",
       "       [0.38446669, 0.29002154, 0.36740571, 0.77348444],\n",
       "       [0.56169656, 0.42371448, 0.77348444, 0.78420931]])"
      ]
     },
     "execution_count": 113,
     "metadata": {},
     "output_type": "execute_result"
    }
   ],
   "source": [
    "np.maximum(J_ij_new, J[adj_i, :][:,adj_i])"
   ]
  },
  {
   "cell_type": "code",
   "execution_count": 111,
   "id": "f655bb86",
   "metadata": {},
   "outputs": [
    {
     "data": {
      "text/plain": [
       "array([[1, 3],\n",
       "       [7, 9]])"
      ]
     },
     "execution_count": 111,
     "metadata": {},
     "output_type": "execute_result"
    }
   ],
   "source": [
    "A = np.array([[1,2,3],[4,5,6],[7,8,9]])\n",
    "\n",
    "ind_a = [0,2]\n",
    "\n",
    "A[ind_a, :][:, ind_a]"
   ]
  },
  {
   "cell_type": "code",
   "execution_count": 112,
   "id": "661b36af",
   "metadata": {},
   "outputs": [
    {
     "data": {
      "text/plain": [
       "array([[1, 2, 3],\n",
       "       [4, 5, 6],\n",
       "       [7, 8, 9]])"
      ]
     },
     "execution_count": 112,
     "metadata": {},
     "output_type": "execute_result"
    }
   ],
   "source": [
    "A"
   ]
  },
  {
   "cell_type": "code",
   "execution_count": null,
   "id": "3d4f2e74",
   "metadata": {},
   "outputs": [],
   "source": []
  }
 ],
 "metadata": {
  "kernelspec": {
   "display_name": "Python 3 (ipykernel)",
   "language": "python",
   "name": "python3"
  },
  "language_info": {
   "codemirror_mode": {
    "name": "ipython",
    "version": 3
   },
   "file_extension": ".py",
   "mimetype": "text/x-python",
   "name": "python",
   "nbconvert_exporter": "python",
   "pygments_lexer": "ipython3",
   "version": "3.9.12"
  }
 },
 "nbformat": 4,
 "nbformat_minor": 5
}
