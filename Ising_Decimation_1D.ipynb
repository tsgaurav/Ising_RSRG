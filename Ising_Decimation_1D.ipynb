{
 "cells": [
  {
   "cell_type": "code",
   "execution_count": 136,
   "id": "e147c364",
   "metadata": {},
   "outputs": [],
   "source": [
    "import numpy as np\n",
    "import matplotlib.pyplot as plt\n",
    "import scipy.sparse as sp\n",
    "from scipy.optimize import curve_fit"
   ]
  },
  {
   "cell_type": "code",
   "execution_count": 137,
   "id": "61f909eb",
   "metadata": {},
   "outputs": [],
   "source": [
    "def power_law(r, psi):\n",
    "    return r**psi"
   ]
  },
  {
   "cell_type": "code",
   "execution_count": 209,
   "id": "256b700e",
   "metadata": {},
   "outputs": [
    {
     "data": {
      "image/png": "[encoded data removed]",
      "text/plain": [
       "<Figure size 432x288 with 1 Axes>"
      ]
     },
     "metadata": {
      "needs_background": "light"
     },
     "output_type": "display_data"
    }
   ],
   "source": [
    "\"\"\"\n",
    "Store a sparse matrix which contains all the couplings for bond and field strengths \n",
    "Decimate bonds according to Ma-Dasgupta while keeping track of the energy scale, number of decimated bonds, etc.\n",
    "Discard couplings below some scale, since the they are unaffected by the decimation (potentially dynamically scale it)\n",
    "\"\"\"\n",
    "\n",
    "#First pass\n",
    "\n",
    "N = 10000\n",
    "J_ij_vals = np.exp(-np.random.exponential(size=N))            #FM couplings\n",
    "h_vals = np.exp(-np.random.exponential(size=N))               #PM couplings\n",
    "\n",
    "plt.hist(J_ij_vals, density=True)\n",
    "plt.show()\n"
   ]
  },
  {
   "cell_type": "code",
   "execution_count": 215,
   "id": "f8892865",
   "metadata": {},
   "outputs": [
    {
     "data": {
      "text/plain": [
       "<matplotlib.legend.Legend at 0x20397461970>"
      ]
     },
     "execution_count": 215,
     "metadata": {},
     "output_type": "execute_result"
    },
    {
     "data": {
      "image/png": "[encoded data removed]",
      "text/plain": [
       "<Figure size 432x288 with 1 Axes>"
      ]
     },
     "metadata": {
      "needs_background": "light"
     },
     "output_type": "display_data"
    }
   ],
   "source": [
    "#dOmega = 0.005\n",
    "\n",
    "\n",
    "fig, plot = plt.subplots()\n",
    "\n",
    "for N in [100000]:\n",
    "    \n",
    "    steps = int(0.9*N)\n",
    "    J_ij_vals = np.exp(-np.random.exponential(size=N))            #FM couplings\n",
    "    h_vals = np.exp(-np.random.exponential(size=N))                       #PM couplings       \n",
    "    Gamma_array = []\n",
    "\n",
    "\n",
    "    #dec_spins = []\n",
    "\n",
    "    for step in range(steps):\n",
    "\n",
    "        Omega_0 = max(J_ij_vals.max(), h_vals.max())\n",
    "        Gamma_array.append(Omega_0)\n",
    "\n",
    "        if Omega_0 == J_ij_vals.max():\n",
    "            k = np.where(J_ij_vals == Omega_0)[0]\n",
    "            h_vals[k] = h_vals[k] * h_vals[(k+1)%len(h_vals)]/Omega_0\n",
    "\n",
    "            h_vals[(k+1)%len(h_vals)] = 0\n",
    "            J_ij_vals[k] = 0\n",
    "\n",
    "        elif Omega_0 == h_vals.max():\n",
    "            k = np.where(h_vals == Omega_0)[0]\n",
    "            J_ij_vals[k] = J_ij_vals[k]*J_ij_vals[k-1]/Omega_0\n",
    "\n",
    "            J_ij_vals[k-1] = 0\n",
    "            h_vals[k] = 0\n",
    "\n",
    "        h_vals = h_vals[h_vals!=0]\n",
    "        J_ij_vals = J_ij_vals[J_ij_vals!=0]\n",
    "\n",
    "    trunc_N = int(N*0)\n",
    "\n",
    "    Gamma_trunc = Gamma_array[trunc_N:]\n",
    "\n",
    "    n_array = (-np.arange(len(Gamma_trunc))/(N-trunc_N) + 1)\n",
    "    Gammas = np.array(Gamma_trunc)\n",
    "    Gammas = np.log(Gammas[0]/Gammas)\n",
    "\n",
    "\n",
    "    plot.plot(Gammas, n_array, label=\"N=\"+str(N))\n",
    "\n",
    "plot.legend()"
   ]
  },
  {
   "cell_type": "code",
   "execution_count": 216,
   "id": "63061f5e",
   "metadata": {},
   "outputs": [
    {
     "data": {
      "text/plain": [
       "Text(0.5, 0, 'Flow parameter $\\\\Gamma = ln(\\\\Omega_0/\\\\Omega)$')"
      ]
     },
     "execution_count": 216,
     "metadata": {},
     "output_type": "execute_result"
    },
    {
     "data": {
      "image/png": "[encoded data removed]",
      "text/plain": [
       "<Figure size 432x288 with 1 Axes>"
      ]
     },
     "metadata": {
      "needs_background": "light"
     },
     "output_type": "display_data"
    }
   ],
   "source": [
    "trunc_N = int(N*0)\n",
    "\n",
    "Gamma_trunc = Gamma_array[trunc_N:]\n",
    "\n",
    "n_array = (-np.arange(len(Gamma_trunc))/(N-trunc_N) + 1)\n",
    "Gammas = np.array(Gamma_trunc)\n",
    "Gammas = np.log(Gammas[0]/Gammas)\n",
    "\n",
    "fig, plot = plt.subplots()\n",
    "plot.scatter(Gammas, n_array)\n",
    "plot.plot(Gammas, (Gammas+1)**-2)\n",
    "#plot.invert_xaxis()\n",
    "plt.ylabel(\"Remaining (Free) Spin Density\")\n",
    "plt.xlabel(r\"Flow parameter $\\Gamma = ln(\\Omega_0/\\Omega)$\")"
   ]
  },
  {
   "cell_type": "code",
   "execution_count": 217,
   "id": "d7f74580",
   "metadata": {},
   "outputs": [
    {
     "data": {
      "text/plain": [
       "array([-2.0067107])"
      ]
     },
     "execution_count": 217,
     "metadata": {},
     "output_type": "execute_result"
    }
   ],
   "source": [
    "x_data = Gammas + 1\n",
    "y_data = n_array\n",
    "\n",
    "popt, pcov = curve_fit(power_law, x_data, y_data)\n",
    "\n",
    "popt"
   ]
  },
  {
   "cell_type": "code",
   "execution_count": 182,
   "id": "520ac498",
   "metadata": {},
   "outputs": [
    {
     "data": {
      "text/plain": [
       "(array([1.05301446e-01, 4.31660482e-02, 1.79813626e-02, 7.45481065e-03,\n",
       "        3.61064323e-03, 1.38318173e-03, 3.95194781e-04, 2.51487588e-04,\n",
       "        7.18535966e-05, 1.79633992e-05]),\n",
       " array([ 2.22443068,  7.79130581, 13.35818094, 18.92505607, 24.4919312 ,\n",
       "        30.05880633, 35.62568146, 41.19255659, 46.75943172, 52.32630685,\n",
       "        57.89318198]),\n",
       " <BarContainer object of 10 artists>)"
      ]
     },
     "execution_count": 182,
     "metadata": {},
     "output_type": "execute_result"
    },
    {
     "data": {
      "image/png": "[encoded data removed]",
      "text/plain": [
       "<Figure size 432x288 with 1 Axes>"
      ]
     },
     "metadata": {
      "needs_background": "light"
     },
     "output_type": "display_data"
    }
   ],
   "source": [
    "plt.hist(-np.log(J_ij_vals), density=True)"
   ]
  },
  {
   "cell_type": "code",
   "execution_count": null,
   "id": "006c12e9",
   "metadata": {},
   "outputs": [],
   "source": []
  }
 ],
 "metadata": {
  "kernelspec": {
   "display_name": "Python 3 (ipykernel)",
   "language": "python",
   "name": "python3"
  },
  "language_info": {
   "codemirror_mode": {
    "name": "ipython",
    "version": 3
   },
   "file_extension": ".py",
   "mimetype": "text/x-python",
   "name": "python",
   "nbconvert_exporter": "python",
   "pygments_lexer": "ipython3",
   "version": "3.9.12"
  }
 },
 "nbformat": 4,
 "nbformat_minor": 5
}
